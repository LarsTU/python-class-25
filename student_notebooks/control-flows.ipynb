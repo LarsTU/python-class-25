{
 "cells": [
  {
   "cell_type": "markdown",
   "id": "88f41f82-a77b-46c6-9fe0-8d9845c84a73",
   "metadata": {},
   "source": [
    "# Control flows\n",
    "\n",
    "**References**:\n",
    "+ https://realpython.com/python-traceback/\n",
    "+ Fluent Python\n",
    "\n",
    "**Content**:\n",
    "+ Conditionals\n",
    "    + if-statement\n",
    "    + if-else statement\n",
    "    + chained conditional\n",
    "    + nested conditional\n",
    "    + keyboard input\n",
    "+ Iterations\n",
    "    + for-loop\n",
    "    + looping and counting\n",
    "    + while, break, continue "
   ]
  },
  {
   "cell_type": "markdown",
   "id": "7ec2b06d-0d82-4402-a07c-ad5fcdf71b67",
   "metadata": {},
   "source": [
    "## Conditionals\n",
    "\n",
    "### if-statement\n",
    "+ provides the ability to check conditions and change the behavior of the program accordingly\n",
    "+ `if` is a Python keyword\n",
    "+ structure of an **if-statement**:\n",
    "    + start with Python keyword `if`\n",
    "    + boolean expression after `if` is called the **condition**\n",
    "    + If the condition is true, the statements in the indented block run. If not, they don’t.\n",
    "+ There is no limit to the **number of statements** that can appear in the indented block, but there has to be at least one\n",
    "+ sometimes it is useful to have a block that does nothing; we use `pass` for this (e.g., as a placeholder for code that will be implemented later, but the condition should already be considered in the workflow)"
   ]
  },
  {
   "cell_type": "code",
   "execution_count": 1,
   "id": "94054870-0f62-4702-a605-68baca61db76",
   "metadata": {},
   "outputs": [],
   "source": [
    "# example of an if-statement (change x = 5 and x = -5)\n",
    "# if x is positive print 'x is positive'\n",
    "\n",
    "# example of an if-statement with a block that does nothing\n"
   ]
  },
  {
   "cell_type": "markdown",
   "id": "946e799d-d4cd-49a2-85de-3d20a37c1775",
   "metadata": {},
   "source": [
    "### if-else statement\n",
    "+ If the condition is true, the first indented statement runs (after `if`)\n",
    "+ otherwise, the second indented statement runs (after `else`)\n",
    "+ Since the condition must be true or false, exactly one of the alternatives will run.\n",
    "+ The alternatives are called **branches**."
   ]
  },
  {
   "cell_type": "code",
   "execution_count": 2,
   "id": "8a52c492-bae1-4352-8680-a4fba293a0ca",
   "metadata": {},
   "outputs": [],
   "source": [
    "# example of an if-else statement (change x = 4; x = 5)\n",
    "# if the remainder of x divided by 2 is zero print 'x is even' otherwise 'x is odd'\n"
   ]
  },
  {
   "cell_type": "markdown",
   "id": "0068680a-a8ce-4a1c-92e3-9e04751cb712",
   "metadata": {},
   "source": [
    "### Chained conditionals\n",
    "+ Sometimes there are **more than two possibilities** and we need more than two branches.\n",
    "+ One way to express a computation like that is a chained conditional, which includes an `elif` clause\n",
    "+ `elif` is an abbreviation of **else if**\n",
    "+ There is no limit on the number of `elif` clauses\n",
    "+ If there is an `else` clause, it has to be at the end, but there doesn’t have to be one."
   ]
  },
  {
   "cell_type": "code",
   "execution_count": 3,
   "id": "01417afb-63d2-4907-b5cb-3e0d1deb9b35",
   "metadata": {},
   "outputs": [],
   "source": [
    "# example of a chained conditional\n",
    "# if x is smaller than y print 'x is less than y', if x is greater than y print 'x is greater than y', otherwise print 'x and y are equal'\n"
   ]
  },
  {
   "cell_type": "markdown",
   "id": "3c7555cb-3f7a-4ad4-a24c-004ef2334e04",
   "metadata": {},
   "source": [
    "### Nested conditionals\n",
    "+ One conditional can also be nested within another\n",
    "+ But: nested conditionals can be **difficult to read** and should be avoided\n",
    "+ better: use logical operators (such as `and`, `or`, etc.) to simplify nested conditional statements"
   ]
  },
  {
   "cell_type": "code",
   "execution_count": 4,
   "id": "d559ebed-fa98-4b1e-bdb8-028c2cb9496b",
   "metadata": {},
   "outputs": [],
   "source": [
    "# example of a nested conditional\n",
    "# if x equals y print 'x and y are equal', \n",
    "# otherwise: if x is smaller than y print 'x is less than y', \n",
    "# otherwise print 'x is greater than y'\n",
    "\n",
    "\n",
    "# use of logical operators to avoid nested conditionals\n",
    "## example with nested conditional\n",
    "## if x is positive; if x is smaller 10: print 'x is a positive single-digit number'\n",
    "\n",
    "        \n",
    "## same example with logical operator avoiding nested structure\n",
    "## if x is positive AND smaller 10: print 'x is a positive single-digit number'\n",
    "\n"
   ]
  },
  {
   "cell_type": "markdown",
   "id": "52c5e4a6-0fd9-4021-98b9-11dbf407085d",
   "metadata": {},
   "source": [
    "### Keyboard input\n",
    "\n",
    "+ Python provides the `input` function which gets **input from the keyboard**.\n",
    "+ When this function is called, the program stops and **waits for the user** to type something.\n",
    "+ When the user presses Return or Enter, the program resumes and raw_input returns what the user typed as a string."
   ]
  },
  {
   "cell_type": "code",
   "execution_count": 5,
   "id": "36bfafa7-73cc-4d75-af9c-50759330f020",
   "metadata": {},
   "outputs": [],
   "source": [
    "# Ask the user for their name and welcome the user\n"
   ]
  },
  {
   "cell_type": "code",
   "execution_count": 6,
   "id": "961d7b96-54ea-49cf-a379-ade612cbf865",
   "metadata": {},
   "outputs": [],
   "source": [
    "# ask the user for the input of two numbers, a and b, and return the sum of both numbers\n",
    "# fstring\n"
   ]
  },
  {
   "cell_type": "markdown",
   "id": "4e3aee8a-2679-41ce-8b87-1e4f239fa8a2",
   "metadata": {},
   "source": [
    "## Iteration\n",
    "### for-loop\n",
    "+ An other aspect of control flows is **looping** over objects\n",
    "+ A statement for repetition is the `for` statement\n",
    "+ **syntax** of a `for` statement:\n",
    "    + start with Python keyword `for` followed by a condition (=**header**)\n",
    "    + header ends with a colon\n",
    "    + **body** consists of statements that are in an indented block after the header\n",
    "+ body can contain any number of statements.\n",
    "+ A `for` statement is sometimes called a **loop** because the flow of execution runs through the body and then loops back to the top. "
   ]
  },
  {
   "cell_type": "code",
   "execution_count": 8,
   "id": "d8b92c09-2a60-4bdf-a059-2a214a8a8559",
   "metadata": {},
   "outputs": [],
   "source": [
    "# example for a simple for-loop\n",
    "# iterate over a list from 1 to 4 and print the index\n",
    "\n",
    "\n",
    "# for-loop with conditionals\n",
    "# iterate over each letter in the word 'Hello' and print \"vowel\" if the letter is a vowel or \"consonant\" if the letter is a consonant\n",
    "\n"
   ]
  },
  {
   "cell_type": "markdown",
   "id": "49ba2e43-408b-4184-b1ea-591b7ea12c40",
   "metadata": {},
   "source": [
    "**Helpful ideas when working with for-loops:**\n",
    "+ use `range` to create a list with a specified range of numbers\n",
    "+ use `zip` to combine two lists\n",
    "+ use `enumerate` to count over a list\n",
    "+ the module [**itertools**](https://docs.python.org/3/library/itertools.html) provides a lot of possibilities to iterate efficiently (e.g., `product`)\n",
    "+ you can use `_` if you want to suppress certain indices"
   ]
  },
  {
   "cell_type": "code",
   "execution_count": 9,
   "id": "9cbf6415-2de5-4afd-aa22-f7fdf70b8502",
   "metadata": {},
   "outputs": [],
   "source": [
    "# example loop with range\n",
    "\n",
    "\n",
    "# use different starting values for range\n",
    "\n",
    "\n",
    "# example loop with zip\n",
    "\n",
    "\n",
    "# example loop with enumerate\n",
    "\n",
    "\n",
    "# example loop with itertools.product\n",
    "\n",
    "\n",
    "# example loop with use of nested lists and suppres output with `_`\n",
    "\n"
   ]
  },
  {
   "cell_type": "markdown",
   "id": "e1fcaf94-d5fb-4366-b064-c11eb37c2e5a",
   "metadata": {},
   "source": [
    "### Looping and counting\n",
    "+ A variable used to count the number of times something happens, is called a **counter**\n",
    "+ alternative way of counting is using the incrementation `=+`, `=-`, `=*`"
   ]
  },
  {
   "cell_type": "code",
   "execution_count": 10,
   "id": "6b8c7577-de88-45f9-ad5b-271e38739618",
   "metadata": {},
   "outputs": [],
   "source": [
    "# count words that start with \"e\" or \"d\"\n",
    "\n",
    "# initialize counters\n",
    "\n",
    "# loop over words\n",
    "\n",
    "        \n",
    "# print the number of words starting with e or d\n",
    "\n",
    "\n",
    "## alternative way of counting\n",
    "# loop over words\n",
    "\n",
    "\n",
    "# further examples with incrementation *=, -=, +=\n",
    "\n"
   ]
  },
  {
   "cell_type": "markdown",
   "id": "8f25314f-ace4-4ebb-96da-aa648956118a",
   "metadata": {},
   "source": [
    "### While, Break, Continue\n",
    "\n",
    "+ `While` loops over a body until a condition does no longer hold\n",
    "+ `Continue` skips to the next turn of a loop\n",
    "+ `Break` stops the loop early\n",
    "+ Sometimes you don’t know it’s time to end a loop until you get half way through the body. In that case you can use the `break` statement to jump out of the loop.\n"
   ]
  },
  {
   "cell_type": "code",
   "execution_count": 11,
   "id": "e6ff660b-b1c1-4974-9acd-4d6bc59f58b9",
   "metadata": {},
   "outputs": [],
   "source": [
    "# print 'index <= 5' as long as counter is smaller or equal to five\n",
    "\n",
    "\n",
    "# loop over range of numbers and print only even numbers (otherwise skip number)\n",
    "\n",
    "\n",
    "# loop over range of numbers and break loop once a particular number has been detected \n",
    "\n"
   ]
  },
  {
   "cell_type": "code",
   "execution_count": 12,
   "id": "56899682-ebc1-4ef0-b388-b5b138d4593b",
   "metadata": {},
   "outputs": [],
   "source": [
    "# The loop condition is `True`, which is always true, \n",
    "# so the loop runs until it hits the `break` statement.\n",
    "\n",
    "    \n",
    "# another example with break and continue\n",
    "# for each number in the range from 1 to 8, do:\n",
    "# if number is eight stop\n",
    "# if number is even return directly to the top and skip the rest\n"
   ]
  },
  {
   "cell_type": "markdown",
   "id": "c47bff3c-2bd7-440f-81e9-61d294418252",
   "metadata": {},
   "source": [
    "### 🤩 Hands-on: Try the *exercises* in the file `exercises-cf`"
   ]
  }
 ],
 "metadata": {
  "kernelspec": {
   "display_name": "Python 3 (ipykernel)",
   "language": "python",
   "name": "python3"
  },
  "language_info": {
   "codemirror_mode": {
    "name": "ipython",
    "version": 3
   },
   "file_extension": ".py",
   "mimetype": "text/x-python",
   "name": "python",
   "nbconvert_exporter": "python",
   "pygments_lexer": "ipython3",
   "version": "3.11.11"
  }
 },
 "nbformat": 4,
 "nbformat_minor": 5
}
