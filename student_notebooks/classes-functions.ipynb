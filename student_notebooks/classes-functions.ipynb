{
 "cells": [
  {
   "cell_type": "markdown",
   "id": "a46c431b-e051-420e-adf9-505744187b44",
   "metadata": {},
   "source": [
    "# Classes and Functions\n",
    "\n",
    "**References**:\n",
    "+ https://realpython.com/python-traceback/\n",
    "+ Fluent Python\n",
    "+ Think Python\n",
    "\n",
    "**Content**:\n",
    "+ Functions\n",
    "    + Defining new functions\n",
    "    + Parameters\n",
    "    + Calling a function\n",
    "    + Default arguments, optional arguments, *args, and **kwargs\n",
    "    + Variables and parameters are local\n",
    "    + Traceback\n",
    "    + Fruitful Functions and Void Functions\n",
    "    + Anonymous functions\n",
    "    + Callables\n",
    "+ Classes\n",
    "    + Structure of a class\n",
    "    + Instantiating and calling a class object\n",
    "    + Inheritance"
   ]
  },
  {
   "cell_type": "markdown",
   "id": "5ff2d7a2-0f2f-45f8-8226-a6f11883dbb6",
   "metadata": {},
   "source": [
    "## Functions\n",
    "+ Functions are one of the most important things that we can do in programming. \n",
    "+ We can wrap code up in a function, so that we can repeatedly get just the information we want.\n",
    "\n",
    "### Defining new functions\n",
    "+ `def` is a keyword that indicates that the following is a function definition\n",
    "+ **function name** is the text after `def`\n",
    "+ **parentheses** after the function name allow for additional arguments\n",
    "    + function without arguments is possible (i.e., empty parentheses)\n",
    "+ first line of function is the **function header**; it has to end with a **colon**\n",
    "+ the remaining lines build the **function body**; it has to be **indented** (4 spaces)\n",
    "+ with `''' some text '''` you can describe your function (**documentation**); this will generate a help text\n",
    "  + to access your documentation call the attribute `__doc__`\n",
    "+ defining a function creates a **function object**\n",
    "+ you can **call** the function by `function()`"
   ]
  },
  {
   "cell_type": "code",
   "execution_count": 1,
   "id": "4783f1c0-3b0b-4a03-a7ba-213c26558763",
   "metadata": {},
   "outputs": [],
   "source": [
    "# function definition\n",
    "def print_hello():       # header: function name: print_hello; no arguments\n",
    "    '''prints Hello'''   # documentation: short description of what function does\n",
    "    print(\"Hello\")       # body\n",
    "\n",
    "# function object\n",
    "\n",
    "# call a function\n",
    "\n",
    "# access the documentation of the function\n",
    "\n",
    "# documentation is part of the help text\n"
   ]
  },
  {
   "cell_type": "markdown",
   "id": "872baf59-943e-4664-954c-d2a529aebdd3",
   "metadata": {},
   "source": [
    "### Parameters\n",
    "+ often functions have a number of **arguments**\n",
    "+ variable name in parentheses is a **parameter**\n",
    "+ When the function is called, the value of the argument is assigned to the parameter"
   ]
  },
  {
   "cell_type": "code",
   "execution_count": 2,
   "id": "62968f3a-5dc0-40a1-acfa-c3674d336610",
   "metadata": {},
   "outputs": [],
   "source": [
    "# function with arguments\n",
    "\n",
    "# call a function with argument value: Luna\n"
   ]
  },
  {
   "cell_type": "markdown",
   "id": "f29fc7ed-6913-4d1d-8873-6a270e20dda2",
   "metadata": {},
   "source": [
    "### Calling Functions\n",
    "+ Once you have defined a function, you can use it inside another function\n",
    "+ a function that takes a function as an argument or returns a function as the results is a **higher-order function**"
   ]
  },
  {
   "cell_type": "code",
   "execution_count": 3,
   "id": "667d7e6f-00be-4431-b335-244916893a07",
   "metadata": {},
   "outputs": [],
   "source": [
    "# first function definition\n",
    "## repeat word n times\n",
    "\n",
    "# call function\n",
    "\n",
    "# second function definition\n",
    "# call first function within second\n",
    "\n",
    "# call second function\n"
   ]
  },
  {
   "cell_type": "markdown",
   "id": "baad97b9-5470-4ac9-9f8f-d125ad7d0e90",
   "metadata": {},
   "source": [
    "### Default arguments, optional arguments, *args, and **kwargs\n",
    "+ default argument can be incorporated as arguments in the function by assigning the default value in the function definiting\n",
    "+ default arguments come always after non-default arguments - otherwise you'll get an `SyntaxError`\n",
    "+ `*args` and `**kwargs` allow you to pass an unspecified number of arguments to a function\n",
    "+ when writing the function definition, you do not need to know how many arguments will be passed to your function.\n",
    "+ `*args` is used to send a **non-keyworded** variable length argument list to the function. They are passed as a `tuple`\n",
    "+ `**kwargs` allows you to pass **keyworded** variable length of arguments to a function. They are passed as a `dict`"
   ]
  },
  {
   "cell_type": "code",
   "execution_count": 4,
   "id": "5e609cfc-e792-45ed-9efc-4a2e1e9211b7",
   "metadata": {},
   "outputs": [],
   "source": [
    "# example for a function with default and optional arguments\n",
    "\n",
    "\n",
    "# use default value \"_\" for string separation\n",
    "\n",
    "# change default value to \"/\"\n",
    "\n",
    "# incorporate optional argument\n",
    "\n",
    "# example of a function definition where order of default and non-default values is wrong\n",
    "# yields a SyntaxError\n",
    "\n",
    "\n",
    "# examples for a functions using non-keyword arguments of variable length *args\n",
    "\n",
    "\n",
    "# example for a function using keyword arguments of variable length *kwargs\n",
    "\n"
   ]
  },
  {
   "cell_type": "markdown",
   "id": "49ba718b-614f-44fe-b2c2-19714b6ef774",
   "metadata": {},
   "source": [
    "### Variables and parameters are local\n",
    "+ a variable inside a function is **local** (i.e., it only exists in the function)\n",
    "+ parameters are local\n",
    "+ if you try to access the local variable/parameter outside the function you will get a **NameError** (Variable is not defined)"
   ]
  },
  {
   "cell_type": "code",
   "execution_count": 5,
   "id": "b73d16f3-455a-421c-905b-8db49f0db0b1",
   "metadata": {},
   "outputs": [],
   "source": [
    "\n",
    "\n",
    "# call function\n",
    "\n",
    "\n",
    "# print value of 'sum_res'\n",
    "\n",
    "\n",
    "# print parameters x and y\n"
   ]
  },
  {
   "cell_type": "markdown",
   "id": "0e409bd3-c766-459d-a38d-18784be7347a",
   "metadata": {},
   "source": [
    "### Traceback\n",
    "+ report containing the function calls made in your code at a specific point\n",
    "+ when your program results in an exception, Python will print the current traceback to help you know what went wrong\n",
    "+ *final line* of the traceback: type of exception + error message\n",
    "+ *previous lines* of the traceback point to the code that resulted in the exception\n",
    "    + moving from bottom to top, most recent to least recent\n",
    "    + *first line*: number of cell + line in which error occured\n",
    "+ Format of traceback will differ a bit depending from where you call it (Notebook, Spyder, shell, etc.)  \n",
    "\n",
    "**Different types of errors**\n",
    "+ SyntaxError: when you have incorrect Python syntax in your code\n",
    "+ IndentationError: when you have missing indentation in you Python code\n",
    "+ TypeError: when your code attempts to do something with an object that can’t do that thing\n",
    "+ NameError: when you have referenced a variable, module, class, function, or some other name that hasn’t been defined in your code\n",
    "+ AttributeError: when you try to access an attribute on an object that doesn’t have that attribute defined\n",
    "+ ImportError: when something goes wrong with an import statement\n",
    "+ IndexError: when you attempt to retrieve an index from a sequence and the index isn’t found in the sequence\n",
    "+ KeyError: when you attempt to access a key that isn’t in the mapping, usually a `dict`\n",
    "+ ValueError: when the value of the object isn’t correct"
   ]
  },
  {
   "cell_type": "code",
   "execution_count": 6,
   "id": "e322af6b-d3a6-486c-b37e-29838e518f70",
   "metadata": {},
   "outputs": [],
   "source": [
    "# original function\n",
    "def addition(x,y):\n",
    "    sum_res = x + y\n",
    "    print(x,\"+\",y,\"=\",sum_res)\n",
    "\n",
    "# SyntaxError\n",
    "\n",
    "# IndentationError\n",
    "\n",
    "# TypeError\n",
    "\n",
    "# NameError\n"
   ]
  },
  {
   "cell_type": "markdown",
   "id": "6cbaa2cf-350b-4802-8738-67dedbbea8a6",
   "metadata": {},
   "source": [
    "### Fruitful Functions and Void Functions\n",
    "\n",
    "+ Functions that perform an action but don’t return a value are called **void functions**\n",
    "+ Void functions might display something on the screen or have some other effect, but they don’t have a return value.\n",
    "+ If you try to assign the result of a void function to a variable, you get an empty variable, which has a `None` type."
   ]
  },
  {
   "cell_type": "code",
   "execution_count": null,
   "id": "b3517b8c-6ba2-455d-bc38-54d590e831c9",
   "metadata": {},
   "outputs": [],
   "source": []
  },
  {
   "cell_type": "markdown",
   "id": "ba3741f6-b4d2-46c6-9ed4-1e1150978549",
   "metadata": {},
   "source": [
    "### Anonymous Functions\n",
    "+ The `lambda` keyword creates an **anonymous function** within a Python expression\n",
    "+ in general you should prefer a function definition (`def`) over using `lambda` functions\n",
    "+ The lambda syntax is just **syntactic sugar**: a lambda expression creates a function object just like the `def` statement."
   ]
  },
  {
   "cell_type": "code",
   "execution_count": 7,
   "id": "d9234942-380d-40d7-9d8e-7b9a27d86e62",
   "metadata": {},
   "outputs": [],
   "source": [
    "# example for a lambda function\n"
   ]
  },
  {
   "cell_type": "markdown",
   "id": "09929f1e-8967-4720-bba1-10fc47c65b18",
   "metadata": {},
   "source": [
    "### Callables in Python\n",
    "+ the call operator `()` may be applied to other objects besides functions\n",
    "+ To determine whether an object is callable, use the `callable()` built-in function\n",
    "+ callables are for example:\n",
    "    + User-defined functions (as created with `def` or `lambda`)\n",
    "    + built-in functions (like `len()` or `sum()`)\n",
    "    + built-in methods (like `dict.keys()` or `str.join()`)\n",
    "    + methods (functions defined in the body of a class)*\n",
    "    + classes*\n",
    "    + class instances*\n",
    " \n",
    "*will be discussed next in the section *Classes* "
   ]
  },
  {
   "cell_type": "code",
   "execution_count": 8,
   "id": "3d4e2722-0256-4c6d-a718-5c21dfa048e4",
   "metadata": {
    "scrolled": true
   },
   "outputs": [],
   "source": [
    "# determine whether an object is callable\n",
    "\n",
    "\n",
    "# user-defined callable\n",
    "\n",
    "\n",
    "# built-in functions\n",
    "\n",
    "\n",
    "# built-in methods\n",
    "# can be retrieved via `dir` of a built-in type\n"
   ]
  },
  {
   "cell_type": "markdown",
   "id": "3b0bd956-27b9-47a9-8a2c-849e97bc1940",
   "metadata": {},
   "source": [
    "## Classes\n",
    "### Structure of a class\n",
    "+ use the keyword argument `class` to defined a new class\n",
    "+ the **class name** is given by the name after the keyword `class` (convention: use CamelCase to name your class) and ends with a **colon**\n",
    "+ the **body** is indented (four spaces) \n",
    "    + good practice to start with a **docstring** that describes what the class is for (`''' Descriptions '''`)\n",
    "+ the `__init__` method:\n",
    "    + this method initializes the **attributes** of a new object \n",
    "    + it is conventional for the first parameter of a method to be named `self`\n",
    "    + after `self`, you can pass further arguments that your method needs\n",
    "    + by convention, passed arguments are defined as attributes: `self.argument = argument` (here: self.argument is now an attribute of the class)\n",
    "+ further user-defined methods:\n",
    "    +  you can defined further methods (i.e., functions) in your class\n",
    "    +  if you want to call a method that you have previously defined in your class, you need to write `self.method(args)`\n",
    "+ the `__call__` method:\n",
    "    + this method is run when you call the *instantiated* class object\n",
    "    + the arguments that you pass in this method, are the arguments that you pass when calling the class object "
   ]
  },
  {
   "cell_type": "code",
   "execution_count": 33,
   "id": "e3eff2e3-9787-49fe-9a01-1ae697bf31db",
   "metadata": {},
   "outputs": [],
   "source": [
    "class BasicArithmetics:\n",
    "    \"\"\"Implements basic arithmetic operations\"\"\"  # docstring\n",
    "    def __init__(self, method):                   # __init__ method\n",
    "        self.method = str(method)                 # attribute of the method\n",
    "    \n",
    "    def sum(self, x, y):                          # user-defined method\n",
    "        return x + y\n",
    "\n",
    "    def multiply(self, x, y):                     # user-defined method\n",
    "        return x * y\n",
    "\n",
    "    def __call__(self, x, y):                     # __call__ method \n",
    "        if self.method == \"sum\":\n",
    "            return self.sum(x, y)                 # example for calling a previously defined method within the class using (self.sum)\n",
    "        if self.method == \"multiply\":\n",
    "            return self.multiply(x, y)"
   ]
  },
  {
   "cell_type": "markdown",
   "id": "1465b366-3b90-485d-a29c-f6bcd9cebb63",
   "metadata": {},
   "source": [
    "### Instantiating and calling a class object\n",
    "\n",
    "+ **instantiating** a class object\n",
    "    + when we instantiate a class object, Python invokes `__init__`, and passes along the arguments.\n",
    "    + So we can create an object and initialize the **attributes** at the same time\n",
    "+ **call** an instantiated class object\n",
    "    + you can call the instantiated class object by using the call operator `()` (if the __call__ method requires arguments they have to be passed here)\n",
    "+ you can also call the methods of a class directly by `class.method(args)`"
   ]
  },
  {
   "cell_type": "code",
   "execution_count": 9,
   "id": "c89f5702-e315-41c9-a94a-29f925253606",
   "metadata": {},
   "outputs": [],
   "source": [
    "# instantiate a class\n",
    "\n",
    "\n",
    "# have a look at the description (i.e., docstring)\n",
    "\n",
    "\n",
    "# show value of initialized attribute\n",
    "\n",
    "\n",
    "# call class for specific values\n",
    "\n",
    "\n",
    "# call implemented method directly\n"
   ]
  },
  {
   "cell_type": "markdown",
   "id": "8e82e463-8257-4989-ba57-da4af36107d5",
   "metadata": {},
   "source": [
    "### Instance variables vs. class variables\n",
    "+ attributes create in the `__init__` method are instance variables, every instance of this class can have a different value\n",
    "+ class variables are the same for all instances of this class object"
   ]
  },
  {
   "cell_type": "code",
   "execution_count": 10,
   "id": "bc9db776-f40f-4b82-9bdb-ad351b20a34a",
   "metadata": {},
   "outputs": [],
   "source": [
    "class Animals():\n",
    "    \"\"\" returns properties of white animals \"\"\"\n",
    "    color = \"white\"                                   # class variable\n",
    "    \n",
    "    def __init__(self, animal_type):\n",
    "        self.animal_type = animal_type                # instance variable\n",
    "\n",
    "    def __call__(self):\n",
    "        print(\"The \"+self.color+\" \"+self.animal_type+\".\")\n",
    "\n",
    "# create two instances of the class\n",
    "\n",
    "\n",
    "# get instance attribute \"animal_tpye\"\n",
    "\n",
    "\n",
    "# get class variable (shared between all instances)\n",
    "\n"
   ]
  },
  {
   "cell_type": "markdown",
   "id": "6934fc3a-9149-4543-85c9-1bb805476955",
   "metadata": {},
   "source": [
    "### Inheritance\n",
    "+ Inheritance is the ability to define a new class that is a modified version of an existing class\n",
    "+ To define a new class that is based on an existing class, we put the name of the existing class in parentheses\n",
    "+ The `__init__` and `__call__` method are also inherited, but when you specify them in the new class as well this will override it\n",
    "+ When a new class inherits from an existing one, the existing one is called the parent and the new class is called the child."
   ]
  },
  {
   "cell_type": "code",
   "execution_count": null,
   "id": "778ac028-5a78-48de-989c-1a9ad7a78cf4",
   "metadata": {},
   "outputs": [],
   "source": [
    "# This definition indicates that AddDivision inherits from BasicArithmetics\n",
    "class AddDivision(BasicArithmetics):\n",
    "    \"\"\" Inherits the attributes and methods from BasicArithmetics and adds a division method. \"\"\"\n",
    "\n",
    "    def division(self, x, y):\n",
    "        return x/y\n",
    "\n",
    "    def __call__(self, x, y):\n",
    "        if self.method == \"sum\":\n",
    "            return self.sum(x,y)\n",
    "        if self.method == \"multiply\":\n",
    "            return self.multiply(x,y)\n",
    "        if self.method == \"division\":\n",
    "            return self.division(x,y)\n",
    "            \n",
    "add_division = AddDivision(\"division\")\n",
    "\n",
    "# have a look at all attributes and methods of the class\n",
    "\n",
    "\n",
    "# call the new instantiated class object\n",
    "\n"
   ]
  }
 ],
 "metadata": {
  "kernelspec": {
   "display_name": "Python 3 (ipykernel)",
   "language": "python",
   "name": "python3"
  },
  "language_info": {
   "codemirror_mode": {
    "name": "ipython",
    "version": 3
   },
   "file_extension": ".py",
   "mimetype": "text/x-python",
   "name": "python",
   "nbconvert_exporter": "python",
   "pygments_lexer": "ipython3",
   "version": "3.9.19"
  }
 },
 "nbformat": 4,
 "nbformat_minor": 5
}
