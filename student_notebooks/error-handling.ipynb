{
 "cells": [
  {
   "cell_type": "markdown",
   "id": "511ea1c2-b091-4862-a3a9-f541585019ee",
   "metadata": {},
   "source": [
    "# Assertions & Exceptions in Python\n",
    "\n",
    "Sources:\n",
    "+ [tutorial exception handling](https://realpython.com/python-exceptions/#the-try-and-except-block-handling-exceptions)\n",
    "+ [tutorial assertion statements](https://realpython.com/courses/python-assert-statement/)\n",
    "+ [tutorial 2 assertion](https://www.browserstack.com/guide/assert-in-python)\n",
    "\n",
    "Content:\n",
    "+ assert statments\n",
    "+ exception handling\n",
    "    + try, except, else, finally\n",
    "+ assert vs. except "
   ]
  },
  {
   "cell_type": "markdown",
   "id": "92fd8b01-4c6d-4160-8a7c-ed95eafa2df2",
   "metadata": {},
   "source": [
    "## `assert` statements in Python\n",
    "+ built-in construct that allows you to test assumptions about your code\n",
    "+ acts as a sanity check to ensure that certain conditions are met during the execution of a program.\n",
    "+ primary purpose of using assert statements is to detect logical errors and invalid assumptions in your code\n",
    "+ if assertion is true nothing happens\n",
    "+ if assertion is false the specified message/warning will be raised"
   ]
  },
  {
   "cell_type": "code",
   "execution_count": null,
   "id": "00580c7f-71ee-4d3a-b028-c09a452b7d37",
   "metadata": {},
   "outputs": [],
   "source": [
    "# examples of different kinds of assertions\n",
    "x = 5\n",
    " \n",
    "\n",
    "y = [1,2]\n",
    " \n",
    "\n",
    "run = True\n",
    " \n",
    "\n",
    "col = \"blue\"\n",
    "colors = [\"red\", \"yellow\", \"green\"]\n",
    " "
   ]
  },
  {
   "cell_type": "markdown",
   "id": "de3a42f5-4ed3-43cf-a070-6086156678d1",
   "metadata": {},
   "source": [
    "**Note**:\n",
    "+ be careful with brackets: Don't put brackets around the condition and the message simultaneously"
   ]
  },
  {
   "cell_type": "code",
   "execution_count": null,
   "id": "94a27851-6e37-4fe5-b836-231e1978fbee",
   "metadata": {},
   "outputs": [],
   "source": [
    "x = 4\n",
    " \n",
    "\n",
    "# however the following is okay\n",
    " "
   ]
  },
  {
   "cell_type": "markdown",
   "id": "34f54746-9295-4544-9604-c3f1bf3b1c11",
   "metadata": {},
   "source": [
    "## `except` statements in Python\n",
    "### Types of built-in exceptions (Recap)\n",
    "+ source: [list of all exception types](https://docs.python.org/3/library/exceptions.html)\n",
    "+ `SyntaxError` raised when statement is incorrect\n",
    "+ `ZeroDivisionError` from base class `ArithmeticError`\n",
    "    + Raised when the second argument of a division or modulo operation is zero\n",
    "+ `AssertionError` raised when an assert statement fails\n",
    "+ `ModuleNotFoundError` raised by import when a module could not be located\n",
    "+ `NameError` raised when a local or global name is not found.\n",
    "+ `IndentationError` raised when indentation is incorrect"
   ]
  },
  {
   "cell_type": "code",
   "execution_count": null,
   "id": "293ce8e1-d622-40d2-b8b7-3ab54905a831",
   "metadata": {},
   "outputs": [],
   "source": [
    "# Syntax errors: parser detects an incorrect statement\n",
    "\n"
   ]
  },
  {
   "cell_type": "code",
   "execution_count": null,
   "id": "fec11d8e-d8bd-4f5d-87e1-e3c6731cbf96",
   "metadata": {},
   "outputs": [],
   "source": [
    "# Exception error: syntactically correct code\n",
    "\n"
   ]
  },
  {
   "cell_type": "code",
   "execution_count": 1,
   "id": "5e48906c-e566-496d-81c3-bfb430accd2b",
   "metadata": {},
   "outputs": [],
   "source": [
    "# example for an AssertionError\n",
    "\n"
   ]
  },
  {
   "cell_type": "code",
   "execution_count": 2,
   "id": "bec91272-f7d6-48c7-b872-5d20e7452195",
   "metadata": {},
   "outputs": [],
   "source": [
    "# example for an ImportError\n",
    "\n"
   ]
  },
  {
   "cell_type": "code",
   "execution_count": 3,
   "id": "11245119-16f0-4454-a9a2-559b0a991e74",
   "metadata": {},
   "outputs": [],
   "source": [
    "# example for a NameError (c is not defined yet)\n",
    "\n"
   ]
  },
  {
   "cell_type": "code",
   "execution_count": null,
   "id": "656d5360-e808-4659-bd4c-009c4ea8dc0d",
   "metadata": {},
   "outputs": [],
   "source": [
    "# example for IndentationError\n",
    "i = 3\n",
    "if i == 2:\n",
    "     print(i)\n",
    "    else:\n",
    "        print(\"i not 2\")"
   ]
  },
  {
   "cell_type": "markdown",
   "id": "ac8ada67-a37b-44b6-9f67-d201ffd8b171",
   "metadata": {},
   "source": [
    "### The `Try` and `except` block\n",
    "+ use the `try` and `except` block to catch and handle exceptions\n",
    "+ `try` block: insert your code that you want to run (e.g., importing a package, reading a file/variable etc.)\n",
    "+ `except` block: capture a specific error type and either solve the error or raise an informative error message to the user\n",
    "+ if no `exception`occurs you won't get any feedback\n",
    "\n",
    "In the following two examples:"
   ]
  },
  {
   "cell_type": "code",
   "execution_count": null,
   "id": "965702e8-c0f7-4071-a138-a78a5cf04072",
   "metadata": {},
   "outputs": [],
   "source": [
    "# try to import a package\n",
    "# if it is not installed yet, installed it\n",
    "\n"
   ]
  },
  {
   "cell_type": "code",
   "execution_count": null,
   "id": "84bcb70e-3f1c-466d-92c7-d11923a541d7",
   "metadata": {},
   "outputs": [],
   "source": [
    "# use pandas to create a simple data frame\n",
    "pandas.DataFrame({\"var\": [1,2,3]})"
   ]
  },
  {
   "cell_type": "code",
   "execution_count": 4,
   "id": "fc2efb5d-c8fc-4494-9211-22d3fc33519c",
   "metadata": {},
   "outputs": [],
   "source": [
    "import os\n",
    "\n",
    "file = \"data\"\n",
    "path = os.getcwd()\n",
    "\n",
    "# try to read some data file from disk\n",
    "# raise exception if file couldn't be found\n",
    " "
   ]
  },
  {
   "cell_type": "markdown",
   "id": "2e2af57f-27e9-4de0-a7c1-0551eb57903c",
   "metadata": {},
   "source": [
    "### proceeding after successful try with `else`\n",
    "+ with the  `else` statement you can instruct a program to execute a certain block of code only in the absence of exceptions"
   ]
  },
  {
   "cell_type": "code",
   "execution_count": 5,
   "id": "ab1f743a-7dc0-4a0d-9cb2-37e4cc2737ff",
   "metadata": {},
   "outputs": [],
   "source": [
    "# try to import a package\n",
    "# if it is not installed yet, installed it\n",
    "# if it is installed, inform about successful import\n",
    "\n"
   ]
  },
  {
   "cell_type": "markdown",
   "id": "eadcab9d-acb4-421e-932c-c862cb71a6af",
   "metadata": {},
   "source": [
    "### finishing with `finally`\n",
    "+ regardless of whether an exception is encountered, the statements in the `finally` block will always be executed\n",
    "\n",
    "Example:\n",
    "\n",
    "+ we divide two numbers and want that an error is raised if\n",
    "    + the input is of incorrect format\n",
    "    + division by zero occurs\n",
    "+ additionally, we want to inform the user that execution has been finished  "
   ]
  },
  {
   "cell_type": "code",
   "execution_count": 7,
   "id": "08108bef-5188-46b6-b194-c24dfd2ad49d",
   "metadata": {},
   "outputs": [],
   "source": [
    "# example \n",
    "\n"
   ]
  },
  {
   "cell_type": "code",
   "execution_count": null,
   "id": "cda3d49f-d455-41ff-98a5-b46628ef445a",
   "metadata": {},
   "outputs": [],
   "source": [
    "# Normal case\n",
    "divide_numbers(10, 2)  "
   ]
  },
  {
   "cell_type": "code",
   "execution_count": null,
   "id": "ad138150-6a74-4871-950d-e36621dd2f2a",
   "metadata": {},
   "outputs": [],
   "source": [
    "# ZeroDivisionError case\n",
    "divide_numbers(10, 0)  "
   ]
  },
  {
   "cell_type": "code",
   "execution_count": null,
   "id": "29a4f865-ab55-4269-b67b-eaf3bb536ecc",
   "metadata": {},
   "outputs": [],
   "source": [
    "# TypeError case\n",
    "divide_numbers(10, \"a\")  "
   ]
  },
  {
   "cell_type": "markdown",
   "id": "a9265e67-4d00-4959-9743-c2d8e78b9385",
   "metadata": {},
   "source": [
    "## `assert` statements vs. `exception` handling\n",
    "\n",
    "+ assert statements are fast and easy to implement (ideal for development)\n",
    "+ Problem: assert statements can be disabled\n",
    "+ exception errors should be used for stable error handling (they can't be disabled)\n",
    "\n",
    "**Example:**\n",
    "+ open a Python editor (e.g., Spyder)\n",
    "+ open a new file and save it as `py-scripts\\error_handling.py`\n",
    "+ copy&paste the following code block in to the python file:\n",
    "    + we create a class object that implements two types of errors, an assertion error and an exception\n",
    "    + we have one required input argument in the `__call__` method, `error_type` that controls which error type should be run\n",
    "    + in order to run this python file in the terminal and pass arguments in the terminal, we use the `sys` package\n",
    "+ save the file "
   ]
  },
  {
   "cell_type": "raw",
   "id": "d3901069-2f59-48d2-a264-8ca33884035e",
   "metadata": {},
   "source": [
    "import sys\n",
    "from typing import Literal\n",
    "\n",
    "class Error():\n",
    "    def __call__(self, error_type: Literal[\"assertion\", \"exception\"]) -> None:\n",
    "        if error_type == \"assertion\":\n",
    "            self._example_assert()\n",
    "        else:\n",
    "            self._example_exception()\n",
    "            \n",
    "    def _example_assert(self):\n",
    "        for number in range(7):\n",
    "            # assertion\n",
    "            assert number > 5, (f\"The number should not exceed 5. ({number=})\")\n",
    "    \n",
    "    def _example_exception(self):\n",
    "        for number in range(7):\n",
    "            # execption\n",
    "            raise Exception(f\"The number should not exceed 5. ({number=})\")\n",
    "\n",
    "# create a class instance\n",
    "error = Error()\n",
    "\n",
    "if __name__ == \"__main__\":\n",
    "    error_type = sys.argv[1]\n",
    "    error(error_type)"
   ]
  },
  {
   "cell_type": "code",
   "execution_count": null,
   "id": "644481b5-08dd-4fcf-80e4-f2036a025474",
   "metadata": {},
   "outputs": [],
   "source": [
    "# enter in Spyder Console and select assertion error\n",
    "! python py_scripts/error_handling.py \"assertion\""
   ]
  },
  {
   "cell_type": "code",
   "execution_count": null,
   "id": "f9aae96d-6128-4e74-a0cf-8ecdeb364e18",
   "metadata": {},
   "outputs": [],
   "source": [
    "# enter in Spyder Console and select exception error\n",
    "! python py_scripts/error_handling.py \"exception\""
   ]
  },
  {
   "cell_type": "markdown",
   "id": "c7e68f2c-e54d-43d2-b2c1-7e1f922f32d4",
   "metadata": {},
   "source": [
    "+ disable assertion errors through the `-O` command line option ([details about -O option](https://docs.python.org/3/using/cmdline.html#cmdoption-O))\n",
    "+ however, it is not possible to disable *exception* errors"
   ]
  },
  {
   "cell_type": "code",
   "execution_count": 32,
   "id": "adb69a24-a10a-4741-b798-553539412b63",
   "metadata": {},
   "outputs": [],
   "source": [
    "# enter in Spyder Console and select assertion error, use -O option\n",
    "! python -O py_scripts/error_handling.py \"assertion\""
   ]
  },
  {
   "cell_type": "code",
   "execution_count": null,
   "id": "21a0a195-9cb2-4312-9d3d-f9ab75cb6cae",
   "metadata": {},
   "outputs": [],
   "source": [
    "# enter in Spyder Console and select exception error, use -O option\n",
    "! python -O py_scripts/error_handling.py \"exception\""
   ]
  }
 ],
 "metadata": {
  "kernelspec": {
   "display_name": "Python 3 (ipykernel)",
   "language": "python",
   "name": "python3"
  },
  "language_info": {
   "codemirror_mode": {
    "name": "ipython",
    "version": 3
   },
   "file_extension": ".py",
   "mimetype": "text/x-python",
   "name": "python",
   "nbconvert_exporter": "python",
   "pygments_lexer": "ipython3",
   "version": "3.11.11"
  }
 },
 "nbformat": 4,
 "nbformat_minor": 5
}
