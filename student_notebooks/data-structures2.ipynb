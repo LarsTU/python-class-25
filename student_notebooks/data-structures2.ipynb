{
 "cells": [
  {
   "cell_type": "markdown",
   "id": "130c599a-d64a-4d6f-9c4e-bcfa4f22c6a9",
   "metadata": {},
   "source": [
    "# Data structures 2\n",
    "\n",
    "**Content**:\n",
    "+ Tuples\n",
    "    + Tuple assignment\n",
    "    + Argument packing\n",
    "    + Zip\n",
    "+ Dictionaries\n",
    "    + some general notes\n",
    "    + usage of `in` for dictionaries\n",
    "    + looping and dictionaries\n",
    "+ Dictionaries and lists\n",
    "    + Accumulating a list "
   ]
  },
  {
   "cell_type": "markdown",
   "id": "8153d01b-42e3-4b50-864a-9be9234b0081",
   "metadata": {},
   "source": [
    "## Tuples\n",
    "\n",
    "+ a tuple is an immutable sequence of values \n",
    "+ like lists the values can be of any type and are indexed by integers\n",
    "+ indexing, slicing as we learned it for lists\n",
    "+ tuples can be used as keys and values in a dictionnary (we will come to this later)\n",
    "\n",
    "**allowed operators**\n",
    "+ `+`: concatenation  \n",
    "+ `*`: replication"
   ]
  },
  {
   "cell_type": "code",
   "execution_count": 1,
   "id": "b3cd6545-982b-476e-a732-516d7487b767",
   "metadata": {},
   "outputs": [],
   "source": [
    "# a tuple \n",
    "\n",
    "# it is good practice to write tuples in round brackets; but it is not required\n",
    "\n",
    "# caution when writing a tuple with a single element\n",
    "\n",
    "# when you want to write an empty tuple you can use the built-in function \n"
   ]
  },
  {
   "cell_type": "markdown",
   "id": "4d2cb864-d559-448e-9150-d8daceab4ed1",
   "metadata": {},
   "source": [
    "### Tuple assignment\n",
    "+ if the left side of an assignment is a tuple, the right side can be any kind of sequence\n",
    "+ you get a `ValueError` if the left and right side don't match"
   ]
  },
  {
   "cell_type": "code",
   "execution_count": 2,
   "id": "fb56055a-8418-45ab-820c-3a6d0f8fcf3e",
   "metadata": {},
   "outputs": [],
   "source": [
    "# right is assigned to the left\n",
    "\n",
    "# more general assignments\n",
    "\n",
    "# left and right assignment do not match\n"
   ]
  },
  {
   "cell_type": "markdown",
   "id": "fd166ce3-ace2-4cdc-a32a-97017a01d2e2",
   "metadata": {},
   "source": [
    "### Argument (un)packing\n",
    "+ A parameter name that begins with the `*` operator packs arguments into a tuple.\n",
    "+ If you have a sequence of values and you want to pass them to a function as multiple arguments, you can use the `*` operator to unpack the tuple."
   ]
  },
  {
   "cell_type": "code",
   "execution_count": 3,
   "id": "9625819c-0d33-411c-a573-ebe63c47702c",
   "metadata": {},
   "outputs": [],
   "source": [
    "# pack remaining values into a list\n",
    "\n",
    "# pack everything into a variable except the last value\n",
    "\n",
    "# what if you are only interested in the first and last value?\n",
    "# you can use `_` to suppress variable assignment\n",
    "\n",
    "# you can combine `_` with `*` to pack all values together that you don't want to assign \n"
   ]
  },
  {
   "cell_type": "markdown",
   "id": "bc0f87b9-e064-4b1e-a3fc-8db448a23d80",
   "metadata": {},
   "source": [
    "### Zip\n",
    "+ tuples are useful for looping through the elements of two sequences\n",
    "+ use list and zip to get a list of pairs\n",
    "+ If you need to loop through the elements of a sequence and their indices, use `enumerate`"
   ]
  },
  {
   "cell_type": "code",
   "execution_count": 4,
   "id": "8f90c21c-5778-480e-8e43-f3f5f76759c2",
   "metadata": {},
   "outputs": [],
   "source": [
    "# create two lists\n",
    "\n",
    "# loop over two lists \n",
    "    \n",
    "# get a list of pairs\n",
    "\n",
    "# loop over a list and create simultaneously indices\n"
   ]
  },
  {
   "cell_type": "markdown",
   "id": "a3965d76-5070-4072-9244-89c6c815cbbe",
   "metadata": {},
   "source": [
    "### 🤩 Hands-on: Try the *Tuple exercises* in the file `exercises-ds`\n",
    "\n",
    "## Dictionaries\n",
    "### Some general notes\n",
    "+ a **dictionary** is a mapping from **keys** to **values**\n",
    "+ different ways of creating a dictionary:\n",
    "    + use curly brackets: `dic = {\"key\": value}`\n",
    "    + use built-in function `dic = dict(key = value)` \n",
    "    + start with an empty dictionary `dic = dict()` and add new items: `dict[\"key\"] = value`\n",
    "+ adding items to your dictionary by `dic[\"new_key\"] = new_value`\n",
    "+ get all keys and values of a dictionary by using `keys()`and `values()`\n",
    "+ access the value of a particular key by `dict[key]`\n",
    "+ get the number of items with `len(dict)`"
   ]
  },
  {
   "cell_type": "code",
   "execution_count": 5,
   "id": "b61a98e4-5500-4195-94e6-146d419ffe2c",
   "metadata": {},
   "outputs": [],
   "source": [
    "# different ways of creating dictionaries\n",
    "\n",
    "# start with an empty dictionary\n",
    "\n",
    "# add further items to dictionary\n",
    "\n",
    "# you can also directly create a dictionary with multiple items \n",
    "\n",
    "# get all keys and values of a dictionary\n",
    "\n",
    "# access a specific item\n",
    "\n",
    "# with len you can get the number of items \n"
   ]
  },
  {
   "cell_type": "markdown",
   "id": "07e09227-7842-4143-8073-2cfc2da8dd23",
   "metadata": {},
   "source": [
    "+ when you try to access a key that does not exist you get a **KeyError**\n",
    "+ when you create an item with a key that already exists, then the value will be overwritten\n",
    "+ however, its no problem to create a unique key with a value that already exists \n",
    "+ you can create a copy of your dictionary by `dict(original_dict)`"
   ]
  },
  {
   "cell_type": "code",
   "execution_count": 6,
   "id": "cfdec70d-fdd3-49a3-8346-a9035fb108e0",
   "metadata": {},
   "outputs": [],
   "source": [
    "# access a key that does not exist\n",
    "\n",
    "# duplicate keys\n",
    "\n",
    "# copy a dictionary \n"
   ]
  },
  {
   "cell_type": "markdown",
   "id": "46c757b4-542f-4a25-9d8b-5e0506c1af7f",
   "metadata": {},
   "source": [
    "### The **in** operator\n",
    "+ use `in` if you want to know whether something appears as a **key** in the dictionary\n",
    "+ you can combine `in` with the method `.values()` to check whether something appears as a value\n",
    "+ The items in a Python dictionary are stored in a hash table, which is a way of organizing data that has a remarkable property: the `in` operator takes about the same amount of time no matter how many items are in the dictionary.\n",
    "\n",
    "### Looping and dictionaries\n",
    "+ you can loop over keys and values of a dictionary "
   ]
  },
  {
   "cell_type": "code",
   "execution_count": 7,
   "id": "c4f0ab93-f7f4-413f-abdf-99b8898274ff",
   "metadata": {},
   "outputs": [],
   "source": [
    "# check whether a key is already in a dictionary\n",
    "\n",
    "# check whether 3 appears as a value\n",
    "\n",
    "# loop over keys of a dictionary\n",
    "\n",
    "# loop over values of a dictionary (note that also duplicated values are presented)\n"
   ]
  },
  {
   "cell_type": "markdown",
   "id": "7b67c840-80a8-43e5-bffd-0be5680cbe81",
   "metadata": {},
   "source": [
    "## Dictionaries and Lists\n",
    "\n",
    "+ a list can be used as value in a dictionary (but not as a key)\n",
    "    + if you would use a list, you would get an error saying sth. along the line: `unhashable type: 'list'`\n",
    "    + a hash is a function that takes a value (of any kind) and returns an integer. \n",
    "    + therefore the key must be an immutable data structure e.g., tuple, string"
   ]
  },
  {
   "cell_type": "code",
   "execution_count": 8,
   "id": "8c46a180-2c06-4b7e-a574-a85f5ac07b7e",
   "metadata": {},
   "outputs": [],
   "source": [
    "# dictionaries with diverse value types\n",
    "\n",
    "# lists can't be used as key as they are mutable\n",
    "\n",
    "# using tuples as key works\n"
   ]
  },
  {
   "cell_type": "markdown",
   "id": "75ae8720-9062-4a78-a16a-19820b7a5302",
   "metadata": {},
   "source": [
    "### Accumulating a list\n",
    "+ when assign an item with the same key as before, we overwrite the value\n",
    "+ but: What if we want to add the value to the key instead of overwriting it?\n",
    "+ for this we can use the `.append()` method"
   ]
  },
  {
   "cell_type": "code",
   "execution_count": 9,
   "id": "fe4a3021-ce0a-46fb-89c1-d789cfeef44c",
   "metadata": {},
   "outputs": [],
   "source": [
    "# appending a list\n",
    "## overwriting elements\n",
    "\n",
    "## initialize value as a list\n"
   ]
  }
 ],
 "metadata": {
  "kernelspec": {
   "display_name": "Python 3 (ipykernel)",
   "language": "python",
   "name": "python3"
  },
  "language_info": {
   "codemirror_mode": {
    "name": "ipython",
    "version": 3
   },
   "file_extension": ".py",
   "mimetype": "text/x-python",
   "name": "python",
   "nbconvert_exporter": "python",
   "pygments_lexer": "ipython3",
   "version": "3.11.11"
  }
 },
 "nbformat": 4,
 "nbformat_minor": 5
}
