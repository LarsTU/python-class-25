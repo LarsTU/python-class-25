{
 "cells": [
  {
   "cell_type": "markdown",
   "id": "1db0af30-e71a-43dc-a487-202f3272eae9",
   "metadata": {},
   "source": [
    "# Data wrangling with pandas\n",
    "\n",
    "**References**:\n",
    "+ https://pandas.pydata.org/docs/index.html\n",
    "\n",
    "**Content**:\n",
    "+ Pandas\n",
    "    + Structure of a DataFrame\n",
    "    + Basic operations on DataFrames and Series\n",
    "    + Loading, printing, & saving DataFrames\n",
    "    + Select & Filter\n",
    "    + Aggregate data & group-by\n",
    "    + Reshaping: sort, pivot-wider, pivot-longer"
   ]
  },
  {
   "cell_type": "markdown",
   "id": "e21550c3-045d-4869-b5d2-62a16fc71e1b",
   "metadata": {},
   "source": [
    "+ **pandas** is an open source data analysis and manipulation tool, built on top of the Python programming language. \n",
    "+ import convention: `import pandas as pd`\n",
    "\n",
    "### Dataframes\n",
    "+ pandas operates on **dataframes** consisting of rows and columns (2dimensional data structure)\n",
    "+ create a new dataframe\n",
    "    + use `pd.DataFrame` to create a new dataframe \n",
    "    + input is a **dictionary** (`key`s represent column names and `value`s (stored in a list) are the values of the column)\n",
    "+ each column in a `DataFrame` is a `Series`, which you can create also from scratch  "
   ]
  },
  {
   "cell_type": "code",
   "execution_count": null,
   "id": "8f9099ad-94ab-4653-a389-69e616f5f096",
   "metadata": {},
   "outputs": [],
   "source": [
    "# import pandas\n",
    "\n",
    "# create a new dataframe\n",
    "df = pd.DataFrame(\n",
    "    {\n",
    "        \"Name\": [\n",
    "            \"Braund, Mr. Owen Harris\",\n",
    "            \"Allen, Mr. William Henry\",\n",
    "            \"Bonnell, Miss. Elizabeth\",\n",
    "        ],\n",
    "        \"Age\": [22, 35, 58],\n",
    "        \"Sex\": [\"male\", \"male\", \"female\"],\n",
    "    }\n",
    ")\n",
    "\n",
    "# extract column `Age`\n",
    "\n",
    "# get type of column\n",
    "\n",
    "# create a new series \n",
    "\n",
    "# create and add a new column to your dataframe\n"
   ]
  },
  {
   "cell_type": "markdown",
   "id": "9da6f64e-273d-4504-90d1-b42c13278717",
   "metadata": {},
   "source": [
    "### Basic operations on DataFrames and Series\n",
    "+ get minimum (`min`) and maximum (`max`) values from a column\n",
    "+ get unique values of a column (`unique`)\n",
    "+ get basic statistics from columns with numerical data (`describe`)"
   ]
  },
  {
   "cell_type": "code",
   "execution_count": 2,
   "id": "44bd63a5-524a-4181-9478-49e12bb97119",
   "metadata": {},
   "outputs": [],
   "source": [
    "# get maximum, minimum, and unique values from a column\n",
    "\n",
    "\n",
    "# some basic statistics of the numerical data\n",
    "# shows only Age as it is the only col with numerical data\n"
   ]
  },
  {
   "cell_type": "markdown",
   "id": "8b0870d7-ddee-4ef8-b70d-d3f7852f6354",
   "metadata": {},
   "source": [
    "### Loading, printing, & saving data sets\n",
    "+ load dataframes\n",
    "    + read local file\n",
    "        + download titanic data set from the following [source](https://github.com/datasciencedojo/datasets/blob/master/titanic.csv) and save it locally\n",
    "        + read .csv file with `pd.read_csv`\n",
    "    + use example data sets from seaborn\n",
    "        +  the `seaborn` library comes with some example data sets that are easy to download\n",
    "        +  use `sns.load_dataset` for downloading an example data set\n",
    "        +  an overview of the example datasets from seaborn can be found [here](https://github.com/mwaskom/seaborn-data)\n",
    "+ show dataframe information\n",
    "    + first/last n rows (`df.head(n=...)`/`df.tail(n=...)`\n",
    "    + types of each column `df.dtypes`\n",
    "+ save datasets in a different format (e.g., `df.to_excel()`) "
   ]
  },
  {
   "cell_type": "code",
   "execution_count": 3,
   "id": "51633674-b208-4cdb-a8d8-3d4410fc31a9",
   "metadata": {},
   "outputs": [],
   "source": [
    "# read csv file from local directory\n",
    "\n",
    "# get first 7 rows\n",
    "\n",
    "# get last 5 rows\n",
    "\n",
    "# get types of each column\n"
   ]
  },
  {
   "cell_type": "code",
   "execution_count": 4,
   "id": "b73b2332-7c2c-4293-8310-876ac577417c",
   "metadata": {},
   "outputs": [],
   "source": [
    "# use example datasets from seaborn\n"
   ]
  },
  {
   "cell_type": "code",
   "execution_count": 5,
   "id": "2745a273-5cfd-4bd0-a359-928a6ead6d46",
   "metadata": {},
   "outputs": [],
   "source": [
    "# !pip install openpyxl\n",
    "\n",
    "# save dataframe as excel spreadsheet\n"
   ]
  },
  {
   "cell_type": "markdown",
   "id": "5e1276a3-0925-48d9-a388-fa7710647e31",
   "metadata": {},
   "source": [
    "### Select & filter \n",
    "+ select one column by indexing `df[\"col_name\"]`\n",
    "+ select multiple columns `df[[\"col_name1\", \"col_name2\"]]`\n",
    "+ filter rows from a dataset `df[condition]` (e.g. `df[df[\"Age\"] < 12]`)\n",
    "+ When combining multiple conditional statements, each condition must be surrounded by parentheses `()` (e.g., `df[(df[\"Age\"]<10) & (df[\"pClass\"] == 3)]`)\n",
    "+ You can not use `or`/`and` but need to use the or operator `|` and the and operator `&`\n",
    "+ when you want to indicate in a condition that a column should be equal to multiple values, you might want to use `.isin()` (e.g. `df[df[\"Age\"].isin([12,13,14])]`)\n",
    "+ use `.notna()` to filter all observations that are not NaN"
   ]
  },
  {
   "cell_type": "code",
   "execution_count": 8,
   "id": "c31e43aa-4bd8-42b0-9f2c-5fb872d72f97",
   "metadata": {
    "scrolled": true
   },
   "outputs": [],
   "source": [
    "# select column Age from the titanic dataset\n",
    "\n",
    "# get number of observations in column\n",
    "# different approaches\n",
    "\n",
    "# select multiple columns\n",
    "\n",
    "# filter specific rows from the dataset\n",
    "# condition based on one column\n",
    "\n",
    "# multiple conditions based on multiple columns\n",
    "\n",
    "# equal to multiple values\n",
    "\n",
    "# select only the observations where 'age' is not NaN\n"
   ]
  },
  {
   "cell_type": "markdown",
   "id": "744c1575-1579-4919-8672-a2c973fbaaed",
   "metadata": {},
   "source": [
    "**Select specific rows and columns (subset of dataset)**\n",
    "+ you can also directly select specific columns **by name** with specific conditions using `df.loc[\"col1\" > 3, \"col2\"]` (Note the squared brackets here)\n",
    "+ when you rather want to select rows and columns **by indexing** you can use `df.iloc[i_rows, i_cols]`\n",
    "+ when you have selected specific values with `loc` or `iloc` you can **assign new values** to them"
   ]
  },
  {
   "cell_type": "code",
   "execution_count": 9,
   "id": "2741fab7-1850-4127-9f6b-af27973240bf",
   "metadata": {},
   "outputs": [],
   "source": [
    "# select columns with specific condition\n",
    "\n",
    "# select specific columns/ rows by indexing\n",
    "# first seven rows of the first three columns\n"
   ]
  },
  {
   "cell_type": "code",
   "execution_count": 10,
   "id": "f3d4b587-ed36-4bb4-b333-50bb93c0cbd8",
   "metadata": {},
   "outputs": [],
   "source": [
    "# assign new value to selected column value\n"
   ]
  },
  {
   "cell_type": "markdown",
   "id": "10a9dbb2-6ba1-4a46-84b2-ba2375241104",
   "metadata": {},
   "source": [
    "+ **create new columns** derived from existing columns\n",
    "    + extract the target column, do respective computation on that column, and save it as new column (`dat[\"new_col\"] = dat[\"old_col\"]*1.17`)\n",
    "    + calculation of the values is done element-wise\n",
    "+ **rename column names** or **index label of each row**\n",
    "    +  use `rename` method\n",
    "    +  for changing the column name: pass to the `columns` argument a dictionary with key-value pairs: `{\"old name\": \"new name\"}`\n",
    "    +  for changing the index label of each row: pass to the `index` argument a dictionary with key-value pairs: `{0: \"id_0\", 1: \"id_1\", ...}`"
   ]
  },
  {
   "cell_type": "code",
   "execution_count": 11,
   "id": "19b00536-a993-41f6-89af-1a674e5f182e",
   "metadata": {},
   "outputs": [],
   "source": [
    "# Fare price in pound (let's ignore for a sec. that 1912 no euro exist..and that the value has changed)\n",
    "\n",
    "# rename the data columns\n",
    "\n",
    "# change index label of each row\n"
   ]
  },
  {
   "cell_type": "code",
   "execution_count": 12,
   "id": "861c8d73-c22b-4496-b765-4e7fff87d526",
   "metadata": {},
   "outputs": [],
   "source": [
    "# create new column which merges the information of two other columns\n"
   ]
  },
  {
   "cell_type": "markdown",
   "id": "288f47e1-36bb-4f50-9588-2bdcc02d2e8c",
   "metadata": {},
   "source": [
    "### Aggregate data & Group-by\n",
    "+ compute **mean** of one column using the `col.mean()` method\n",
    "+ compute **median** of multiple columns using the `cols.median()` method\n",
    "+ pre-defined aggregating statistics can be calculated for multiple columns at the same time using the `df.describe()` method\n",
    "+ you can also create your own list of aggregating statistics using `df.agg()` method"
   ]
  },
  {
   "cell_type": "code",
   "execution_count": 13,
   "id": "770332ec-614f-4d0c-8b1c-7fdf35911ffa",
   "metadata": {
    "scrolled": true
   },
   "outputs": [],
   "source": [
    "# mean of a single column\n",
    "\n",
    "# median of multiple columns\n",
    "\n",
    "# compute agg. statistics for all numeric columns\n",
    "\n",
    "# create your own set of aggregated statistics\n"
   ]
  },
  {
   "cell_type": "markdown",
   "id": "76555840-fcb9-4c65-bcf2-d48e74cb0d8f",
   "metadata": {},
   "source": [
    "+ **group-by** and **aggregate** information\n",
    "    + for single/multiple columns (`df[cols].groupby(col).mean()`)\n",
    "    + for all *numeric* columns (note: `numeric_only=True`)\n",
    "    + for multiple aggregation statistics (note: `.agg({col1: [stat1, stat2], col2: [stat1, stat2]})`)"
   ]
  },
  {
   "cell_type": "code",
   "execution_count": 14,
   "id": "3132ac3f-00c9-4a70-8a79-5b690a4a0014",
   "metadata": {},
   "outputs": [],
   "source": [
    "# group by gender and compute for each leven the mean age\n",
    "\n",
    "# alternative\n",
    "\n",
    "# group by gender and compute mean for all numeric columns\n",
    "# if you don't pass 'numeric_only'=True it will run into an error, as it tries to compute the mean of the str columns\n",
    "\n",
    "# group by multiple variables and compute also multiple statistics\n",
    "\n",
    "# create your own statistic\n",
    "\n",
    "# compute mode for Age grouped by gender\n"
   ]
  },
  {
   "cell_type": "markdown",
   "id": "c26cd194-934f-49f2-a298-7d100301610c",
   "metadata": {},
   "source": [
    "+ count the number of records for each category in a column with `col.value_counts()`\n",
    "    + use the `dropna` argument to include or exclude the NaN values\n",
    "+ `size` and `count` can be used in combination with `groupby`\n",
    "    + `size` **includes NaN** values and provides the number of rows (size of the table),\n",
    "    + `count` **excludes missing values**"
   ]
  },
  {
   "cell_type": "code",
   "execution_count": 15,
   "id": "dec68dba-77ae-4e3d-92c5-eebe692f61bd",
   "metadata": {},
   "outputs": [],
   "source": [
    "# count number of class occurencies (default: Don’t include counts of NaN.)\n",
    "\n",
    "# count number of class occurencies and include counts of NaN\n",
    "\n",
    "# shortcut for:\n",
    "\n",
    "# difference between count and size\n"
   ]
  },
  {
   "cell_type": "markdown",
   "id": "2ef8b71e-c494-42c1-8bc5-5022fa7a3ef8",
   "metadata": {},
   "source": [
    "### Reshaping \n",
    "+ sort table rows with `df.sort_values()`"
   ]
  },
  {
   "cell_type": "code",
   "execution_count": 16,
   "id": "9c7c4406-30c3-4ecc-8eed-14c1076a6049",
   "metadata": {},
   "outputs": [],
   "source": [
    "# sort the Titanic data according to the age of the passengers\n",
    "\n",
    "# sort the Titanic data according to the cabin class and age in descending order\n"
   ]
  },
  {
   "cell_type": "markdown",
   "id": "3dde45a6-1871-4caa-8c0b-9a37c3066ce1",
   "metadata": {},
   "source": [
    "+ **Long to wide** table format with `pivot_table`\n",
    "    + `values`: Column or columns to aggregate\n",
    "    + `index`: Keys to group by on the pivot table index\n",
    "    + `columns`: Keys to group by on the pivot table column\n",
    "    + `aggfunc`: aggregation function; default is mean\n",
    "    + `margins`: When interested in the row/column margins (subtotals) for each variable, set argument to `True`\n",
    "    + etc. "
   ]
  },
  {
   "cell_type": "code",
   "execution_count": 17,
   "id": "c8d0f916-83cc-467b-9944-ce383ad92e63",
   "metadata": {
    "scrolled": true
   },
   "outputs": [],
   "source": [
    "# average fare for gender x embarked \n",
    "\n",
    "# average age of gender x embarked x class\n",
    "\n",
    "# survival prob. and counts for gender x embarked x class \n",
    "\n",
    "# include totals in margins\n"
   ]
  },
  {
   "cell_type": "markdown",
   "id": "b44c48c2-1006-4f85-882a-7220c1a2e3d5",
   "metadata": {},
   "source": [
    "+ **Wide to long** format with `melt()`\n",
    "    + `id_vars`: Column(s) to use as identifier variables.\n",
    "    + `value_vars`: Column(s) to unpivot. If not specified, uses all columns that are not set as id_vars.\n",
    "    + `var_name`: Name to use for the 'variable' column. If None it uses frame.columns.name or ‘variable’.\n",
    "    + `value_name`: Name to use for the ‘value’ column, can’t be an existing column label.\n",
    "    + `ignore_index`: If True, original index is ignored. If False, the original index is retained.\n",
    "    + etc."
   ]
  },
  {
   "cell_type": "code",
   "execution_count": 18,
   "id": "2cc1fe1b-5020-4af1-b9b9-fab53b2826fa",
   "metadata": {
    "scrolled": true
   },
   "outputs": [],
   "source": [
    "# dataset with one index\n",
    "# create a wide data format\n",
    "\n",
    "# create a long data format\n"
   ]
  },
  {
   "cell_type": "code",
   "execution_count": 19,
   "id": "606404a0-c4e7-454e-b1ba-44c18518f5dd",
   "metadata": {
    "scrolled": true
   },
   "outputs": [],
   "source": [
    "# data set with two indices\n",
    "# create a wide format of the data\n",
    "\n",
    "# create a long format of the data\n"
   ]
  }
 ],
 "metadata": {
  "kernelspec": {
   "display_name": "Python 3 (ipykernel)",
   "language": "python",
   "name": "python3"
  },
  "language_info": {
   "codemirror_mode": {
    "name": "ipython",
    "version": 3
   },
   "file_extension": ".py",
   "mimetype": "text/x-python",
   "name": "python",
   "nbconvert_exporter": "python",
   "pygments_lexer": "ipython3",
   "version": "3.11.9"
  }
 },
 "nbformat": 4,
 "nbformat_minor": 5
}
