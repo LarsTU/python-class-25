{
 "cells": [
  {
   "cell_type": "code",
   "execution_count": 1,
   "id": "ab9662fac9fce75a",
   "metadata": {
    "ExecuteTime": {
     "end_time": "2025-02-15T18:55:50.482975Z",
     "start_time": "2025-02-15T18:55:49.684676Z"
    }
   },
   "outputs": [],
   "source": [
    "import numpy as np"
   ]
  },
  {
   "cell_type": "markdown",
   "id": "a85059cddcd06a2a",
   "metadata": {},
   "source": [
    "# Code Formatting, Docstrings, & Type Hints\n",
    "\n",
    "**Content**:\n",
    "+ Code Formatting\n",
    "    + `Flake8`\n",
    "    + `Black`\n",
    "+ Docstrings\n",
    "    + Function docstrings\n",
    "    + Class docstrings\n",
    "+ Typing\n",
    "    + `mypy` \n",
    "\n",
    "**Sources**:\n",
    "\n",
    "*Formatting*:\n",
    "   + [list of Flake8 rules](https://www.flake8rules.com/)\n",
    "   + [Flake8 documentation](https://flake8.pycqa.org/en/latest/user/invocation.html)\n",
    "   + [Flake8 tutorial](https://gamedevacademy.org/flake8-tutorial-complete-guide/)\n",
    "   + [Black documentation](https://black.readthedocs.io/en/stable/index.html)\n",
    "    \n",
    "*Documentation*:\n",
    "   + [PEP 257 standards](https://peps.python.org/pep-0257/)\n",
    "   + [Numpydoc standards](https://numpydoc.readthedocs.io/en/latest/format.html)\n",
    "   + [Tutorial in RealPythong](https://realpython.com/documenting-python-code/#docstrings-background)\n",
    "   + [docstring styles in Pandas](https://pandas.pydata.org/docs/development/contributing_docstring.html)\n",
    "\n",
    "*Type hints*:\n",
    "   + [`mypy` documentation](https://mypy.readthedocs.io/en/stable/index.html)\n",
    "   + [Daily Dose of Data Science](https://blog.dailydoseofds.com/p/10-ways-to-declare-type-hints-in)\n",
    "   + [Exploring the Power of Python's `typing` Library](https://blog.dailydoseofds.com/p/10-ways-to-declare-type-hints-in)"
   ]
  },
  {
   "cell_type": "markdown",
   "id": "b815904d-eb73-451b-b117-9426361ba9a2",
   "metadata": {},
   "source": [
    "## Code formatting\n",
    "### Flake8\n",
    "+ `flake8` helps you with formatting your code according to PEP standards\n",
    "+ it checks the code of a specified Python file and provides feedback if the code violates PEP standards\n",
    "+ if your code violates specific formatting standards, the errors are related to specific *error codes*\n",
    "+ an overview of the *error codes* can be found among others here: [https://www.flake8rules.com/](https://www.flake8rules.com/)\n",
    "\n",
    "#### Installation\n",
    "+ Installation: `pip install flake8`\n",
    "+ after having installed `flake8` we can check the code of a specific Python file\n",
    "    + to do this, open the terminal (e.g., GitBash) and type `flake8 <path-to-file>`\n",
    "    + try for example in the Spyder console: `!flake8 py_scripts\\plotting.py` (using the file created during the `intro-spyder session`)\n",
    "+ for checking the code in a jupyter notebook cell, we use an extension `pycodestyle_magic`\n",
    "    + install the extension via `pip install pycodestyle pycodestyle_magic`\n",
    "    + load the extension via writing `%load_ext pycodestyle_magic` in a cell\n",
    "    + use the extension by including `%%pycodestyle` into the cell in which we want to check the code"
   ]
  },
  {
   "cell_type": "code",
   "execution_count": 2,
   "id": "1d1d67e1-d677-439a-9333-29c30dbdce1d",
   "metadata": {},
   "outputs": [],
   "source": [
    "# load flake8 extension for notebooks\n",
    "%load_ext pycodestyle_magic"
   ]
  },
  {
   "cell_type": "markdown",
   "id": "4939d664-075f-48c3-b7ee-a0b3a7d8ba6e",
   "metadata": {},
   "source": [
    "#### Options with `flake8`\n",
    "Consider in the following that the Python file we want to check is called `example.py`\n",
    "+ ignore specific error codes: `flake8 --ignore=E303,E302 example.py`\n",
    "+ change default maximum limit of characters for a line (=79): `flake8 --max-line-length=100 example.py` \n",
    "+ exclude certain files or directories from being checked: `flake8 --exclude=tests/* example.py`\n",
    "+ report only specific errors: `flake8 --select=E303 example.py`\n",
    "\n",
    "Instead of typing your custom configuration always as part of the command, you can configure all the settings in a **configuration file**\n",
    "+ create a file in your main directory with the name `.flake8`\n",
    "    + GitBash Console `$ touch .flake8` (creates a new file in the working directory)\n",
    "+ open `.flake8` in Spyder and copy&paste the following lines of code"
   ]
  },
  {
   "cell_type": "raw",
   "id": "44c0dac9-7115-412f-9f0a-a9b715749c5b",
   "metadata": {},
   "source": [
    "% .flake8\n",
    "\n",
    "[flake8]\n",
    "ignore = E226,E302,E41\n",
    "max-line-length = 120\n",
    "exclude =\n",
    "    tests/*,\n",
    "    __init__.py"
   ]
  },
  {
   "cell_type": "markdown",
   "id": "2903eca8-8c97-474f-8b01-a74695101b08",
   "metadata": {},
   "source": [
    "This configuration file \n",
    "+ sets the maximum line length as 120 characters,\n",
    "+ ignores errors E226, E302, and E41, and\n",
    "+ excludes the `tests` directory and `__init__.py` files from the check.\n",
    "\n",
    "#### Example"
   ]
  },
  {
   "cell_type": "code",
   "execution_count": null,
   "id": "70b4fd59-d01a-4fbf-8176-3573543d9c94",
   "metadata": {},
   "outputs": [],
   "source": [
    "%%pycodestyle\n",
    "def someFunction():\n",
    "    \"\"\"This is a docstring with a longer description of the function's behavior including $\\LaTeX$\"\"\"\n",
    "        I  =0\n",
    "        while I<5:\n",
    "            if ( x<= 10) and (x > =5):\n",
    "              print(\"x between 5 and 10\")\n",
    "            else:\n",
    "                \n",
    "                print(\"x is sth. else\")\n",
    "    "
   ]
  },
  {
   "cell_type": "markdown",
   "id": "1ed523c3-d75a-4c25-a203-bb0379055aea",
   "metadata": {},
   "source": [
    "Formatted code that adheres to PEP standards:\n",
    "\n",
    "Note, the comment `# noqa` behind a code line tells flake8 to ignore this line while checking\n",
    "If you want to ignore only a specific error code for this line, you can simply specify the corresponding code as follows `# noqa: E501`. This would check the line regarding all potential errors except error with code E501"
   ]
  },
  {
   "cell_type": "code",
   "execution_count": null,
   "id": "1dc8818c-c240-467d-a56f-035c8402b17a",
   "metadata": {},
   "outputs": [],
   "source": [
    "%%pycodestyle\n",
    "def someFunction():\n",
    "    \"\"\"This is a docstring with a longer description of the function's behavior including $\\LaTeX$\"\"\"  # noqa: E501\n",
    "    i = 0\n",
    "    while i < 5:\n",
    "        if (x <= 10) and (x >= 5):\n",
    "            print(\"x between 5 and 10\")\n",
    "        else:\n",
    "            print(\"x is sth. else\")"
   ]
  },
  {
   "cell_type": "markdown",
   "id": "e5eb8dae-6109-4165-b85f-9e570c1a6731",
   "metadata": {},
   "source": [
    "#### Use flake8 outside a Jupyter notebook\n",
    "+ Let's try out to use `flake8` for a .py file\n",
    "+ open a new file in Spyder and save it as `.../python-class-25/py_scripts/test_formatters.py` \n",
    "+ copy & paste the following code in your Python file and save the py-file"
   ]
  },
  {
   "cell_type": "code",
   "execution_count": null,
   "id": "e3a65985-78f4-4706-b3b9-bccd29de5ba7",
   "metadata": {},
   "outputs": [],
   "source": [
    "#%% test_formatters.py\n",
    "\n",
    "import os\n",
    "\n",
    "# get current working directory\n",
    "os.getcwd()\n",
    "\n",
    "# change current directory\n",
    "# os.setwd(\"path-to-folder\")\n",
    "\n",
    "x = 4\n",
    "\n",
    "def someFunction():\n",
    "    \"\"\"This is a docstring with a longer description of the function's behavior including $\\LaTeX$\"\"\"\n",
    "    I  =0\n",
    "    while I<5:\n",
    "        if ( x<= 10) and (x >=5):\n",
    "            print(\"x between 5 and 10\")\n",
    "        else:\n",
    "            \n",
    "            print(\"x is sth. else\")"
   ]
  },
  {
   "cell_type": "markdown",
   "id": "e3a6afa5-3fe8-4001-a2de-73a6844766e9",
   "metadata": {},
   "source": [
    "+ open GitBash Terminal pointing to the `python-class-25` directory (e.g., via GitHub Desktop > Repository > Open in GitBash)\n",
    "+ activate the created conda environment\n",
    "    + `$ conda activate python-course-25-env`\n",
    "+ if your forgot how you called your environment, you can list all created conda environments:\n",
    "    + `$ conda env list`\n",
    "+ check that `flake8` is installed in your environment (if not, install it)\n",
    "    + `$ conda list flake8` (should give information about version etc.) \n",
    "+  run flake8 for the file `test_formatters.py`\n",
    "    + `$ flake8 py_scripts/test_formatters.py`\n",
    "+ you should see something like the following: "
   ]
  },
  {
   "cell_type": "raw",
   "id": "cce867ea-46e5-47a4-8d85-f85a7612a4d8",
   "metadata": {},
   "source": [
    "%% GitBash output\n",
    "\n",
    "(python-course-25)\n",
    "bockting@BOCKTING-NB2 MINGW64 ~/Documents/GitHub/python-class-24 (main)\n",
    "$ flake8 py_scripts/test_formatters.py\n",
    "py_scripts/test_formatters.py:11:1: E302 expected 2 blank lines, found 1\n",
    "py_scripts/test_formatters.py:12:80: E501 line too long (101 > 79 characters)\n",
    "py_scripts/test_formatters.py:12:92: W605 invalid escape sequence '\\L'\n",
    "py_scripts/test_formatters.py:13:5: E741 ambiguous variable name 'I'\n",
    "py_scripts/test_formatters.py:13:6: E221 multiple spaces before operator\n",
    "py_scripts/test_formatters.py:13:9: E225 missing whitespace around operator\n",
    "py_scripts/test_formatters.py:14:12: E225 missing whitespace around operator\n",
    "py_scripts/test_formatters.py:15:13: E201 whitespace after '('\n",
    "py_scripts/test_formatters.py:15:15: E225 missing whitespace around operator\n",
    "py_scripts/test_formatters.py:15:31: E225 missing whitespace around operator\n",
    "py_scripts/test_formatters.py:18:1: W293 blank line contains whitespace\n"
   ]
  },
  {
   "cell_type": "markdown",
   "id": "7645f924-8b6a-42f7-a7d3-750d5ff7b7bd",
   "metadata": {},
   "source": [
    "+ alternatively run flake8 directly in the Spyder Console\n",
    "    + `ln [1]: !flake8 py_scripts/test_formatters.py`\n",
    "\n",
    "### `Black` for automatic formatting\n",
    "+ Now you can go step-by-step over the complaints made by `flake8`. \n",
    "+ However, can we not automate this step to help us formatting our code according to PEP standards?\n",
    "+ Yes this is possible, one tool that allows for automatic formatting is for example [Black](https://black.readthedocs.io/en/stable/index.html)\n",
    "+ let's install `black` via GitBash\n",
    "    + `$ pip install black`\n",
    "+ check installation in your environment\n",
    "    + `$ conda list black`\n",
    "+ apply black to `test_formatter.py`\n",
    "    + `$ black py_scripts/test_formatter.py`\n",
    "+ you should get in GitBash something like the following:"
   ]
  },
  {
   "cell_type": "raw",
   "id": "7d5fe7a4-bf72-46af-a060-4a9c99f309d4",
   "metadata": {},
   "source": [
    "(python-course-25)\n",
    "bockting@BOCKTING-NB2 MINGW64 ~/Documents/GitHub/python-class-24 (main)\n",
    "$ black py_scripts/test_formatters.py\n",
    "reformatted py_scripts\\test_formatters.py\n",
    "\n",
    "All done! ✨ 🍰 ✨\n",
    "1 file reformatted.\n"
   ]
  },
  {
   "cell_type": "markdown",
   "id": "e6be0486-200e-4b87-a72d-de2eaf548ab4",
   "metadata": {},
   "source": [
    "+ check the python script in your editor (do you notice the changes?)\n",
    "+ let's check the file again via `flake8`\n",
    "    + `$ flake8 py_scripts/test_formatter.py`\n",
    "    + Tip: When you are in your terminal (e.g. GitBash), use arrow up and down to \"scroll\" to your command history (this reduces the effort of re-typing over and over the same command)\n",
    "+ you should get as output in your terminal sth. as follows:"
   ]
  },
  {
   "cell_type": "raw",
   "id": "14285d7b-cb99-4f72-91cc-e5b94b63a981",
   "metadata": {},
   "source": [
    "(python-course-25)\n",
    "bockting@BOCKTING-NB2 MINGW64 ~/Documents/GitHub/python-class-24 (main)\n",
    "$ flake8 py_scripts/test_formatters.py\n",
    "py_scripts/test_formatters.py:13:80: E501 line too long (101 > 79 characters)\n",
    "py_scripts/test_formatters.py:13:92: W605 invalid escape sequence '\\L'\n",
    "py_scripts/test_formatters.py:14:5: E741 ambiguous variable name 'I'\n"
   ]
  },
  {
   "cell_type": "markdown",
   "id": "c9f2e053-4dfa-4e53-adf2-71e84fa313fd",
   "metadata": {},
   "source": [
    "+ thus, we notice that `black` has indeed reformatted a lot of aspects in our code\n",
    "+ we get clearly less error messages from `flake8`\n",
    "+ some errors remain that we have to adjust \"by hand\":\n",
    "    + the maximum line length\n",
    "    + using `r` in front of our docstring if a backslash is included `r\"\"\"docstring with \\\"\"\"` \n",
    "    + (ambiguous) variable names\n"
   ]
  },
  {
   "cell_type": "markdown",
   "id": "38e83c95-a3da-4657-b441-e4d94cf83098",
   "metadata": {},
   "source": [
    "# Docstrings\n",
    "+ string literal that occurs as the first statement in a module, function, class, or method definition.\n",
    "+ a docstring becomes the `__doc__` special attribute of the corresponding object\n",
    "+  use \"\"\"triple double quotes\"\"\" around docstrings\n",
    "+  and use r\"\"\"raw triple double quotes\"\"\" if you use any *backslashes* in your docstrings (i.e., put an `r` in front of the docstring)."
   ]
  },
  {
   "cell_type": "code",
   "execution_count": 34,
   "id": "824c5c8a-2b67-45c1-b3a3-a0c92568c0e8",
   "metadata": {},
   "outputs": [
    {
     "data": {
      "text/plain": [
       "' This docstring includes Latex: $y_i \\\\sim Normal(\\\\mu, \\\\sigma)$ '"
      ]
     },
     "execution_count": 34,
     "metadata": {},
     "output_type": "execute_result"
    }
   ],
   "source": [
    "def test_doc():\n",
    "    \"\"\"This is the form of a docstring.\n",
    "    \n",
    "    It can be spread over several lines.\n",
    "\n",
    "    \"\"\"\n",
    "\n",
    "# see docstring when using help()\n",
    "\n",
    "\n",
    "# see docstring via the internal .__doc__ method\n",
    "\n",
    "\n",
    "# example of docstring with backslashes\n",
    "def test_doc2():\n",
    "    r\"\"\" This docstring includes Latex: $y_i \\sim Normal(\\mu, \\sigma)$ \"\"\"\n",
    "\n",
    "# see docstring via the internal .__doc__ method\n",
    "\n"
   ]
  },
  {
   "cell_type": "markdown",
   "id": "6379791e-4b48-4e9f-9ec6-5d256781ae3b",
   "metadata": {},
   "source": [
    "### Standards for docstrings\n",
    "+ some standards regarding docstrings exist, which make them easier to read\n",
    "+ a very general standard is [PEP 257](https://peps.python.org/pep-0257/)\n",
    "+ a more specific standard is [numpydoc](https://numpydoc.readthedocs.io/en/latest/format.html) docstring\n",
    "+ in the following we will see some example docstrings following the `numpydoc`style\n",
    "\n",
    "### `numpydoc` style\n",
    "The following information are taken from [https://numpydoc.readthedocs.io/en/latest/format.html](https://numpydoc.readthedocs.io/en/latest/format.html).\n",
    "+ length of docstring lines should be kept to 75 characters to facilitate reading the docstrings in text terminals.\n",
    "\n",
    "#### Sections in a function docstring\n",
    "+  **short summary**: one-line summary\n",
    "+  **deprecation warning**: warn users that the object is deprecated. Should include information about\n",
    "    + when object was deprecated (in which version)\n",
    "    + reasons for deprecation\n",
    "    + new recommended way of obtaining the same functionality\n",
    "+ **extended summary**: few sentences giving an extended description\n",
    "+ **parameters**: description of the function arguments, keywords and their respective types\n",
    "    +  colon must be preceded by a space, or omitted if the type is absent\n",
    "    +  optional keyword parameters have default values, which are displayed\n",
    "    +  parameters that only assume one of a fixed set of values: values can be listed in braces, with the default appearing first\n",
    "    +  two or more input parameters with exactly the same type, shape and description can be combined\n",
    "    +  documenting variable length positional, or keyword arguments, leave the leading star(s) in front of the name and do not specify a type\n",
    "+ **returns**: explanation of the returned values and their types\n",
    "+ **raises**: optional section detailing which errors get raised and under what conditions\n",
    "+ **notes**: optional section that provides additional information about the code, possibly including a discussion of the algorithm.\n",
    "+ **references**: References cited in the Notes section may be listed here, e.g. if you cited the article below using the text [1]_\n",
    "+ **examples**: optional section for examples meant to illustrate usage of the function\n",
    "+ Further sections are **yields, receives, warns, warnings, see also**\n",
    "\n",
    "Examples:\n",
    "+ [numpy.outer()](https://github.com/numpy/numpy/blob/v2.2.0/numpy/_core/numeric.py#L876-L961)\n",
    "+ [numpy.eigh()](https://github.com/numpy/numpy/blob/v2.2.0/numpy/linalg/_linalg.py#L1485-L1630)"
   ]
  },
  {
   "cell_type": "code",
   "execution_count": null,
   "id": "7589e4d9-bf20-492c-affd-e502c60f7edf",
   "metadata": {},
   "outputs": [],
   "source": [
    "def example_doc(y, x_1=-1, x_2=-1, order=\"C\", *args, **kwargs):\n",
    "    \"\"\"The sum of two numbers.\n",
    "\n",
    "    .. deprecated:: 1.6.0\n",
    "          `ndobj_old` will be removed in NumPy 2.0.0, it is replaced by\n",
    "          `ndobj_new` because the latter works also with array subclasses.\n",
    "\n",
    "    Parameters\n",
    "    ----------\n",
    "    x_1, x_2 : type\n",
    "        Description of parameters `x_1`, `x_2`. (the default is -1, which implies summation\n",
    "        over all axes).\n",
    "    y\n",
    "        Description of parameter `y` (with type not specified).\n",
    "    order : {'C', 'F', 'A'}\n",
    "        Description of `order`.\n",
    "    *args\n",
    "        Additional arguments should be passed as keyword arguments\n",
    "    **kwargs\n",
    "        Extra arguments to `metric`: refer to each metric documentation for a\n",
    "        list of all possible arguments.\n",
    "\n",
    "    Returns\n",
    "    -------\n",
    "    int\n",
    "        Description of anonymous integer return value.\n",
    "\n",
    "    Raises\n",
    "    ------\n",
    "    LinAlgException\n",
    "        If the matrix is not numerically invertible.\n",
    "\n",
    "    Notes\n",
    "    -----\n",
    "    The FFT is a fast implementation of the discrete Fourier transform [1]_:\n",
    "    \n",
    "    .. math:: X(e^{j\\omega } ) = x(n)e^{ - j\\omega n}\n",
    "\n",
    "    .. [1] O. McNoleg, \"The integration of GIS, remote sensing,\n",
    "       expert systems and adaptive co-kriging for environmental habitat\n",
    "       modelling of the Highland Haggis using object-oriented, fuzzy-logic\n",
    "       and neural-network techniques,\" Computers & Geosciences, vol. 22,\n",
    "       pp. 585-588, 1996.\n",
    "\n",
    "    Examples\n",
    "    --------\n",
    "    >>> np.add(1, 2)\n",
    "    3\n",
    "    \n",
    "    Comment explaining the second example.\n",
    "    \n",
    "    >>> np.add([[1, 2], [3, 4]],\n",
    "    ...        [[5, 6], [7, 8]])\n",
    "    array([[ 6,  8],\n",
    "           [10, 12]])\n",
    "    \"\"\""
   ]
  },
  {
   "cell_type": "markdown",
   "id": "65628e6a-7b3b-46d7-ba17-f370d7110573",
   "metadata": {},
   "source": [
    "#### The Class docstring\n",
    "+ same sections as outlined for function docstrings (except Returns)\n",
    "+ special sections for classes:\n",
    "    + **attributes**: located below the Parameters section, may be used to describe non-method attributes of the class\n",
    "    + **methods**: optional, allows to list all class methods. Generally, not necessary. Situation where it is useful: class has a lot of methods but only a few are relevant for the user. Methods that are not part of the public API have names that start with an underscore.\n",
    "\n",
    "Example:\n",
    "+ [pandas class Grouper](https://github.com/pandas-dev/pandas/blob/main/pandas/core/groupby/grouper.py)\n",
    "+ [pandas class ExtensionArray](https://github.com/pandas-dev/pandas/blob/main/pandas/core/arrays/base.py#L786)"
   ]
  },
  {
   "cell_type": "markdown",
   "id": "83685aae-ab54-4c50-95bf-781b4ca68ccf",
   "metadata": {},
   "source": [
    "## Commenting Code via Type Hinting\n",
    "### Why should we use *typing*?\n",
    "\n",
    "+ improved code **readability and maintainability**\n",
    "    + makes code more self-documenting\n",
    "    + better tracability of input-output structure in computational workflow \n",
    "+ **reduced errors**\n",
    "    + type checkers (such as `mypy`) can catch type errors early\n",
    "+ **easier onboarding** of new developers\n",
    "    + new developers can faster understand the codebase\n",
    "\n",
    "### Tool for type checking: `mypy` and `nb_mypy`\n",
    "\n",
    "+ `mypy` is an optional static type checker for Python.\n",
    "+ to use `mypy` for Jupyter notebooks we need the extension `nb_mypy` which is a facility to automatically run `mypy` on Jupyter notebook cells as they are executed, whilst retaining information about the execution history.\n",
    "\n",
    "#### Install `mypy`and `nb_mypy`\n",
    "\n",
    "+ open GitBash Terminal and activate conda environment\n",
    "+ install the `nb_mypy` and `mypy`\n",
    "    + `$ pip install mypy`\n",
    "    + `$ pip install nb_mypy`\n",
    "+ check installation in your environment\n",
    "    + `$ conda list mypy` (both, mypy and the extension nb-mypy should be listed)\n",
    "+ back to the jupyter notebook, restart kernel (either by pressing two times `0` on your keyboard or using the button with the circle/arrow in the upper toolbar)\n",
    "+ load extension in Jupyter notebook:"
   ]
  },
  {
   "cell_type": "code",
   "execution_count": null,
   "id": "55c2a7fd-9a21-4646-bedd-7dfa4eede989",
   "metadata": {},
   "outputs": [],
   "source": [
    "# load mypy extension in jupyter notebook\n",
    "%load_ext nb_mypy"
   ]
  },
  {
   "cell_type": "markdown",
   "id": "b4b9c109-6f69-4978-a508-5dc3dd6f11bc",
   "metadata": {},
   "source": [
    "### Basic data types\n",
    "It is possible to provide type hints for basic data types."
   ]
  },
  {
   "cell_type": "code",
   "execution_count": 37,
   "id": "b4631e14520ac819",
   "metadata": {
    "ExecuteTime": {
     "end_time": "2025-02-15T18:45:25.327019Z",
     "start_time": "2025-02-15T18:45:25.321514Z"
    }
   },
   "outputs": [],
   "source": [
    "# basic type hints\n",
    "name:  = \"Anna\"\n",
    "year:  = 1990\n",
    "countries:  = [\"Germany\", \"Peru\", \"Italy\"]\n",
    "password:  = {\"user\": 123}\n",
    "shape:  = (2, 3)\n"
   ]
  },
  {
   "cell_type": "markdown",
   "id": "a27f40b9b5fa9ff6",
   "metadata": {},
   "source": [
    "using the `typing` module for annotation provides us with more flexibility"
   ]
  },
  {
   "cell_type": "code",
   "execution_count": null,
   "id": "96227fdba9eaf878",
   "metadata": {},
   "outputs": [],
   "source": [
    "from typing import List, Tuple, Dict\n",
    "\n",
    "countries:   = [\"Germany\",\"Peru\",\"Italy\"]\n",
    "password:   = {\"user\": 123}\n",
    "double_password:   = {\"user\": [123, 234], \"user2\": [123, 234], \"user3\": [123, 234]}\n",
    "shape:   = (2,3)\n",
    "\n",
    "# when you want declare iterables (i.e., tuples, lists, dicts) of various length\n",
    "shape2:   = (2,3,4) # mpypy raises an error\n",
    "shape3:   = (2,3,4) # works\n",
    "# let us redefine shape3 as a singleton\n",
    "shape3 = (2,)\n"
   ]
  },
  {
   "cell_type": "markdown",
   "id": "81d07d5b-eacb-4202-8a43-5f21fa1f4c3e",
   "metadata": {},
   "source": [
    "### Function annotations\n",
    "In the function below the arguments, `x`, `y`, as well as the return type are expected to be integers."
   ]
  },
  {
   "cell_type": "code",
   "execution_count": null,
   "id": "5a80a33327359e10",
   "metadata": {
    "ExecuteTime": {
     "end_time": "2025-02-15T18:47:12.449142Z",
     "start_time": "2025-02-15T18:47:12.222106Z"
    }
   },
   "outputs": [],
   "source": [
    "def addition(x:  , y:  ) ->  :\n",
    "    return x+y\n",
    "\n",
    "# working example\n",
    "\n",
    "\n",
    "# mpyp raises a conflict:\n"
   ]
  },
  {
   "cell_type": "markdown",
   "id": "8c02c3d74fe0c169",
   "metadata": {},
   "source": [
    "### Unions (`Union[T,U]`)\n",
    "The union type `Union[T,U]` means either type `T` or `U`."
   ]
  },
  {
   "cell_type": "code",
   "execution_count": null,
   "id": "34b039c7c8a52f2c",
   "metadata": {
    "ExecuteTime": {
     "end_time": "2025-02-15T19:54:06.296476Z",
     "start_time": "2025-02-15T19:53:57.410396Z"
    },
    "scrolled": true
   },
   "outputs": [],
   "source": [
    "from typing import Union\n",
    "\n",
    "# from Python 3.9 onwards:\n",
    "# when the output can be of different type\n",
    "def multiply(x:  , y:  ) ->  :\n",
    "    return x*y\n",
    "\n",
    "# alternative using Union\n",
    "def multiply2(x:  , y:  ) ->  :\n",
    "    return x*y\n",
    "\n",
    "# integer as input\n",
    "\n",
    "\n",
    "# mix as input\n",
    "\n",
    "\n",
    "# invalid input -> mypy raises an error\n",
    "\n"
   ]
  },
  {
   "cell_type": "markdown",
   "id": "e2af4038-51ce-4a93-917c-0d96b5fb877d",
   "metadata": {},
   "source": [
    "additional properties of `Union`\n",
    "+ unions of unions are flattened\n",
    "+ redundant arguments are skipped"
   ]
  },
  {
   "cell_type": "code",
   "execution_count": 42,
   "id": "5b4219f6-a503-4f0a-83c7-0ae1e7a5fd7f",
   "metadata": {},
   "outputs": [],
   "source": [
    "# unions of unions are flattened\n",
    " \n",
    "\n",
    "# redundant arguments are skipped\n",
    "\n"
   ]
  },
  {
   "cell_type": "markdown",
   "id": "794d6501b750f948",
   "metadata": {},
   "source": [
    "### Type aliases\n",
    "\n",
    "A type alias is defined by assigning the type to the alias.\n",
    "In the following example, `Union[int, float]` and `IntFloat` will be treated as synonyms."
   ]
  },
  {
   "cell_type": "code",
   "execution_count": 44,
   "id": "184a24a483fa2e5f",
   "metadata": {
    "ExecuteTime": {
     "end_time": "2025-02-15T18:54:51.376985Z",
     "start_time": "2025-02-15T18:54:51.156487Z"
    }
   },
   "outputs": [],
   "source": [
    " \n",
    "\n",
    "def multiply3(x:  , y:  ) ->  :\n",
    "    return x*y"
   ]
  },
  {
   "cell_type": "markdown",
   "id": "324431370f51e6c2",
   "metadata": {},
   "source": [
    "### Callables (`Callable`)\n",
    "We can also indicate that the type is a function or class object via the `Callable` type.\n",
    "The type hint is used as follows: `Callable[[Arg1Type, Arg2Type], ReturnType]`."
   ]
  },
  {
   "cell_type": "code",
   "execution_count": null,
   "id": "6d2d9a9e2696268c",
   "metadata": {
    "ExecuteTime": {
     "end_time": "2025-02-15T20:06:21.794286Z",
     "start_time": "2025-02-15T20:06:20.925944Z"
    }
   },
   "outputs": [],
   "source": [
    "from typing import Callable\n",
    "# write your own function\n",
    "def div(x:  , y:  ) ->  :\n",
    "    return x/y\n",
    "\n",
    "# let's create a type alias\n",
    " \n",
    "\n",
    "# write a custom function that takes two values and\n",
    "# returns the result when applying our custom method\n",
    "def math_op(a:  , b:  , div_method:  ) ->  :\n",
    "    return div_method(a,b)\n",
    "\n",
    "# works\n",
    "\n",
    "\n",
    "# mypy raises an error\n",
    "\n"
   ]
  },
  {
   "cell_type": "markdown",
   "id": "94f7dcc0-6b30-4492-9ae0-ca7b312570cf",
   "metadata": {},
   "source": [
    "### Arbitrary types (`Any`)\n",
    "+ [Source: Any](https://mypy.readthedocs.io/en/stable/kinds_of_types.html)\n",
    "+ Any is compatible with every other type, and vice versa. \n",
    "+ You can freely assign a value of type Any to a variable with a more precise type:"
   ]
  },
  {
   "cell_type": "code",
   "execution_count": 54,
   "id": "b99dd1349ab5e24c",
   "metadata": {
    "ExecuteTime": {
     "end_time": "2025-02-15T19:13:32.335977Z",
     "start_time": "2025-02-15T19:13:31.442503Z"
    }
   },
   "outputs": [
    {
     "data": {
      "text/plain": [
       "list"
      ]
     },
     "execution_count": 54,
     "metadata": {},
     "output_type": "execute_result"
    }
   ],
   "source": [
    "from typing import Any\n",
    "# when the type of the variable can be of any kind\n",
    "def misc(a:  ) ->  :\n",
    "    return a\n",
    "    \n",
    "# string\n",
    "type(misc(\"Hello\"))\n",
    "# float\n",
    "type(misc(1.2))\n",
    "# list\n",
    "type(misc([1,\"A\",sum]))"
   ]
  },
  {
   "cell_type": "markdown",
   "id": "e0d5f12b-ec8d-441b-b421-0843e7f8139a",
   "metadata": {},
   "source": [
    "### Typed Dictionaries (`TypedDict`)\n",
    "+ [Source: TypedDict](https://mypy.readthedocs.io/en/stable/typed_dict.html)\n",
    "+ `TypedDict` lets you give precise types for dictionaries that represent objects with a fixed schema"
   ]
  },
  {
   "cell_type": "code",
   "execution_count": 56,
   "id": "aaeec8aa-e957-4f16-8146-6d8e5da075d2",
   "metadata": {},
   "outputs": [
    {
     "data": {
      "text/plain": [
       "{'seed': 10.0, 'weight': 1, 'method': 'parametric'}"
      ]
     },
     "execution_count": 56,
     "metadata": {},
     "output_type": "execute_result"
    }
   ],
   "source": [
    "# use Any for indicating different possible dict values\n",
    "def user_input(seed:  , weight:  , method:  ) ->  :\n",
    "    res_dict = dict(\n",
    "        seed = float(seed),     # assume some internal process changes the type\n",
    "        weight = int(weight),   # for seed and weight\n",
    "        method = method\n",
    "    )\n",
    "    return res_dict\n",
    "\n",
    "# changes in type are not recognized by Any\n",
    " \n"
   ]
  },
  {
   "cell_type": "code",
   "execution_count": null,
   "id": "3040e7bf-7b3e-46b0-b915-5b92249e0ecd",
   "metadata": {},
   "outputs": [],
   "source": [
    "from typing import TypedDict\n",
    "\n",
    "# create a TypedDict that represents the structure\n",
    "\n",
    "\n",
    "\n",
    "def user_input2(seed:  , weight:  , method:  ) ->  :\n",
    "    res_dict: UserInputType = dict(\n",
    "        seed = float(seed),     # assume some internal process changes the type\n",
    "        weight = int(weight),   # for seed and weight\n",
    "        method = method\n",
    "    )\n",
    "    return res_dict\n",
    "\n",
    "# changes in type are recognized and mypy raises an error\n",
    "\n"
   ]
  },
  {
   "cell_type": "markdown",
   "id": "fe2fd67286d24b04",
   "metadata": {},
   "source": [
    "### Generics (`TypeVar`)\n",
    "Serve as the parameters for generic types as well as for generic function definitions.\n",
    "Let's see how generic functions work:\n"
   ]
  },
  {
   "cell_type": "code",
   "execution_count": 96,
   "id": "280602d679f4a10c",
   "metadata": {
    "ExecuteTime": {
     "end_time": "2025-02-15T20:30:04.874765Z",
     "start_time": "2025-02-15T20:30:04.098818Z"
    }
   },
   "outputs": [
    {
     "name": "stdout",
     "output_type": "stream",
     "text": [
      "['Hello World!', 'Hello World!', 'Hello World!']\n",
      "This is a capitalized sentence.\n",
      "3\n",
      "3.0\n"
     ]
    }
   ],
   "source": [
    "from typing import TypeVar, Sequence\n",
    "\n",
    "T = TypeVar('T')  # Can be anything\n",
    "S = TypeVar('S', bound=str)  # Can be any subtype of str\n",
    "A = TypeVar('A', float, int)  # Must be exactly float or int\n",
    "\n",
    "def repeat(x: T, n: int) -> Sequence[T]:\n",
    "    \"\"\"Return a list containing n references to x.\"\"\"\n",
    "    return [x]*n\n",
    "\n",
    "print(repeat(\"Hello World!\", 3))\n",
    "\n",
    "def print_capitalized(x: S) -> S:\n",
    "    \"\"\"Print x capitalized, and return x.\"\"\"\n",
    "    print(x.capitalize())\n",
    "    return x\n",
    "\n",
    "print_capitalized(\"this is a capitalized sentence.\")\n",
    "\n",
    "def add_a(x: A, y: A) -> A:\n",
    "    \"\"\"Add two integers or floats together.\"\"\"\n",
    "    return x+y\n",
    "\n",
    "print(add_a(1,2))\n",
    "\n",
    "# raises a conflict as only one constraint can be true at a time\n",
    "print(add_a(1,2.))"
   ]
  },
  {
   "cell_type": "markdown",
   "id": "63807b297d64ae7d",
   "metadata": {},
   "source": [
    "### Optional (`Optional`)\n",
    "This concept is useful when an explicit value of `None` is allowed. Note that this argument does not require to be an *optional* argument.\n"
   ]
  },
  {
   "cell_type": "code",
   "execution_count": null,
   "id": "e0721a606832321a",
   "metadata": {
    "ExecuteTime": {
     "end_time": "2025-02-15T20:37:01.998408Z",
     "start_time": "2025-02-15T20:37:01.113287Z"
    }
   },
   "outputs": [],
   "source": [
    "from typing import Optional\n",
    "\n",
    "def greeting(names:  , greet:   = None) ->  :\n",
    "    # greeting is \"Hello\"\n",
    "    if greet is None:\n",
    "        greet = \"Hello\"\n",
    "    # custom greeting\n",
    "    else:\n",
    "       greet = greet\n",
    "    # print greeting\n",
    "    for i in range(len(names)):\n",
    "        print(greet+\" \"+names[i])\n",
    "\n",
    "# working example\n",
    "\n",
    "\n",
    "# raises an error\n",
    "\n"
   ]
  },
  {
   "cell_type": "markdown",
   "id": "5f2340a641390f58",
   "metadata": {},
   "source": [
    "### `Final`\n",
    "Special typing construct to indicate to type checkers that a name cannot be re-assigned or overwritten in a subclass"
   ]
  },
  {
   "cell_type": "code",
   "execution_count": null,
   "id": "a0c5ef997ae55cf1",
   "metadata": {
    "ExecuteTime": {
     "end_time": "2025-02-15T20:42:11.825049Z",
     "start_time": "2025-02-15T20:42:10.923721Z"
    }
   },
   "outputs": [],
   "source": [
    "# working with constants\n",
    "from typing import Final\n",
    "\n",
    " \n",
    "\n",
    "def area_circle(radius:  ) ->  :\n",
    "    return PI*radius**2\n",
    "\n",
    "area_circle(2)\n",
    "\n",
    "# try to change PI\n",
    " "
   ]
  },
  {
   "cell_type": "markdown",
   "id": "6ec601520c73a6a2",
   "metadata": {},
   "source": [
    "### `Literal`\n",
    "Can be used to indicate that the corresponding variable/function parameter has a value equivalent to the provided literal.\n"
   ]
  },
  {
   "cell_type": "code",
   "execution_count": null,
   "id": "90c3b57941013cd0",
   "metadata": {
    "ExecuteTime": {
     "end_time": "2025-02-15T19:12:05.113201Z",
     "start_time": "2025-02-15T19:12:04.130179Z"
    }
   },
   "outputs": [],
   "source": [
    "# working with fixed sets\n",
    "# Grades in school in Germany: 1,2,3,4,5,6\n",
    "\n",
    "from typing import List, Literal\n",
    "\n",
    "def get_gpa(grade_ger:  ) ->  :\n",
    "    return np.mean(grade_ger, dtype=float)\n",
    "\n",
    "# hand over a list of numbers within the range\n",
    " \n",
    "\n",
    "# what happens if we put a number outside the range?\n",
    "\n"
   ]
  }
 ],
 "metadata": {
  "kernelspec": {
   "display_name": "Python 3 (ipykernel)",
   "language": "python",
   "name": "python3"
  },
  "language_info": {
   "codemirror_mode": {
    "name": "ipython",
    "version": 3
   },
   "file_extension": ".py",
   "mimetype": "text/x-python",
   "name": "python",
   "nbconvert_exporter": "python",
   "pygments_lexer": "ipython3",
   "version": "3.11.11"
  }
 },
 "nbformat": 4,
 "nbformat_minor": 5
}
