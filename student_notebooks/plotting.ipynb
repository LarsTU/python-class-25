{
 "cells": [
  {
   "cell_type": "markdown",
   "id": "d164629a-3df9-4ad9-8930-a54b78dab9ad",
   "metadata": {},
   "source": [
    "# Data visualization with pyplot and seaborn\n",
    "\n",
    "**References**:\n",
    "+ https://matplotlib.org/stable/tutorials/pyplot.html\n",
    "\n",
    "**Content**:\n",
    "+ Matplotlib\n",
    "    + figures in pyplot\n",
    "    + create a new figure\n",
    "    + indexing of subplots\n",
    "    + adjust properties of axes\n",
    "    + Working with data\n",
    "+ Seaborn\n",
    "    + Visualizing relational data\n",
    "        + Axes-level functions & plt.subplots\n",
    "        + axes-level vs. figure-level functions\n",
    "        + adjusting figure size\n",
    "    + Visualizing distributions\n",
    "        + Using joint plot & pair plot\n",
    "    + Visualizing categorical data"
   ]
  },
  {
   "cell_type": "markdown",
   "id": "1cba00a5-b613-4759-bda2-93a1a9b3e18d",
   "metadata": {},
   "source": [
    "## Matplotlib\n",
    "\n",
    "+ [API](https://matplotlib.org/stable/api/index.html)\n",
    "+ we make use in particular of the module `pyplot` from `matplotlib` which is abbreviated by convention with `plt` when importing the module\n",
    "    + import module: `import matplotlib.pyplot as plt`  \n",
    "+ Matplotlib graphs your data on `Figures` which can contain\n",
    "    + one or more axes, and\n",
    "    + an area where data points can be specified in terms of x-y coordinates.\n",
    "\n",
    "### Parts of a Figure\n",
    "<img src=\"https://matplotlib.org/stable/_images/anatomy.png\" width=\"400\"/>\n",
    "\n",
    "**Axes**\n",
    "+ Artist attached to a Figure\n",
    "+ contains a region for plotting data, and usually includes 2 or 3 Axis objects that provide ticks and tick labels to provide scales for the data\n",
    "+ Each Axes also has\n",
    "  + a title (`set_title()`),\n",
    "    + an x- and y-label (`set_xlabel()`, `set_ylabel()`)\n",
    "\n",
    "**Artist**\n",
    "+ everything visible on the Figure is an Artist\n",
    "+ includes Text objects, Line2D objects, collections objects, Patch objects, etc.\n",
    "\n",
    "### Create a new figure\n",
    "+ single figure:\n",
    "    + `fig = plt.figure()`\n",
    "    + returns a figure without subplots \n",
    "+ figure with subplots:\n",
    "    + `fig, axs = plt.subplots(nrow, ncol)`\n",
    "    + returns a tuple consisting of a figure and a set of axes\n",
    "+ figure with subfigures that consists of subplots: \n",
    "```\n",
    "fig = plt.figure()\n",
    "subfigs = fig.subfigures(nrow, ncol)\n",
    "subfigure0 = subfigs[0].subplots(nrow, ncol)\n",
    "```"
   ]
  },
  {
   "cell_type": "code",
   "execution_count": 1,
   "id": "9c5788a1-a5d5-4238-97ad-611fce4a49e6",
   "metadata": {},
   "outputs": [],
   "source": [
    "# import module\n"
   ]
  },
  {
   "cell_type": "code",
   "execution_count": 1,
   "id": "0e5c26ed-686a-4e11-b119-c5f0842ae1cf",
   "metadata": {},
   "outputs": [],
   "source": [
    "# create an empty figure\n",
    "\n",
    "# create a figure with a two subplots arranged in 1 row and 2 columns\n",
    "\n",
    "# create a figure with two subfigures that consists of subplots\n"
   ]
  },
  {
   "cell_type": "markdown",
   "id": "3dd58b92-9259-46e0-959a-72ee8a770b4e",
   "metadata": {},
   "source": [
    "### Indexing of subplots\n",
    "+ numbering of subplots: the order is always `(row, col)` and we start indexing with **zero**\n",
    "    + thus, in a 2x2 plot\n",
    "        + the upper left plot is `axs[0,0]` (first row, first col)\n",
    "        + the lower left plot is `axs[1,0]` (second row, first col)\n",
    "        + etc.\n",
    "    + **Note**, when we have only one row or one column, we use only scalars for indexing\n",
    "        + e.g. in a 2x1 plot (two rows, one column), we call the upper subplot by `axs[0]` and the lower one by `axs[1]`  "
   ]
  },
  {
   "cell_type": "code",
   "execution_count": 2,
   "id": "4d14cdea-c0a1-4c38-9dae-169553205632",
   "metadata": {},
   "outputs": [],
   "source": [
    "# an example figure with subplots\n",
    "\n",
    "# numbering in a 2x3 figure \n",
    "\n",
    "# set titles per subplot\n",
    "\n",
    "# print only figure without further information\n",
    "\n",
    "# numbering in a 1x3 figure\n",
    "\n",
    "# set titles per subplot\n"
   ]
  },
  {
   "cell_type": "markdown",
   "id": "4a28520f-313f-4218-bdf2-70e83badfb4f",
   "metadata": {},
   "source": [
    "### Adjust properties of the axes\n",
    "+ when we address the axes of a subplot the methods name usually starts with `set_`\n",
    "+ in the following some examples:\n",
    "    + `set_title`: add **title** to your plot\n",
    "    + `set_xlabel`: add **label** for your **x-axis**\n",
    "    + `set_ylabel`: add **label** for your **y-axis**\n",
    "    + `set_xlim`: set the **limits** of your **x-axis**\n",
    "    + `set_ylim`: set the **limits** of your **y-axis**\n",
    "    + `set_xticks`: provide list of ticks that you want to show on your x-axis (same for yticks)\n",
    "    + `set_xticklabels`: provide list of labels that your ticks should have on your x-axis (same for yticklabels)\n",
    "    + `set_axis_off`: remove a subplot from the grid\n",
    "+ but we can also add some text or arrows:\n",
    "    + `text`: incorporate some text in your figure\n",
    "    + annotated arrow:\n",
    "```\n",
    "annotate('text', xy=(0.5, 0.5), xytext=(0.1, 0.8),\n",
    "         arrowprops=dict(facecolor='black', shrink=0.1))\n",
    "```"
   ]
  },
  {
   "cell_type": "code",
   "execution_count": 3,
   "id": "008b0a5f-20e5-4fec-9cea-e176fc675908",
   "metadata": {},
   "outputs": [],
   "source": [
    "# an example 2x3 figure with subplots\n",
    "# create 2x3 figure \n",
    "\n",
    "# set label for x and y axis\n",
    "\n",
    "# remove last plot in first row\n",
    "\n",
    "# set limits of y-axis for 2nd plot in 1st row\n",
    "\n",
    "# modify ticks on the x-axis (1st plot 2nd row)\n",
    "\n",
    "# add new labels to modified x-ticks\n",
    "\n",
    "# create text \n",
    "\n",
    "# draw an annotated arrow\n"
   ]
  },
  {
   "cell_type": "markdown",
   "id": "d729de79-91d7-4096-bab5-c85e8e001f55",
   "metadata": {},
   "source": [
    "### Working with data \n",
    "\n",
    "+ the `plot` function takes x and y lists or arrays\n",
    "+ when you provide a single list/array, pyplot assumes it is a sequence of y values, and automatically generates the x values for you\n",
    "+ you can make a lot of modifications to your plot ([see API for more info](https://matplotlib.org/stable/api/_as_gen/matplotlib.lines.Line2D.html#matplotlib.lines.Line2D.set_marker)) for example :\n",
    "    + `linestyle = {'--',':','',}` : dashed, dotted, no-line\n",
    "    + `linewidth = float`\n",
    "    + `marker = '.', 'o', '2', 'v', ...` : point, circle, tri_up, triangle_down, etc. [see here for more info](https://matplotlib.org/stable/api/markers_api.html#module-matplotlib.markers)\n",
    "    + `markersize = float`\n",
    "    + `color = {'r', 'red', Hex, RGB, ...}`: [see here for info about specifying colors](https://matplotlib.org/stable/users/explain/colors/colors.html#colors-def)\n",
    "+ it is also possible to have multiple data points in one plot (e.g., when you have a grouping variable\n",
    "    + you can specify the different data sequentially in one `plot` or you use a `for`-loop "
   ]
  },
  {
   "cell_type": "code",
   "execution_count": 4,
   "id": "a3de1133-cedd-47f6-baa3-28576abbd902",
   "metadata": {},
   "outputs": [],
   "source": [
    "# import numpy\n",
    "\n",
    "# create some data for plotting\n",
    "\n",
    "\n",
    "# create a 2x2 figure\n",
    "\n",
    "# provide x and y data \n",
    "\n",
    "# a single data array will be interpreted as y-values, x-values will be autom. generated as a range of same length\n",
    "\n",
    "# change marker type, color, linestyle\n",
    "\n",
    "# short notation including color (first letter) and marker type (second letter)\n"
   ]
  },
  {
   "cell_type": "code",
   "execution_count": 5,
   "id": "39b0592b-9b33-44b8-a25f-8c7b4a7d6eaa",
   "metadata": {},
   "outputs": [],
   "source": [
    "# create some data for plotting\n",
    "\n",
    "# multiple data in one plot\n",
    "\n",
    "# alternative \n"
   ]
  },
  {
   "cell_type": "markdown",
   "id": "2213fe05-fc7d-452d-868e-28c3ae0c2911",
   "metadata": {},
   "source": [
    "**Plotting with dictionnaries**\n",
    "+ sofar we used lists or arrays for plotting, now we use dictionnaries\n",
    "\n",
    "**Plotting categorical data**\n",
    "+ to plot categorical data, we can also use histograms, barplots, boxplots, etc. (`plt.hist`, `plt.barplot`, `plt.boxplot`, etc.)"
   ]
  },
  {
   "cell_type": "code",
   "execution_count": 6,
   "id": "8d5f1f95-7bf1-406d-a70d-89c66b6a523d",
   "metadata": {},
   "outputs": [],
   "source": [
    "# generate data\n",
    "# we have 3 groups (a,b,c) with 10 observations each. \n",
    "# We assume y is a linear function of x: b*x. Every group has a different 'b'\n",
    "\n",
    "# create a new dictionary with one entry\n",
    "\n",
    "# add further entries to the dict \n",
    "\n",
    "# plot data\n"
   ]
  },
  {
   "cell_type": "code",
   "execution_count": 132,
   "id": "7d3492c5-77f9-4fb1-9f9e-dd6f075a2e27",
   "metadata": {},
   "outputs": [
    {
     "data": {
      "image/png": "[encoded data removed]",
      "text/plain": [
       "<Figure size 800x250 with 3 Axes>"
      ]
     },
     "metadata": {},
     "output_type": "display_data"
    }
   ],
   "source": [
    "# another (more elaborate) example\n",
    "import numpy as np\n",
    "import pandas as pd\n",
    "from sklearn import datasets\n",
    "\n",
    "# load data set\n",
    "d = datasets.load_iris()\n",
    "# print(d)\n",
    "# format dataset as DataFrame with feature names as column names\n",
    "dat = pd.DataFrame(d[\"data\"], columns = d[\"feature_names\"])\n",
    "# add info about species as column to dataframe\n",
    "dat[\"species\"] = d[\"target\"]\n",
    "# relabel values from 0,1,2 to 'setosa', 'versicolor', 'virginica'\n",
    "dat[\"species\"] = dat[\"species\"].replace([0,1,2],d[\"target_names\"])\n",
    "# create color names for each species \n",
    "dat[\"species_col\"] = dat[\"species\"].replace(d[\"target_names\"],[\"r\",\"y\",\"g\"])\n",
    "# show first lines of data\n",
    "dat.head()\n",
    "\n",
    "fig, ax = plt.subplots(1,3, constrained_layout = True, figsize = (8,2.5))\n",
    "# create scatter plot\n",
    "for loc, spec in enumerate(d[\"target_names\"]):\n",
    "    dat_filtered = dat[dat[\"species\"] == spec]\n",
    "    ax[0].scatter(x = dat_filtered[\"petal length (cm)\"], \n",
    "                   y = dat_filtered[\"sepal length (cm)\"],  # data\n",
    "                   s = 3,                                  # size of scatter points\n",
    "                   c = dat_filtered[\"species_col\"],        # color data according to a grouping variable \n",
    "                   label = spec)                           # label data accordingly\n",
    "    # create histogram\n",
    "    ax[1].hist(dat_filtered[\"petal length (cm)\"], bins = 10, label = spec, density = True)\n",
    "    # create boxplot\n",
    "    ax[2].boxplot(dat_filtered[\"sepal length (cm)\"], positions = [loc])\n",
    "\n",
    "# adjust axes and legend for scatterplot \n",
    "ax[0].legend(fontsize = 8,                 # size of label text\n",
    "            markerscale = 1,               # size of handle \n",
    "            handletextpad = 0.1)           # distance between label text and handle\n",
    "ax[0].set_xlabel(\"petal length (cm)\")      # set labels of x and y-axis\n",
    "ax[0].set_ylabel(\"sepal length (cm)\")\n",
    "\n",
    "# adjust axes and legend for scatterplot \n",
    "ax[1].legend(fontsize = 8, markerscale = 0.5, frameon=False, handlelength=0.5)\n",
    "ax[1].set_xlabel(\"petal length (cm)\")\n",
    "ax[1].set_ylabel(\"density\")\n",
    "\n",
    "# adjust axes and legend for boxplot \n",
    "ax[2].set_xticklabels(labels = d[\"target_names\"])\n",
    "ax[2].set_ylabel(\"sepal length (cm)\")\n",
    "plt.show()"
   ]
  },
  {
   "cell_type": "markdown",
   "id": "5cfd2eda-181f-4602-a901-130325b6b96a",
   "metadata": {},
   "source": [
    "## Seaborn\n",
    "+ you can find the [API here](https://seaborn.pydata.org/api.html)\n",
    "+ by convention seaborn is imported via: `import seaborn as sns`\n",
    "+ seaborn is a library for making statistical graphics in Python which builds on top of matplotlib\n",
    "+ the code in seaborn is **hierarchically structured**. We can differentiate between\n",
    "   + **modules** that achieve similar visualization goals (distributions, relations, categorical)\n",
    "   + **functions** within a module that share a lot of underlying code and offer module specific features\n",
    "       + **axes-level functions** plot data onto a single `matplotlib.pyplot.Axes` object, which is the return value of the function.\n",
    "       + **figure-level functions** interface with matplotlib through a seaborn object, usually a `FacetGrid`, that manages the figure\n",
    "+ Each module has a single figure-level function, which offers a unitary interface to its various axes-level functions:\n",
    "\n",
    "<img src=\"https://seaborn.pydata.org/_images/function_overview_8_0.png\" width=\"500\"/>"
   ]
  },
  {
   "cell_type": "markdown",
   "id": "0427fd16-f9b7-4ffd-a060-b642a9b1c03f",
   "metadata": {},
   "source": [
    "### Visualizing relational data\n",
    "+ module: **relational**\n",
    "+ single figure-level function: `relplot`\n",
    "+ multiple axes-level functions:\n",
    "    + `scatterplot`\n",
    "    + `lineplot` "
   ]
  },
  {
   "cell_type": "code",
   "execution_count": 7,
   "id": "902e5de7-84f7-45fd-adb4-0359ee296a8f",
   "metadata": {},
   "outputs": [],
   "source": [
    "# import seaborn and pyplot\n",
    "\n",
    "# load and inspect first rows of example dataset\n"
   ]
  },
  {
   "cell_type": "code",
   "execution_count": 8,
   "id": "5a6bd470-2f13-44f5-a384-6675d1bd57b2",
   "metadata": {
    "scrolled": true
   },
   "outputs": [],
   "source": [
    "# figure-level function with scatterplot on the axes-level\n",
    "\n",
    "# figure-level function with lineplot on the axes-level\n",
    "# By default, the resulting plot shows the mean and 95% CI for each unit\n"
   ]
  },
  {
   "cell_type": "markdown",
   "id": "81844c73-d439-489d-bb49-a644d559a9f3",
   "metadata": {},
   "source": [
    "### Axes-level functions & plt.subplots\n",
    "+ you can also call the axes-level functions directly and include them for example in `plt.subplots`\n",
    "+ this gives you greate flexibility of creating your plot as you want it to have\n",
    "+ each axes-level function has a `ax` argument which you can use the specify on which axes (i.e., subplot) the plot should appear"
   ]
  },
  {
   "cell_type": "code",
   "execution_count": 9,
   "id": "05991ae8-a4d0-4d0f-94f7-7f36ed1816dd",
   "metadata": {},
   "outputs": [],
   "source": [
    "# using axes-level functions in plt.subplots\n",
    "\n",
    "# left plot: scatterplot tip vs. total-bill grouped by gender\n",
    "\n",
    "# right plot: lineplot tip vs. size\n"
   ]
  },
  {
   "cell_type": "markdown",
   "id": "11ec879d-0efa-48dd-bcc5-6a97a8808b2e",
   "metadata": {},
   "source": [
    "### Differences between axes-level and figure-level functions \n",
    "+ figure-level plots look mostly like their axes-level counterparts, except of:\n",
    "    + legend (placed outside the plot for figure-level plots)\n",
    "    + subplots (figure-level functions can create figures with multiple subplots)\n",
    "    + combining different kinds of plots (better with axes-level functions)\n",
    "+ figure-level functions\n",
    "   + cannot (easily) be composed with other plots\n",
    "   + return a FacetGrid instance, which has a few methods for customizing attributes of the plot "
   ]
  },
  {
   "cell_type": "code",
   "execution_count": 10,
   "id": "0b0733b7-f7fc-4514-ac98-9f7497576332",
   "metadata": {},
   "outputs": [],
   "source": [
    "# create two subplots for female and male\n"
   ]
  },
  {
   "cell_type": "code",
   "execution_count": 11,
   "id": "762d2948-86ca-484a-ac09-91fb71582c43",
   "metadata": {},
   "outputs": [],
   "source": [
    "# load example data set\n",
    "\n",
    "# create a relational plot (figure-level function)\n",
    "# and save it as a new object (default type is scatterplot)\n",
    "\n",
    "# use the new object to access the matplotlib axes \n",
    "# draw a diagonal line\n",
    "\n",
    "# modify x- and y-label\n"
   ]
  },
  {
   "cell_type": "markdown",
   "id": "837d407b-c88c-4a8f-af07-da5fe0b83ade",
   "metadata": {},
   "source": [
    "### Specifying the figure size\n",
    "\n",
    "+ axes-level function\n",
    "    + `figsize()`\n",
    "    + `set_size_inches()`\n",
    "+ figure-level function:\n",
    "    + have own parameters to control the size\n",
    "    + parameters correspond to the size of each subplot, rather than the size of the overall figure"
   ]
  },
  {
   "cell_type": "code",
   "execution_count": 12,
   "id": "d3940437-9c43-48a6-a883-7241144c47d3",
   "metadata": {},
   "outputs": [],
   "source": [
    "# subplots\n",
    "\n",
    "# figure\n",
    "\n",
    "# figure-level function: \n"
   ]
  },
  {
   "cell_type": "markdown",
   "id": "2632d9d5-ff2b-47d1-ba0f-11454a6b49b6",
   "metadata": {},
   "source": [
    "### Visualizing distributions\n",
    "\n",
    "+ often we want to investigate the distribution of variables in our data set\n",
    "+ module: **distributional**\n",
    "+ figure-level function: `displot()`, `jointplot()`, `pairplot()`\n",
    "+ axes-level functions:\n",
    "    + `histplot()`\n",
    "    + `kdeplot()`\n",
    "    + `ecdfplot()`\n",
    "    + `rugplot()`"
   ]
  },
  {
   "cell_type": "code",
   "execution_count": 13,
   "id": "d91e5058-81cb-474c-8391-6f34b61a17e7",
   "metadata": {},
   "outputs": [],
   "source": [
    "# overview of the different axes-level functions using the penguin data\n"
   ]
  },
  {
   "cell_type": "code",
   "execution_count": 14,
   "id": "0fb50995-4a8a-43a3-b8af-bc633a3251f4",
   "metadata": {},
   "outputs": [],
   "source": [
    "# example for figure-level displot\n",
    "# default is histogram (kind='hist')\n",
    " \n",
    "# change axes-level function through `kind`\n",
    "\n",
    "# add second variable (try: kind=\"kde\")\n",
    " \n",
    "# add third variable\n"
   ]
  },
  {
   "cell_type": "markdown",
   "id": "d7bbc1cf-e055-4743-a314-5b02bdadcf1b",
   "metadata": {},
   "source": [
    "#### Using `jointplot` and `pairplot`\n",
    "+ `jointplot` and `pairplot` employ multiple kinds of plots from different modules to represent multiple aspects of a dataset in a single figure\n",
    "+ Both are figure-level functions and create figures with multiple subplots by default.\n",
    "+ But they use different objects to manage the figure: `JointGrid` and `PairGrid`, respectively.\n",
    "\n",
    "**`jointplot`**: plots the relationship or joint distribution of two variables while adding marginal axes that show the univariate distribution of each one separately\n",
    "\n",
    "**`pairplot`**: combines joint and marginal views; rather than focusing on a single relationship, it visualizes every pairwise combination of variables simultaneously"
   ]
  },
  {
   "cell_type": "code",
   "execution_count": 15,
   "id": "ced82a17-efbf-470a-aacd-809b7bf0bc4d",
   "metadata": {},
   "outputs": [],
   "source": [
    "# load an example data set\n",
    "\n",
    "# joint plot\n",
    "\n",
    "# pairplot\n"
   ]
  },
  {
   "cell_type": "markdown",
   "id": "8890873f-6792-4f3d-b6cf-b6173b574bd2",
   "metadata": {},
   "source": [
    "### Visualizing categorical data\n",
    "+ module: **categorical**\n",
    "+ figure-level function: `catplot()`\n",
    "+ axes-level functions:\n",
    "    + Categorical scatterplots:\n",
    "        + stripplot() (with kind=\"strip\"; the default)\n",
    "        + swarmplot() (with kind=\"swarm\")\n",
    "    + Categorical distribution plots:\n",
    "        + boxplot() (with kind=\"box\")\n",
    "        + violinplot() (with kind=\"violin\")\n",
    "        + boxenplot() (with kind=\"boxen\")\n",
    "    + Categorical estimate plots:\n",
    "        + pointplot() (with kind=\"point\")\n",
    "        + barplot() (with kind=\"bar\")\n",
    "        + countplot() (with kind=\"count\")"
   ]
  },
  {
   "cell_type": "code",
   "execution_count": 16,
   "id": "3eefddb5-8d5c-4e9b-9d7e-e08a755ce8db",
   "metadata": {},
   "outputs": [],
   "source": [
    "# load and inspect first rows of example dataset 'tips'\n"
   ]
  },
  {
   "cell_type": "code",
   "execution_count": 17,
   "id": "eda9281e-a075-48bf-ad7d-b37e9245bcb2",
   "metadata": {},
   "outputs": [],
   "source": [
    "# categorical scatterplot (note: size argument)\n"
   ]
  },
  {
   "cell_type": "code",
   "execution_count": 18,
   "id": "6574cb03-73d7-401f-8581-5ebcd275b47d",
   "metadata": {},
   "outputs": [],
   "source": [
    "# categorical distributions \n"
   ]
  },
  {
   "cell_type": "code",
   "execution_count": 19,
   "id": "55ab8780-0cd4-44f2-bc81-61f4f44d1fdc",
   "metadata": {},
   "outputs": [],
   "source": [
    "# categorical estimate plot \n"
   ]
  }
 ],
 "metadata": {
  "kernelspec": {
   "display_name": "Python 3 (ipykernel)",
   "language": "python",
   "name": "python3"
  },
  "language_info": {
   "codemirror_mode": {
    "name": "ipython",
    "version": 3
   },
   "file_extension": ".py",
   "mimetype": "text/x-python",
   "name": "python",
   "nbconvert_exporter": "python",
   "pygments_lexer": "ipython3",
   "version": "3.11.9"
  }
 },
 "nbformat": 4,
 "nbformat_minor": 5
}
