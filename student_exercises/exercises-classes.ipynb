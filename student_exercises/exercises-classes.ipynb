{
 "cells": [
  {
   "cell_type": "markdown",
   "id": "e7625f37-bfa5-43a4-b605-ef546b72c5e5",
   "metadata": {},
   "source": [
    "# Exercises - Classes & Functions\n"
   ]
  },
  {
   "cell_type": "markdown",
   "id": "33e1766f-246b-4bb1-b2f2-2bfd6d8dd9ab",
   "metadata": {},
   "source": [
    "## Class exercises\n",
    "\n",
    "### 1. Create a Class with instance attributes\n",
    "+ create a `Vehicle` class with `max_speed` and `mileage` instance attributes\n",
    "+ create an instantiating of your class `volvo` with the arguments `max_speed=180` and `mileage=12`\n",
    "+ print all methods and attributes of your class\n",
    "+ print the values of the attributes `max_speed` and `mileage`\n",
    "### 2. Class inheritance (1)\n",
    "+ create a **Bus** class that inherits from the **Vehicle** class\n",
    "+ define a new method `seating_capacity` with argument `capacity`\n",
    "    + it should return a print statement that should look like `Volvo bus with max_speed={}, mileage={} and capacity={}` (whereby `{}` are placeholder)\n",
    "+ create a new instance of the **Bus** class object named `volvo_bus` with `max_speed=180` and `mileage=12`\n",
    "+ call the method `seating_capacity` with argument `capacity=50`\n",
    "+ expected output: `Volvo bus with max_speed=180, mileage=12 and capacity=50`\n",
    "### 3. Define a property that must have the same value for every class instance\n",
    "+ Create a new class `WhiteBus` that inheritate the class `Bus`\n",
    "+ Define a class attribute `color` with a default value `white`\n",
    "+ create a new instance of `WhiteBus` named `white_bus`\n",
    "+ print the value of the attribute `color`\n",
    "### 4. Class inheritance (2)\n",
    "+ create a class `Vehical` with attributes `name`, `mileage`, `capacity` (instance variables)\n",
    "+ define a method `fare` which returns `capacity` times 100\n",
    "+ create a `Bus` child class that inherits from the `Vehicle` class\n",
    "+ override the `fare` method as follows:\n",
    "    + define `amount` which should be the fare method from `Vehicle`\n",
    "    + add to `amount`:  `amount * 10 / 100`\n",
    "    + return the final `amount`\n",
    "+ create an instance `school_bus` of the `Bus` class with arguments: `name=\"School Volvo\", mileage=12, capacity=50`\n",
    "+ call the `fare` method and print the result\n",
    "+ expected output: `Total Bus fare is: 5500.0`\n",
    "+ print type of the `school_bus` instance\n",
    "+ check if if school_bus is also an instance of the Vehicle class (Hint: use `isinstance`)\n",
    "\n",
    "### 5. Spot mistakes\n",
    "+ The code below has two bugs. Can you spot them?\n",
    "+ Use the name `Bebo` and call the `move` method\n",
    "```\n",
    "class Pet:\n",
    "    def init(self, name):\n",
    "        self.name = name\n",
    "        \n",
    "    def move():\n",
    "        return f\"{self.name} is moving...\"\n",
    "```   \n",
    "\n",
    "### 6. Dog class\n",
    "+ create a class `Dog` with attributes: name, year_of_birth (optional argument)\n",
    "+ define the following methods:\n",
    "    + `get_name`: This should return the dog’s name in titlecase\n",
    "    + `get_age`: This should calculate a dog’s age in dog years (use 1 year = 7 dog years)\n",
    "+ create an instance of the class `Dog` named `my_dog` with arguments `name=linus, year_of_birth=2017`\n",
    "+ call the method `get_name`. Expected output: `My dog's name is Linus`\n",
    "+ call the method `get_age`. Expected output: `My dog is 7 years old. In a dog's life this is 49 years.`\n",
    "+ Hint: import from mdoule `datetime` the function `date` and use `date.today()` to get the current year "
   ]
  }
 ],
 "metadata": {
  "kernelspec": {
   "display_name": "Python 3 (ipykernel)",
   "language": "python",
   "name": "python3"
  },
  "language_info": {
   "codemirror_mode": {
    "name": "ipython",
    "version": 3
   },
   "file_extension": ".py",
   "mimetype": "text/x-python",
   "name": "python",
   "nbconvert_exporter": "python",
   "pygments_lexer": "ipython3",
   "version": "3.9.19"
  }
 },
 "nbformat": 4,
 "nbformat_minor": 5
}
