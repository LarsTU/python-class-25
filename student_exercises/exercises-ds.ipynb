{
 "cells": [
  {
   "cell_type": "markdown",
   "id": "50449187-ecfb-4666-829d-09fc89a40e42",
   "metadata": {},
   "source": [
    "# Exercises - Data Structures\n",
    "\n",
    "**Table of content:**\n",
    "+ Lists exercises\n",
    "+ String exercises\n",
    "+ Tuple exercises"
   ]
  },
  {
   "cell_type": "markdown",
   "id": "bfa1cff2-d626-4dee-b0ea-e0f8da990013",
   "metadata": {},
   "source": [
    "## List exercises\n",
    "\n",
    "### 1. Reverse a list\n",
    "+ `list1 = [100, 200, 300, 400, 500]`\n",
    "### 2. Concatenate two lists index-wise*\n",
    "+ Add two lists index-wise. Create a new list that contains the 0th index item from both the list, then the 1st index item, and so on till the last element. Any leftover items will get added at the end of the new list.\n",
    "+ `list1 = [\"M\", \"na\", \"i\", \"Ke\"] `\n",
    "+ `list2 = [\"y\", \"me\", \"s\", \"lly\"]`\n",
    "### 3. Turn every item of a list into its square\n",
    "+ Given a list of numbers. Turn every item of a list into its square.\n",
    "+ `numbers = [1, 2, 3, 4, 5, 6, 7]`\n",
    "### 4. Concatenate two lists in the expected order*\n",
    "+ `list1 = [\"Hello \", \"take \"]`\n",
    "+ `list2 = [\"Dear\", \"Sir\"]`\n",
    "+ Expected output: `['Hello Dear', 'Hello Sir', 'take Dear', 'take Sir']`\n",
    "### 5. Iterate both lists simultaneously\n",
    "+ Given a two Python list. Iterate both lists simultaneously and display items from list1 in original order and items from list2 in reverse order.\n",
    "+ `list1 = [10, 20, 30, 40]`\n",
    "+ `list2 = [100, 200, 300, 400]`\n",
    "+ Expected output:\n",
    "```\n",
    "10 400\n",
    "20 300\n",
    "30 200\n",
    "40 100\n",
    "```\n",
    "### 6. Remove empty strings from the list of strings\n",
    "+ `list1 = [\"Mike\", \"\", \"Emma\", \"Kelly\", \"\", \"Brad\"]`\n",
    "\n",
    "### 7. Add new item to list after a specified item\n",
    "+ Add item 7000 after 6000 in the following Python List\n",
    "+ `list1 = [10, 20, [300, 400, [5000, 6000], 500], 30, 40]`\n",
    "\n",
    "### 8. Extend nested list by adding the sublist\n",
    "+ You have given a nested list. Extend it by adding the sublist `[\"h\", \"i\", \"j\"]` in such a way that it will look like the expected list.\n",
    "+ `list1 = [\"a\", \"b\", [\"c\", [\"d\", \"e\", [\"f\", \"g\"], \"k\"], \"l\"], \"m\", \"n\"]`\n",
    "+ expected output: `['a', 'b', ['c', ['d', 'e', ['f', 'g', 'h', 'i', 'j'], 'k'], 'l'], 'm', 'n']`\n",
    "\n",
    "### 9. Replace list’s item with new value if found\n",
    "+ You have given a Python list. Find value 20 in the list, and if it is present, replace it with 200.\n",
    "+ Only update the first occurrence of an item.\n",
    "+ `list1 = [5, 10, 15, 20, 25, 50, 20]`\n",
    "\n",
    "### 10. Remove all occurrences of a specific item from a list.\n",
    "+ Given a Python list, remove all occurrences of item 20.\n",
    "+ `list1 = [5, 20, 15, 20, 25, 50, 20]`"
   ]
  },
  {
   "cell_type": "markdown",
   "id": "41f2c8d9-8cf5-4cd5-8edf-eeac4c24378b",
   "metadata": {},
   "source": [
    "## String exercises\n",
    "\n",
    "### 1. Calculate the length of a string.\n",
    "+ `city = \"Dortmund\"`\n",
    "### 2. Create a string made of the first, middle and last character\n",
    "+ create a new string made of an input string’s first, middle, and last character.\n",
    "+ `str1 = \"James\"`\n",
    "### 3. Create a string made of the middle three characters\n",
    "+  create a new string made of the middle three characters of an input string.\n",
    "+  `str2 = \"JhonDipPeta\"`  // `str2 = \"JaSonAy\"`\n",
    "+  expected output: `Dip` // `Son`\n",
    "### 4. Append new string in the middle of a given string\n",
    "+ Given two strings, `s1` and `s2`. Create a new string `s3` by appending `s2` in the middle of `s1`.\n",
    "+ `s1 = \"Aunt\"`\n",
    "+ `s2 = \"Kelly\"`\n",
    "+ expected output: `AuKellynt`\n",
    "### 5. Calculate the sum and average of the digits present in a string\n",
    "+ Given a string s1, return the sum and average of the digits that appear in the string, ignoring all other characters.\n",
    "+ `str1 = \"PYnative29@#8496\"`\n",
    "### 6. Find the last position of a given substring\n",
    "+ find the last position of a substring “Emma” in a given string.\n",
    "+ `str1 = \"Emma is a data scientist who knows Python. Emma works at google.\"`\n",
    "+ expected output: `Last occurrence of Emma starts at index 43`\n",
    "### 7. Split a string on hyphens\n",
    "+ split a given string on hyphens and display each substring.\n",
    "+ `str1 = Emma-is-a-data-scientist`\n",
    "### 8. Remove special symbols / punctuation from a string\n",
    "+ `str1 = \"/*Jon is @developer & musician\"`\n",
    "+ expected output: `\"Jon is developer musician\"`\n",
    "+ Tip: `import re` and use `re.sub`\n",
    "### 9. Replace each special symbol with # in the following string\n",
    "+ `str1 = '/*Jon is @developer & musician!!'`\n",
    "+ expected output: `##Jon is #developer # musician##`"
   ]
  },
  {
   "cell_type": "markdown",
   "id": "5fac28b0-c577-40c7-99cb-a27887c206d8",
   "metadata": {},
   "source": [
    "## Tuple exercises \n",
    "\n",
    "### 1. Reverse the tuple\n",
    "+ `tuple1 = (10, 20, 30, 40, 50)`\n",
    "### 2. Access value 20 from the tuple\n",
    "+ `tuple1 = (\"Orange\", [10, 20, 30], (5, 15, 25))`\n",
    "### 3. Create a tuple with single item 50\n",
    "### 4. Unpack the tuple into 4 variables\n",
    "+ unpack the following tuple into four variables and display each variable\n",
    "+ `tuple1 = (10, 20, 30, 40)`\n",
    "### 5. Swap two tuples \n",
    "+ `tuple1 = (11, 22)`\n",
    "+ `tuple2 = (99, 88)`\n",
    "+ expected output:\n",
    "```\n",
    "tuple1: (99, 88)\n",
    "tuple2: (11, 22)\n",
    "```\n",
    "### 6. Copy specific elements from one tuple to a new tuple\n",
    "+ copy elements 44 and 55 from the following tuple into a new tuple.\n",
    "+ `tuple1 = (11, 22, 33, 44, 55, 66)`\n",
    "+ expected output: `tuple2: (44, 55)`\n",
    "### 7. Modify the tuple\n",
    "+ Given is a nested tuple. Modify the first item (22) of a list inside a following tuple to 222\n",
    "+ `tuple1 = (11, [22, 33], 44, 55)`\n",
    "+ expected output: `tuple1: (11, [222, 33], 44, 55)`\n",
    "### 8. Sort a tuple of tuples by 2nd item*\n",
    "+ `tuple1 = (('a', 23),('b', 37),('c', 11), ('d',29))`\n",
    "+ expected output: `(('c', 11), ('a', 23), ('d', 29), ('b', 37))`\n",
    "### 9. Counts the number of occurrences of item 50 from a tuple\n",
    "+ `tuple1 = (50, 10, 60, 70, 50)`\n",
    "+ expected output: 2\n",
    "### 10. Check if all items in the tuple are the same\n",
    "+ `tuple1 = (45, 45, 45, 45)`\n",
    "+ expected output: True"
   ]
  },
  {
   "cell_type": "code",
   "execution_count": 2,
   "id": "6f5f17a0-c54c-4d8a-8d73-4921fe4a0d38",
   "metadata": {},
   "outputs": [
    {
     "data": {
      "text/plain": [
       "'!\"#$%&\\'()*+,-./:;<=>?@[\\\\]^_`{|}~'"
      ]
     },
     "execution_count": 2,
     "metadata": {},
     "output_type": "execute_result"
    }
   ],
   "source": [
    "import string\n",
    "\n",
    "string.punctuation"
   ]
  }
 ],
 "metadata": {
  "kernelspec": {
   "display_name": "Python 3 (ipykernel)",
   "language": "python",
   "name": "python3"
  },
  "language_info": {
   "codemirror_mode": {
    "name": "ipython",
    "version": 3
   },
   "file_extension": ".py",
   "mimetype": "text/x-python",
   "name": "python",
   "nbconvert_exporter": "python",
   "pygments_lexer": "ipython3",
   "version": "3.9.19"
  }
 },
 "nbformat": 4,
 "nbformat_minor": 5
}
