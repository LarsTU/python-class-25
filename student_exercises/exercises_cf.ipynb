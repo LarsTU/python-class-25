{
 "cells": [
  {
   "cell_type": "markdown",
   "id": "53103a0b-d436-44d8-8f6d-20e4fe0b0f5e",
   "metadata": {},
   "source": [
    "# Exercises - Control flows\n"
   ]
  },
  {
   "cell_type": "code",
   "execution_count": null,
   "id": "6e62a342-2137-463b-9b59-33b02c3a137b",
   "metadata": {},
   "outputs": [],
   "source": [
    "### 1. Prints numbers from 1 to 10\n",
    "+ print numbers from 1 to 10 using a `for`-loop\n",
    "+ expected output:\n",
    "```\n",
    "Current value: 1\n",
    "Current value: 2\n",
    "Current value: 3\n",
    "...\n",
    "Current value: 10\n",
    "```\n",
    "### 2. Try exercise 1) using a `while` loop\n",
    "### 3. Nested loops\n",
    "+ Use nested loops to loop over the first 5 letters of the (latin) alphabet and the numbers 0 to 3\n",
    "+ expected output:\n",
    "```\n",
    "a0\n",
    "b0\n",
    "c0\n",
    "d0\n",
    "e0\n",
    "a1\n",
    "b1\n",
    "...\n",
    "d3\n",
    "e3\n",
    "```\n",
    "+ tip: use the module `string` and its method `string.ascii_lowercase`\n",
    "\n",
    "### 4. Looping over a list\n",
    "+ You are given a list of countries\n",
    "+ For each country in the list, count the number of letters\n",
    "+ `countries = ['Thailand', 'Vietnam', 'Malaysia', 'UAE']`\n",
    "+ expected outcome: \n",
    "```\n",
    "Thailand contains 8 letters!\n",
    "...\n",
    "UAE contains 3 letters!\n",
    "```\n",
    "### 5. Looping with a list of tuples\n",
    "+ Given is a list of tuples\n",
    "```\n",
    "new_hires = [('Mark Adams', 'SQL Analyst', 4000),\n",
    "             ('Leslie Burton', 'HR Specialist', 2300),\n",
    "             ('Dorothy Castillo', 'UX Designer', 3100)]\n",
    "```\n",
    "+ remove people whose job titles contain the word \"SQL\" from the list\n",
    "+ print names of remaining people\n",
    "+ expected outcome: `['Mark Adams', 'Dorothy Castillo']`\n",
    "\n",
    "### 6) Guessing game.\n",
    "+ use a `while` loop for implementing the game\n",
    "+ sample from a random number generator to create a true value between 1 and 100 (tip: use from module `numpy` the function `random.randint`)\n",
    "+ ask the user for their initial guess\n",
    "+ if the user's guess is higher than the true value:\n",
    "    + inform the user, ask for a further guess and continue the game \n",
    "+ if the user's guess is smaller than the true value:\n",
    "    + inform the user, ask for a further guess and continue the game\n",
    "+ if the user's guess is correct:\n",
    "    + congratulate the user and terminate the game\n",
    "+ if the user wants to give up:\n",
    "    + show the correct number and terminate the game   \n",
    "+ expected output:\n",
    "```\n",
    "This is a game in which you can guess a number between 1 and 100. \n",
    "You can give up by pressing 999. \n",
    "Let's start.\n",
    "\n",
    "Guess a number: 50\n",
    "Your guess is too low. Try it again. Guess a number:  75\n",
    "Your guess is too high. Try it again. Guess a number:  60\n",
    "Your guess is too low. Try it again. Guess a number:  65\n",
    "Your guess is too high. Try it again. Guess a number:  63\n",
    "Your guess is too low. Try it again. Guess a number:  64\n",
    "\n",
    "Congratulations! You are a genius! 64 is correct!\n",
    "```"
   ]
  },
  {
   "cell_type": "code",
   "execution_count": 2,
   "id": "161f0437-4186-4eb1-a1c2-1cbe48069163",
   "metadata": {},
   "outputs": [
    {
     "name": "stdout",
     "output_type": "stream",
     "text": [
      "Current value: 1\n",
      "Current value: 2\n",
      "Current value: 3\n",
      "Current value: 4\n",
      "Current value: 5\n",
      "Current value: 6\n",
      "Current value: 7\n",
      "Current value: 8\n",
      "Current value: 9\n",
      "Current value: 10\n"
     ]
    }
   ],
   "source": [
    "## Exercises control-flows\n",
    "\n",
    "# Exercise 1: Prints numbers from 1 to 10\n",
    "\n",
    "for i in range (1,11):\n",
    "    print(\"Current value:\",i)"
   ]
  },
  {
   "cell_type": "code",
   "execution_count": 6,
   "id": "03c60993-6c87-4037-8407-bb68c83136c4",
   "metadata": {},
   "outputs": [
    {
     "name": "stdout",
     "output_type": "stream",
     "text": [
      "Current value: 1\n",
      "Current value: 2\n",
      "Current value: 3\n",
      "Current value: 4\n",
      "Current value: 5\n",
      "Current value: 6\n",
      "Current value: 7\n",
      "Current value: 8\n",
      "Current value: 9\n",
      "Current value: 10\n"
     ]
    }
   ],
   "source": [
    "# Exercise 2: Try Exercise 1 using a while-loop\n",
    "\n",
    "i = 1\n",
    "while(i <= 10):\n",
    "    print(\"Current value:\", i)\n",
    "    i += 1"
   ]
  },
  {
   "cell_type": "code",
   "execution_count": null,
   "id": "21b75b74-77dc-4088-8f3a-ea9e937429f8",
   "metadata": {},
   "outputs": [],
   "source": []
  },
  {
   "cell_type": "raw",
   "id": "75e29b1d-ee8f-4b09-ad77-7fb8b7501b9f",
   "metadata": {},
   "source": []
  }
 ],
 "metadata": {
  "kernelspec": {
   "display_name": "Python [conda env:python-course-25]",
   "language": "python",
   "name": "conda-env-python-course-25-py"
  },
  "language_info": {
   "codemirror_mode": {
    "name": "ipython",
    "version": 3
   },
   "file_extension": ".py",
   "mimetype": "text/x-python",
   "name": "python",
   "nbconvert_exporter": "python",
   "pygments_lexer": "ipython3",
   "version": "3.9.21"
  }
 },
 "nbformat": 4,
 "nbformat_minor": 5
}
