{
 "cells": [
  {
   "cell_type": "markdown",
   "id": "5d245ccf-6338-4851-bb3d-e6de63933314",
   "metadata": {},
   "source": [
    "# Welcome to the tutorial about mypackage!"
   ]
  },
  {
   "cell_type": "code",
   "execution_count": 1,
   "id": "49660e99-62de-49a6-a22b-22584037c22d",
   "metadata": {},
   "outputs": [],
   "source": [
    "from mypackage3.plotting import print_galton_board\n",
    "from mypackage3.simulations import galton"
   ]
  },
  {
   "cell_type": "markdown",
   "id": "96e41d12-44d1-4e88-9577-ce2a2732ac7f",
   "metadata": {},
   "source": [
    "## Simulate data. \n",
    "In the following we simulate a galton board with 100 balls and 15 bins."
   ]
  },
  {
   "cell_type": "code",
   "execution_count": 2,
   "id": "d0cc2847-8fad-48a3-ba5f-af02d110e2c9",
   "metadata": {},
   "outputs": [
    {
     "name": "stdout",
     "output_type": "stream",
     "text": [
      "[0, 0, 0, 0, 4, 13, 15, 21, 21, 13, 10, 2, 1, 0, 0, 0]\n"
     ]
    }
   ],
   "source": [
    "data = galton(num_bins = 15, num_balls = 100)\n",
    "print(data)"
   ]
  },
  {
   "cell_type": "markdown",
   "id": "3dddcaf5-cf5d-487a-b43d-b45f8e1a867f",
   "metadata": {},
   "source": [
    "## Visualize simulated data. \n",
    "We see that already the expected form of a Gaussian..."
   ]
  },
  {
   "cell_type": "code",
   "execution_count": 3,
   "id": "1ec2c703-0788-412d-9f00-e9b1a31ee1f2",
   "metadata": {},
   "outputs": [
    {
     "name": "stdout",
     "output_type": "stream",
     "text": [
      "0\n",
      "0\n",
      "0\n",
      "0\n",
      "....4\n",
      ".............13\n",
      "...............15\n",
      ".....................21\n",
      ".....................21\n",
      ".............13\n",
      "..........10\n",
      "..2\n",
      ".1\n",
      "0\n",
      "0\n",
      "0\n"
     ]
    }
   ],
   "source": [
    "print_galton_board(data)"
   ]
  }
 ],
 "metadata": {
  "kernelspec": {
   "display_name": "Python 3 (ipykernel)",
   "language": "python",
   "name": "python3"
  },
  "language_info": {
   "codemirror_mode": {
    "name": "ipython",
    "version": 3
   },
   "file_extension": ".py",
   "mimetype": "text/x-python",
   "name": "python",
   "nbconvert_exporter": "python",
   "pygments_lexer": "ipython3",
   "version": "3.11.9"
  }
 },
 "nbformat": 4,
 "nbformat_minor": 5
}
