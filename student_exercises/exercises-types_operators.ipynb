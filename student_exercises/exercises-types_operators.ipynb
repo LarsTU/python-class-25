{
 "cells": [
  {
   "cell_type": "markdown",
   "id": "3fee799b-a150-4591-9b18-fe16ce1c0141",
   "metadata": {},
   "source": [
    "# Exercises - Types, Operators, Expressions, Installation of libraries"
   ]
  },
  {
   "cell_type": "markdown",
   "id": "4e833a3b-32a5-4ddc-a365-989a81c8a6f7",
   "metadata": {},
   "source": [
    "## Exercise 1: The `round` function\n",
    "First guess the result and then try out the following:\n",
    "+ `round(42.5)`\n",
    "+ `round(43.5)`\n",
    "\n",
    "What does the `round` function of a number ends in 0.5? \n",
    "\n",
    "## Exercise 2: The `+` and `-` sign\n",
    "First guess the result and then try out the following:\n",
    "+ `+2`\n",
    "+ `2++2`\n",
    "+ `-2`\n",
    "+ `2--2`\n",
    "\n",
    "## Exercise 3: Types\n",
    "What is the type of the value of the following expressions? Make your best guess for each one, and then use type to find out.\n",
    "+ `765`\n",
    "+ `2.718`\n",
    "+ `'2 pi'`\n",
    "+ `abs(-7)`\n",
    "+ `abs(-7.0)`\n",
    "+ `abs`\n",
    "+ `int`\n",
    "+ `type`\n",
    "\n",
    "## Exercise 4: Expressions\n",
    "The following questions give you a chance to practice writing arithmetic expressions:\n",
    "+ How many seconds are there in 42 minutes 42 seconds?\n",
    "+ How many miles are there in 10 kilometers? Hint: there are 1.61 kilometers in a mile.\n",
    "+ If you run a 10 kilometer race in 42 minutes 42 seconds, what is your average pace in seconds per mile?\n",
    "+ What is your average pace in minutes and seconds per mile?"
   ]
  },
  {
   "cell_type": "markdown",
   "id": "3a2a042b-1669-42d9-97c2-d4d097ef82ca",
   "metadata": {},
   "source": [
    "## Exercise 5:\n",
    "+ Install the `matplotlib` library using pip. Then, verify the installation by importing it and printing its version."
   ]
  },
  {
   "cell_type": "code",
   "execution_count": null,
   "id": "0a600644-181c-41eb-a3fb-cfc9b2988996",
   "metadata": {},
   "outputs": [],
   "source": []
  },
  {
   "cell_type": "markdown",
   "id": "857700b8-4328-4de9-bf01-fb5576f419b5",
   "metadata": {},
   "source": [
    "## Exercise 6: \n",
    "+ Import the `pyplot` module from `matplotlib` as `plt` and the numpy module as np\n",
    "+ Then, run the code that creates a simple plot of the sine function\n",
    "+ replace all placeholders marked by `<HERE YOUR CODE>` in the following code snippet "
   ]
  },
  {
   "cell_type": "code",
   "execution_count": null,
   "id": "580e4ecf-7cea-48bf-bf36-52a56ca033d2",
   "metadata": {},
   "outputs": [],
   "source": [
    "# Step 1: Import the pyplot module from matplotlib as plt\n",
    "# <HERE YOUR CODE>\n",
    "\n",
    "# Step 2: Import the numpy library as np to generate data for the sine function \n",
    "# <HERE YOUR CODE>\n",
    "\n",
    "# Step 3: Generate data for the sine function\n",
    "x = np.linspace(0, 2 * np.pi, 100)  # 100 values from 0 to 2pi\n",
    "y = np.sin(x)  # Sine of each value in x\n",
    "\n",
    "# Step 4: Create the plot\n",
    "plt.plot(x, y)\n",
    "\n",
    "# Step 5: Add labels and a title\n",
    "plt.xlabel('x')\n",
    "plt.ylabel('sin(x)')\n",
    "plt.title('Sine Function')\n",
    "\n",
    "# Step 6: Display the plot\n",
    "plt.show()"
   ]
  },
  {
   "cell_type": "markdown",
   "id": "6c6eb707-1e26-4f59-a5d9-e847399bc320",
   "metadata": {},
   "source": [
    "## Exercise 7:\n",
    "+ Using `NumPy`, create a 3x3 matrix of random integers between 1 and 10. (Hint: have a look into the module `random` from numpy. Hint2: Have a look at the following [documentation](https://numpy.org/doc/stable/reference/random/generated/numpy.random.randint.html))\n",
    "+ Then, compute and print its determinant. (Hint: have a look into the module `linalg` from numpy. Hint 2: Have a look at the following [documentation](https://numpy.org/doc/stable/reference/generated/numpy.linalg.det.html)) "
   ]
  },
  {
   "cell_type": "code",
   "execution_count": null,
   "id": "b73cc057-21e4-4cff-8c58-bff1da26399c",
   "metadata": {},
   "outputs": [],
   "source": [
    "# import numpy\n",
    "# <HERE YOUR CODE>\n",
    "\n",
    "# Create a 3x3 matrix of random integers between 1 and 10\n",
    "# matrix = <HERE YOUR CODE>\n",
    "print(\"Random matrix: \\n\", matrix)\n",
    "\n",
    "# Compute and print determinant\n",
    "# determinant = <HERE YOUR CODE>\n",
    "print(f\"Determinant: {determinant}\")"
   ]
  }
 ],
 "metadata": {
  "kernelspec": {
   "display_name": "Python 3 (ipykernel)",
   "language": "python",
   "name": "python3"
  },
  "language_info": {
   "codemirror_mode": {
    "name": "ipython",
    "version": 3
   },
   "file_extension": ".py",
   "mimetype": "text/x-python",
   "name": "python",
   "nbconvert_exporter": "python",
   "pygments_lexer": "ipython3",
   "version": "3.9.19"
  }
 },
 "nbformat": 4,
 "nbformat_minor": 5
}
