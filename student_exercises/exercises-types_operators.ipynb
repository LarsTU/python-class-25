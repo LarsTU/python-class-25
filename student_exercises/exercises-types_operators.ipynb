{
 "cells": [
  {
   "cell_type": "markdown",
   "id": "3fee799b-a150-4591-9b18-fe16ce1c0141",
   "metadata": {},
   "source": [
    "# Exercises - Types, Operators, Expressions, Installation of libraries"
   ]
  },
  {
   "cell_type": "code",
   "execution_count": 6,
   "id": "04d26489-d894-48c4-81dc-01c5cc793c45",
   "metadata": {},
   "outputs": [
    {
     "ename": "SyntaxError",
     "evalue": "invalid syntax (3813229918.py, line 2)",
     "output_type": "error",
     "traceback": [
      "\u001b[1;36m  Cell \u001b[1;32mIn[6], line 2\u001b[1;36m\u001b[0m\n\u001b[1;33m    First guess the result and then try out the following:\u001b[0m\n\u001b[1;37m          ^\u001b[0m\n\u001b[1;31mSyntaxError\u001b[0m\u001b[1;31m:\u001b[0m invalid syntax\n"
     ]
    }
   ],
   "source": [
    "## Exercise 1: The `round` function\n",
    "First guess the result and then try out the following:\n",
    "+ `round(42.5)`\n",
    "+ `round(43.5)`\n",
    "\n",
    "What does the `round` function of a number ends in 0.5? \n",
    "\n",
    "## Exercise 2: The `+` and `-` sign\n",
    "First guess the result and then try out the following:\n",
    "+ `+2`\n",
    "+ `2++2`\n",
    "+ `-2`\n",
    "+ `2--2`\n",
    "\n",
    "## Exercise 3: Types\n",
    "What is the type of the value of the following expressions? Make your best guess for each one, and then use type to find out.\n",
    "+ `765`\n",
    "+ `2.718`\n",
    "+ `'2 pi'`\n",
    "+ `abs(-7)`\n",
    "+ `abs(-7.0)`\n",
    "+ `abs`\n",
    "+ `int`\n",
    "+ `type`\n",
    "\n",
    "## Exercise 4: Expressions\n",
    "The following questions give you a chance to practice writing arithmetic expressions:\n",
    "+ How many seconds are there in 42 minutes 42 seconds?\n",
    "+ How many miles are there in 10 kilometers? Hint: there are 1.61 kilometers in a mile.\n",
    "+ If you run a 10 kilometer race in 42 minutes 42 seconds, what is your average pace in seconds per mile?\n",
    "+ What is your average pace in minutes and seconds per mile?"
   ]
  },
  {
   "cell_type": "code",
   "execution_count": 28,
   "id": "36fb6595-773f-46b3-913e-a47576c8596c",
   "metadata": {},
   "outputs": [
    {
     "name": "stdout",
     "output_type": "stream",
     "text": [
      "42\n",
      "44\n",
      "44\n",
      "46\n"
     ]
    }
   ],
   "source": [
    "## Exercise 1: The 'round' function\n",
    "# guess for round(42.5) --> 43\n",
    "# guess for round(43.5) --> 44\n",
    "print(round(42.5))\n",
    "print(round(43.5))\n",
    "print(round(44.5))\n",
    "print(round(45.5))\n",
    "\n",
    "# the 'round' function always rounds to the next even number if the number \n",
    "# ends in 0.5"
   ]
  },
  {
   "cell_type": "code",
   "execution_count": 30,
   "id": "504320cd-87de-4bad-a757-d744ed4e73b9",
   "metadata": {},
   "outputs": [
    {
     "name": "stdout",
     "output_type": "stream",
     "text": [
      "2\n",
      "4\n",
      "-2\n",
      "4\n"
     ]
    }
   ],
   "source": [
    "## Exercise 2: The '+ and '-' sign\n",
    "# guess for +2 --> 2\n",
    "# guess for 2++2 --> error or 4\n",
    "# guess for -2 --> -2\n",
    "# guess for 2--2 --> 4\n",
    "print(+2)\n",
    "print(2++2)\n",
    "print(-2)\n",
    "print(2--2)\n"
   ]
  },
  {
   "cell_type": "code",
   "execution_count": 36,
   "id": "8405c629-fa50-485a-ba5f-068ac2de7b30",
   "metadata": {},
   "outputs": [
    {
     "name": "stdout",
     "output_type": "stream",
     "text": [
      "<class 'int'>\n",
      "<class 'float'>\n",
      "<class 'str'>\n",
      "<class 'int'>\n",
      "<class 'float'>\n",
      "<class 'builtin_function_or_method'>\n",
      "<class 'type'>\n",
      "<class 'type'>\n"
     ]
    }
   ],
   "source": [
    "## Exercise 3: Types\n",
    "# guess for 765 --> type int\n",
    "# guess for 2.718 --> type float\n",
    "# guess for '2 pi' --> type str\n",
    "# guess for abs(-7) --> type int\n",
    "# guesss for abs(-7.0) --> type float\n",
    "# guess for abs --> type function\n",
    "# guess for int --> type function\n",
    "# guess for type --> type NoneType\n",
    "print(type(765))\n",
    "print(type(2.718))\n",
    "print(type('2 pi'))\n",
    "print(type(abs(-7)))\n",
    "print(type(abs(-7.0)))\n",
    "print(type(abs))\n",
    "print(type(int))\n",
    "print(type(type))\n"
   ]
  },
  {
   "cell_type": "code",
   "execution_count": 58,
   "id": "ae435e71-5669-4260-b55c-938138bb33f8",
   "metadata": {},
   "outputs": [
    {
     "name": "stdout",
     "output_type": "stream",
     "text": [
      "2562\n",
      "6.211180124223602\n",
      "412.482\n",
      "6.874700000000001\n",
      "52.5\n",
      "52\n"
     ]
    }
   ],
   "source": [
    "## Exercise 4: Expressions\n",
    "# How many seconds are there in 42 minutes 42 seconds?\n",
    "x = 42 * 60 + 42\n",
    "print(x)\n",
    "# 2562\n",
    "# How many miles are there in 10 kilometers? \n",
    "# Hint: there are 1.61 kilometers in a mile.\n",
    "y = 10 / 1.61\n",
    "print(y)\n",
    "# ~ 6.21\n",
    "# If you run a 10 kilometer race in 42 minutes 42 seconds, \n",
    "# what is your average pace in seconds per mile?\n",
    "z = x/y\n",
    "print(z)\n",
    "# ~ 412.5 sec/mile ~ 6.9 min/mile\n",
    "# What is your average pace in minutes and seconds per mile?\n",
    "t1 = z/60\n",
    "print(t1)\n",
    "# ~ 6.875\n",
    "t2 = 0.875 * 60\n",
    "print(t2)\n",
    "# 52.5\n",
    "t2 = round(t2)\n",
    "print(t2)\n",
    "# 52\n",
    "# Answer is 6 min and 52 sec per mile is the average pace"
   ]
  },
  {
   "cell_type": "markdown",
   "id": "3a2a042b-1669-42d9-97c2-d4d097ef82ca",
   "metadata": {},
   "source": [
    "## Exercise 5:\n",
    "+ Install the `matplotlib` library using pip. Then, verify the installation by importing it and printing its version."
   ]
  },
  {
   "cell_type": "code",
   "execution_count": null,
   "id": "0a600644-181c-41eb-a3fb-cfc9b2988996",
   "metadata": {},
   "outputs": [],
   "source": [
    "! <command>\n",
    "import matplotlib\n",
    "\n",
    "matplotlib._version_"
   ]
  },
  {
   "cell_type": "markdown",
   "id": "857700b8-4328-4de9-bf01-fb5576f419b5",
   "metadata": {},
   "source": [
    "## Exercise 6: \n",
    "+ Import the `pyplot` module from `matplotlib` as `plt` and the numpy module as np\n",
    "+ Then, run the code that creates a simple plot of the sine function\n",
    "+ replace all placeholders marked by `<HERE YOUR CODE>` in the following code snippet "
   ]
  },
  {
   "cell_type": "code",
   "execution_count": null,
   "id": "580e4ecf-7cea-48bf-bf36-52a56ca033d2",
   "metadata": {},
   "outputs": [],
   "source": [
    "# Step 1: Import the pyplot module from matplotlib as plt\n",
    "# <HERE YOUR CODE>\n",
    "\n",
    "# Step 2: Import the numpy library as np to generate data for the sine function \n",
    "# <HERE YOUR CODE>\n",
    "\n",
    "# Step 3: Generate data for the sine function\n",
    "x = np.linspace(0, 2 * np.pi, 100)  # 100 values from 0 to 2pi\n",
    "y = np.sin(x)  # Sine of each value in x\n",
    "\n",
    "# Step 4: Create the plot\n",
    "plt.plot(x, y)\n",
    "\n",
    "# Step 5: Add labels and a title\n",
    "plt.xlabel('x')\n",
    "plt.ylabel('sin(x)')\n",
    "plt.title('Sine Function')\n",
    "\n",
    "# Step 6: Display the plot\n",
    "plt.show()"
   ]
  },
  {
   "cell_type": "markdown",
   "id": "6c6eb707-1e26-4f59-a5d9-e847399bc320",
   "metadata": {},
   "source": [
    "## Exercise 7:\n",
    "+ Using `NumPy`, create a 3x3 matrix of random integers between 1 and 10. (Hint: have a look into the module `random` from numpy. Hint2: Have a look at the following [documentation](https://numpy.org/doc/stable/reference/random/generated/numpy.random.randint.html))\n",
    "+ Then, compute and print its determinant. (Hint: have a look into the module `linalg` from numpy. Hint 2: Have a look at the following [documentation](https://numpy.org/doc/stable/reference/generated/numpy.linalg.det.html)) "
   ]
  },
  {
   "cell_type": "code",
   "execution_count": null,
   "id": "b73cc057-21e4-4cff-8c58-bff1da26399c",
   "metadata": {},
   "outputs": [],
   "source": [
    "# import numpy\n",
    "# <HERE YOUR CODE>\n",
    "\n",
    "# Create a 3x3 matrix of random integers between 1 and 10\n",
    "# matrix = <HERE YOUR CODE>\n",
    "print(\"Random matrix: \\n\", matrix)\n",
    "\n",
    "# Compute and print determinant\n",
    "# determinant = <HERE YOUR CODE>\n",
    "print(f\"Determinant: {determinant}\")"
   ]
  }
 ],
 "metadata": {
  "kernelspec": {
   "display_name": "Python [conda env:python-course-25]",
   "language": "python",
   "name": "conda-env-python-course-25-py"
  },
  "language_info": {
   "codemirror_mode": {
    "name": "ipython",
    "version": 3
   },
   "file_extension": ".py",
   "mimetype": "text/x-python",
   "name": "python",
   "nbconvert_exporter": "python",
   "pygments_lexer": "ipython3",
   "version": "3.9.21"
  }
 },
 "nbformat": 4,
 "nbformat_minor": 5
}
