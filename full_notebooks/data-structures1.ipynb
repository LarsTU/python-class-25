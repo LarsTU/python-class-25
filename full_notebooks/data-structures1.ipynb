{
 "cells": [
  {
   "cell_type": "markdown",
   "id": "f3147d9c-da63-4886-8e8f-9193d57f69f5",
   "metadata": {},
   "source": [
    "# Data Structures 1\n",
    "\n",
    "**References**:\n",
    "+ [ThinkPython (book)](https://allendowney.github.io/ThinkPython/)\n",
    "\n",
    "**Content**:\n",
    "+ Strings\n",
    "    + Indexing\n",
    "    + Slices\n",
    "    + Immutable\n",
    "    + Methods\n",
    "    + Regular expressions\n",
    "+ Lists\n",
    "    + list operations\n",
    "    + list methods\n",
    "    + list comprehensions\n",
    "+ Working with lists and strings\n",
    "+ Objects, Values, & Aliasing "
   ]
  },
  {
   "cell_type": "markdown",
   "id": "54db2084-ac6a-48c1-9099-00e511b31e08",
   "metadata": {},
   "source": [
    "## Strings\n",
    "\n",
    "+ A string is a **sequence of characters**\n",
    "+ A **character** can be a letter, a digit, a punctuation mark, or whitespace\n",
    "\n",
    "### Indexing\n",
    "+ select single letters via indexing (e.g., `word[2]`)\n",
    "+ the index can be an integer, a variable, or an expression\n",
    "+ Note: indexing starts in Python with `0`\n",
    "+ use negative index to count backward from the end"
   ]
  },
  {
   "cell_type": "code",
   "execution_count": 1,
   "id": "7206af14-1bd3-4030-8f58-674683b543d5",
   "metadata": {},
   "outputs": [
    {
     "name": "stdout",
     "output_type": "stream",
     "text": [
      "a\n",
      "a\n",
      "n\n",
      "a\n"
     ]
    }
   ],
   "source": [
    "# select a letter using indexing\n",
    "# index as integer\n",
    "fruit = \"banana\"\n",
    "print(fruit[1])\n",
    "\n",
    "# index as variable\n",
    "i = 1\n",
    "print(fruit[i])\n",
    "\n",
    "# index as expression\n",
    "print(fruit[i+1])\n",
    "\n",
    "# negative index: get last letter \n",
    "print(fruit[-1])"
   ]
  },
  {
   "cell_type": "markdown",
   "id": "20bcdc9d-0d64-4df6-8ddd-282929f3d0e8",
   "metadata": {},
   "source": [
    "### Slices\n",
    "+ A **segment of a string** is called a slice\n",
    "+ different types of slices:\n",
    "    + closed form: `[n:m] -> [n,m)` returns the part of the string from the nth character to the mth character (excluding the last letter)\n",
    "    + open start: `[:m] -> [...,m)` slice starts at the beginning of the string and goes to the mth character\n",
    "    + open end: `[n:] -> (n,...]` slice starts at the nth character and goes until the end\n",
    "    + empty set: `[n:n] -> (n,n)` yields an empty element"
   ]
  },
  {
   "cell_type": "code",
   "execution_count": 11,
   "id": "ab6ff13f-4785-42d3-b013-74648865a825",
   "metadata": {},
   "outputs": [
    {
     "name": "stdout",
     "output_type": "stream",
     "text": [
      "ana\n",
      "ban\n",
      "ana\n",
      "\n"
     ]
    }
   ],
   "source": [
    "# slices\n",
    "# select the letter 1,2,3\n",
    "print(fruit[1:4])\n",
    "\n",
    "# select first three letters\n",
    "print(fruit[:3])\n",
    "\n",
    "# select last 3 letters\n",
    "print(fruit[-3:])\n",
    "\n",
    "# empty element\n",
    "print(fruit[3:3])"
   ]
  },
  {
   "cell_type": "markdown",
   "id": "0b35cc31-a96e-4341-a098-25241d13a400",
   "metadata": {},
   "source": [
    "### Immutability\n",
    "+ Strings are **immutable** (i.e., you can’t change an existing string by assigning to it a new value)"
   ]
  },
  {
   "cell_type": "code",
   "execution_count": 4,
   "id": "3dd1ba17-acbb-49bb-a07a-5076f8b8da97",
   "metadata": {},
   "outputs": [
    {
     "ename": "TypeError",
     "evalue": "'str' object does not support item assignment",
     "output_type": "error",
     "traceback": [
      "\u001b[1;31m---------------------------------------------------------------------------\u001b[0m",
      "\u001b[1;31mTypeError\u001b[0m                                 Traceback (most recent call last)",
      "Cell \u001b[1;32mIn[4], line 2\u001b[0m\n\u001b[0;32m      1\u001b[0m \u001b[38;5;66;03m# strings are immutable\u001b[39;00m\n\u001b[1;32m----> 2\u001b[0m \u001b[43mfruit\u001b[49m\u001b[43m[\u001b[49m\u001b[38;5;241;43m0\u001b[39;49m\u001b[43m]\u001b[49m \u001b[38;5;241m=\u001b[39m \u001b[38;5;124m\"\u001b[39m\u001b[38;5;124mP\u001b[39m\u001b[38;5;124m\"\u001b[39m \u001b[38;5;66;03m# yields a TypeError\u001b[39;00m\n\u001b[0;32m      4\u001b[0m \u001b[38;5;66;03m# work around\u001b[39;00m\n\u001b[0;32m      5\u001b[0m new_fruit \u001b[38;5;241m=\u001b[39m \u001b[38;5;124m\"\u001b[39m\u001b[38;5;124mP\u001b[39m\u001b[38;5;124m\"\u001b[39m \u001b[38;5;241m+\u001b[39m fruit[\u001b[38;5;241m1\u001b[39m:]\n",
      "\u001b[1;31mTypeError\u001b[0m: 'str' object does not support item assignment"
     ]
    }
   ],
   "source": [
    "# strings are immutable\n",
    "fruit[0] = \"P\" # yields a TypeError\n",
    "\n",
    "# work around\n",
    "new_fruit = \"P\" + fruit[1:]\n",
    "print(new_fruit)"
   ]
  },
  {
   "cell_type": "markdown",
   "id": "079d09ba-d157-4d96-a54e-57ad08c7257c",
   "metadata": {},
   "source": [
    "### Comparisons\n",
    "+ evaluate whether\n",
    "    + two strings are equal `==`\n",
    "    + one string comes in alphabetic order before `<` or after `>` another one\n",
    "    + uppercase comes always before lowercase"
   ]
  },
  {
   "cell_type": "code",
   "execution_count": 23,
   "id": "6d9f9f8d-510a-49cc-b0b0-b62cf1fb85d8",
   "metadata": {},
   "outputs": [
    {
     "name": "stdout",
     "output_type": "stream",
     "text": [
      "False\n",
      "True\n",
      "False\n",
      "True\n",
      "True\n",
      "True\n"
     ]
    }
   ],
   "source": [
    "# check whether two strings are equal\n",
    "print( \"Hello\" == \"hello\" )\n",
    "print( \"hello\" == \"hello\" )\n",
    "\n",
    "# check whether first string comes before \"c\" in alphabet\n",
    "print( \"a\" > \"c\" )\n",
    "print( \"a\" < \"b\" )\n",
    "print( \"ba\" < \"bb\" )\n",
    "\n",
    "# uppercase comes before lowercase\n",
    "print( \"A\" < \"a\" )"
   ]
  },
  {
   "cell_type": "markdown",
   "id": "c919436f-0034-46b6-a63c-11d827b10b4c",
   "metadata": {},
   "source": [
    "### Methods\n",
    "+ Strings provide methods that perform a variety of useful operations (overview of methods for a string type: `dir(str)` or `dir(\"some_string\")`)\n",
    "+ A method call is called an **invocation** (e.g., in the case of `fruit.upper()`, we would say that we are invoking `upper` on `fruit`.\n",
    "+ **Example methods**:\n",
    "    + `lower`, `upper`\n",
    "    + `replace`\n",
    "    + `split`, `join`\n",
    "    + `startswith`, `endswith`"
   ]
  },
  {
   "cell_type": "code",
   "execution_count": 5,
   "id": "7c8ed843-b6af-4ffd-8f6e-47e3fa4187be",
   "metadata": {},
   "outputs": [
    {
     "name": "stdout",
     "output_type": "stream",
     "text": [
      "Help on built-in function startswith:\n",
      "\n",
      "startswith(...) method of builtins.str instance\n",
      "    S.startswith(prefix[, start[, end]]) -> bool\n",
      "    \n",
      "    Return True if S starts with the specified prefix, False otherwise.\n",
      "    With optional start, test S beginning at that position.\n",
      "    With optional end, stop comparing S at that position.\n",
      "    prefix can also be a tuple of strings to try.\n",
      "\n",
      "True\n",
      "BANANA\n",
      "panana\n",
      "['ba', 'a', 'a']\n"
     ]
    }
   ],
   "source": [
    "# have a look into all methods of strings\n",
    "dir(str)\n",
    "dir(\"this is a string\")\n",
    "\n",
    "# checkout how a method works\n",
    "help(fruit.startswith)\n",
    "\n",
    "# example methods\n",
    "print( fruit.startswith(\"b\") )\n",
    "print( fruit.upper() )\n",
    "print( fruit.replace(\"b\",\"p\") )\n",
    "print( fruit.split(\"n\") )"
   ]
  },
  {
   "cell_type": "markdown",
   "id": "0bb3d0d1-198b-4ebc-9c4a-3951da93fa87",
   "metadata": {},
   "source": [
    "### Regular expressions for working with patterns in a text document\n",
    "+ A module called `re` ([Documentation](https://docs.python.org/3/library/re.html)) provides functions related to regular expressions\n",
    "+ it allows for a lot of tools such as\n",
    "    + check whether specific patterns appear in the text  `re.search(pattern, text)`\n",
    "    + if pattern is not in the text the method will return an empty element\n",
    "    + check for two different types of one pattern (e.g., `re.search(\"col(o|ou)r\", text)`)\n",
    "    + string substitution with `re.sub(pattern, repl, string)`"
   ]
  },
  {
   "cell_type": "code",
   "execution_count": 8,
   "id": "80a514c7-db55-444e-b355-cc76be02abfc",
   "metadata": {},
   "outputs": [
    {
     "name": "stdout",
     "output_type": "stream",
     "text": [
      "<re.Match object; span=(32, 37), match='Bayes'>\n",
      "Priors are a key feature of the Bayesian paradigm.\n",
      "Bayes\n",
      "(32, 37)\n",
      "Bayes\n",
      "None\n",
      "<re.Match object; span=(19, 24), match='color'>\n",
      "The car has a blue color.\n"
     ]
    }
   ],
   "source": [
    "import re\n",
    "abstract = \"Priors are a key feature of the Bayesian paradigm.\"\n",
    "\n",
    "# check whether \"Bayes\" appears in abstract\n",
    "result = re.search(\"Bayes\", abstract)\n",
    "print( result )\n",
    "print( result.string )   # return entire text string\n",
    "print( result.group() )  # return pattern\n",
    "print( result.span() )   # return range whether pattern appears in text string\n",
    "# using indexing to check span\n",
    "print( abstract[32:37] )\n",
    "\n",
    "# returns nothing if pattern is not in string \n",
    "null_result = re.search(\"bayes\", abstract)\n",
    "print( null_result )\n",
    "# check whether null_result is empty\n",
    "null_result == None\n",
    "\n",
    "# check for different types of patterns\n",
    "description = \"The sky has a blue color.\"\n",
    "\n",
    "print( re.search(\"col(o|ou)r\", description) )\n",
    "\n",
    "# string substitution\n",
    "print( re.sub(\"sky\", \"car\", description) )"
   ]
  },
  {
   "cell_type": "markdown",
   "id": "a8b1d8e1-b0cf-49df-90c4-b1e7b5de77b0",
   "metadata": {},
   "source": [
    "### 🤩 You are ready to try the *String exercises* in the file `exercises-ds`\n",
    "\n",
    "## Lists\n",
    "Python’s basic container type is the list. A list is a **sequence**. \n",
    "\n",
    "+ We can define our own list with square brackets `[ ]`\n",
    "+ elements in a list can be of any type (even of type list; **nested** structure)\n",
    "+ a list without any elements is an **empty list** with length zero\n",
    "+ we can get the **length of a list** by using `len(list)` \n",
    "+ to access an element in a list we can use the same indexing methods as with strings\n",
    "    + but list indexing can be come a bit more complex when we have nested strcutures \n",
    "+ In contrast to a string, a list is **mutable** (i.e., elements in a list can be modified by assigning new elements)\n",
    "+ we can use the `in` operator to check whether an element appears in the list\n",
    "    + note: the `in` element checks only whether an element is in the first hierarchy of a nested list, but not deeper hierarchies."
   ]
  },
  {
   "cell_type": "code",
   "execution_count": 9,
   "id": "c394ead4-7bf0-4267-a11e-a67fdb223458",
   "metadata": {},
   "outputs": [
    {
     "name": "stdout",
     "output_type": "stream",
     "text": [
      "4\n",
      "0\n",
      "1\n",
      "['This is', 'a', 'list', [1, 2, 3]]\n",
      "True\n",
      "False\n"
     ]
    }
   ],
   "source": [
    "# list elements can be of any type\n",
    "random_list = [1, \"a\", \"list\", [1,2,3]]\n",
    "empty_list = []\n",
    "\n",
    "# length of a list\n",
    "print( len(random_list) )\n",
    "print( len(empty_list) )\n",
    "\n",
    "# indexing nested structures\n",
    "print( random_list[-1][0] )\n",
    "\n",
    "# lists are mutable\n",
    "## replace the first element with a string\n",
    "random_list[0] = \"This is\" \n",
    "print( random_list )\n",
    "\n",
    "# check whether an element appears in the list\n",
    "print( \"a\" in random_list )\n",
    "# elements in nested lists are not detected\n",
    "print( 2 in random_list )"
   ]
  },
  {
   "cell_type": "markdown",
   "id": "a4788116-286b-40d2-84bd-d6de008fef7a",
   "metadata": {},
   "source": [
    "### List operations\n",
    "+ allowed operations for lists\n",
    "    + `+` for concatenation \n",
    "    + `*` for repetition "
   ]
  },
  {
   "cell_type": "code",
   "execution_count": 122,
   "id": "23ed9535-aad0-431a-bbb9-29ffb3fe8763",
   "metadata": {},
   "outputs": [
    {
     "name": "stdout",
     "output_type": "stream",
     "text": [
      "['Hello', 'I', 'am', 'Flo']\n",
      "['Hello', 'I', 'am', 'Hello', 'I', 'am', 'Hello', 'I', 'am']\n"
     ]
    }
   ],
   "source": [
    "list1 = [\"Hello\", \"I\", \"am\"] \n",
    "list2 = [\"Flo\"]\n",
    "# concatenate two lists\n",
    "print( list1+list2 )\n",
    "# repeat list 3 times\n",
    "print( list1*3 )"
   ]
  },
  {
   "cell_type": "markdown",
   "id": "2f753aec-97df-4e38-a365-958d5ee6c3a6",
   "metadata": {},
   "source": [
    "### List methods\n",
    "+ lists come with several built-in methods (see `dir([1,2])`)\n",
    "+ Example methods are:\n",
    "    + `append`, `extent`\n",
    "    + `remove`, `pop`\n",
    "    + `reverse`, `sort`"
   ]
  },
  {
   "cell_type": "code",
   "execution_count": 123,
   "id": "b44c287e-a6cd-4eac-8c44-432ae8838495",
   "metadata": {},
   "outputs": [
    {
     "name": "stdout",
     "output_type": "stream",
     "text": [
      "['Hello', 'I', 'am', 'Flo']\n",
      "['Hello', 'I', 'am']\n",
      "['I', 'am']\n",
      "[4, 2, 3, 1]\n",
      "[1, 2, 3, 4]\n",
      "['I', 'am']\n"
     ]
    }
   ],
   "source": [
    "# see methods of lists\n",
    "dir(list1)\n",
    "\n",
    "# example methods\n",
    "list1.append(\"Flo\")\n",
    "print(list1)\n",
    "list1.remove(\"Flo\")\n",
    "print(list1)\n",
    "list1.pop(0)\n",
    "print(list1)\n",
    "num_list = [1,3,2,4]\n",
    "num_list.reverse()\n",
    "print(num_list)"
   ]
  },
  {
   "cell_type": "markdown",
   "id": "804acba9-3cb4-4bf9-a446-5096a77c4b25",
   "metadata": {},
   "source": [
    "### List comprehensions\n",
    "+ A quick way to build a sequence is using a **list comprehension**\n",
    "+ list comprehensions can be very convenient as they are short and compact, but they can be difficult to read by others\n",
    "+ use list comprehensions carefully and consider always readability\n",
    "+ they can be very helpful for initializing multiple lists before running a for-loop"
   ]
  },
  {
   "cell_type": "code",
   "execution_count": 11,
   "id": "10e11cbb-00dd-44c4-b68a-5214e3cd19c5",
   "metadata": {},
   "outputs": [
    {
     "name": "stdout",
     "output_type": "stream",
     "text": [
      "[36, 162, 163, 165, 8364, 164]\n",
      "[36, 162, 163, 165, 8364, 164]\n",
      "[0, 1, 4, 9, 8, 25, 12, 49]\n",
      "[0, -1, -2, -3, 1, 0, -1, -2, 2, 1, 0, -1, 3, 2, 1, 0]\n",
      "['afal', 'light', 'perdo34'] [23, 50, 19] ['13.04.2023', '01.09.2023', '22.02.2023']\n",
      "[] [] []\n",
      "['afal', 'light', 'perdo34'] [23, 50, 19] ['13.04.2023', '01.09.2023', '22.02.2023']\n"
     ]
    }
   ],
   "source": [
    "# Build a list of Unicode code points from a string\n",
    "# technique 1) using a for-loop\n",
    "symbols = '$¢£¥€¤'\n",
    "codes = []\n",
    "for symbol in symbols:\n",
    "    codes.append(ord(symbol))\n",
    "print(codes)\n",
    "\n",
    "# technique 2) using list comprehensions\n",
    "symbols = '$¢£¥€¤'\n",
    "codes = [ord(symbol) for symbol in symbols]\n",
    "print(codes)\n",
    "\n",
    "# use list comprehension with if-else conditional\n",
    "## multiply a number by itself if it is odd and add a number by itself if it is even\n",
    "res = 0\n",
    "res2 = [x+x if x%2 == 0 else x*x for x in range(8)]\n",
    "print(res2)\n",
    "\n",
    "# use list comprehension with for-loop\n",
    "# Difference between all combinations of two number y and x\n",
    "res3 = [x - y for x in range(4) for y in range(4)]\n",
    "print(res3)\n",
    "\n",
    "# example: for-loop with list initialization\n",
    "user = []\n",
    "performance = []\n",
    "date = []\n",
    "for u, p, d in [[\"afal\",23,\"13.04.2023\"],[\"light\",50,\"01.09.2023\"], [\"perdo34\",19,\"22.02.2023\"]]:\n",
    "    user.append(u)\n",
    "    performance.append(p)\n",
    "    date.append(d)\n",
    "print(user, performance, date)\n",
    "\n",
    "# alternative: using list comprehension to initalize multiple lists\n",
    "user, performance, date = [[] for _ in range(3)]\n",
    "print(user, performance, date)\n",
    "for u, p, d in [[\"afal\",23,\"13.04.2023\"],[\"light\",50,\"01.09.2023\"], [\"perdo34\",19,\"22.02.2023\"]]:\n",
    "    user.append(u)\n",
    "    performance.append(p)\n",
    "    date.append(d)\n",
    "print(user, performance, date)"
   ]
  },
  {
   "cell_type": "markdown",
   "id": "f3721d99-d3af-43b1-ac57-5289f48c82ca",
   "metadata": {},
   "source": [
    "## Working with lists and strings\n",
    "+ convert a string into a list: `list(string)`\n",
    "+ break down a string into single list elements: `string.split()`\n",
    "+ join single strings into a text string"
   ]
  },
  {
   "cell_type": "code",
   "execution_count": 112,
   "id": "0c577d58-e02d-4a12-a7fc-bbed74ffb11e",
   "metadata": {},
   "outputs": [
    {
     "name": "stdout",
     "output_type": "stream",
     "text": [
      "Priors are a key feature of the Bayesian paradigm.\n",
      "['P', 'r', 'i', 'o', 'r', 's', ' ', 'a', 'r', 'e', ' ', 'a', ' ', 'k', 'e', 'y', ' ', 'f', 'e', 'a', 't', 'u', 'r', 'e', ' ', 'o', 'f', ' ', 't', 'h', 'e', ' ', 'B', 'a', 'y', 'e', 's', 'i', 'a', 'n', ' ', 'p', 'a', 'r', 'a', 'd', 'i', 'g', 'm', '.']\n",
      "['Priors', 'are', 'a', 'key', 'feature', 'of', 'the', 'Bayesian', 'paradigm.']\n",
      "['Priors', 'are', 'a', 'wonderful', 'key', 'feature', 'of', 'the', 'Bayesian', 'paradigm.']\n"
     ]
    },
    {
     "data": {
      "text/plain": [
       "'Priors are a wonderful key feature of the Bayesian paradigm.'"
      ]
     },
     "execution_count": 112,
     "metadata": {},
     "output_type": "execute_result"
    }
   ],
   "source": [
    "print( abstract )\n",
    "# convert string into list\n",
    "print( list(abstract) )\n",
    "# break down text string into words in list\n",
    "in_words = abstract.split() \n",
    "print( in_words )\n",
    "# add a word into the list\n",
    "in_words.insert(3, \"wonderful\")\n",
    "print( in_words )\n",
    "# joint single strings again using whitespace\n",
    "\" \".join(in_words)"
   ]
  },
  {
   "cell_type": "markdown",
   "id": "ed70d091-836a-4ce2-a6a8-f3456508e31b",
   "metadata": {},
   "source": [
    "## Objects, Values, & Aliasing\n",
    "\n",
    "+ two situations:\n",
    "    + (1) variables refer to the same object that has a value (both variables have the same `id()`)\n",
    "    + (2) variables refer to different objects that have each one value; but the values are the same (variables have different `id()`)\n",
    "+ the `id()` function returns a unique id for the specified object\n",
    "+ to check whether two variables refer to the same object, you can use `is`"
   ]
  },
  {
   "cell_type": "code",
   "execution_count": 10,
   "id": "3066124f-b223-4506-9e83-4190128ca45c",
   "metadata": {},
   "outputs": [
    {
     "name": "stdout",
     "output_type": "stream",
     "text": [
      "True\n",
      "2054583866352 2054583866352\n",
      "False\n",
      "2054590230336 2054590242880\n"
     ]
    }
   ],
   "source": [
    "# situation (1)\n",
    "# a and b are identical\n",
    "a = \"banana\"\n",
    "b = \"banana\"\n",
    "\n",
    "# two variables refer to the same object \n",
    "print( a is b )\n",
    "print( id(a), id(b) )\n",
    "\n",
    "# situation (2)\n",
    "# c and d are equivalent\n",
    "c = [1,2,3]\n",
    "d = [1,2,3]\n",
    "\n",
    "print( c is d )\n",
    "print( id(c), id(d) )"
   ]
  },
  {
   "cell_type": "markdown",
   "id": "5e5bdb9d-c94b-47ba-a36c-9c466ff0e057",
   "metadata": {},
   "source": [
    "+ create a new object by assigning another object to it (e.g., `b = [1,2,3]; a = b`)\n",
    "    + `a` and `b` refer to an identical object\n",
    "    + for mutable objects (e.g., lists) any changes to `b` will also transfer to `a`\n",
    "    + for immutable objects (e.g., strings) this is less a problem\n",
    "+ An object with more than one reference has more than one name, so we say the object is **aliased**.\n",
    "+ if you want to create a new object as a copy of another object, you can use `a = b.copy()`\n",
    "    + this will create two different objects with the same value "
   ]
  },
  {
   "cell_type": "code",
   "execution_count": 17,
   "id": "2fe76e51-6124-4ded-8ace-0a633bca42b7",
   "metadata": {},
   "outputs": [
    {
     "name": "stdout",
     "output_type": "stream",
     "text": [
      "[1, 2, 3]\n",
      "True\n",
      "[1, 4, 3] [1, 4, 3]\n",
      "[1, 4, 3] [1, 2, 3]\n",
      "some string\n",
      "some string!\n",
      "some string\n"
     ]
    }
   ],
   "source": [
    "a = [1,2,3]\n",
    "a2 = a\n",
    "\n",
    "print(a2)\n",
    "\n",
    "# both objects are identical\n",
    "print( a is a2 )\n",
    "\n",
    "# if you change a you will automatically change a2\n",
    "a[1] = 4\n",
    "print( a, a2 )\n",
    "\n",
    "# but what if you just wanted a copy of a? Then use copy\n",
    "b = [1,2,3]\n",
    "b2 = b.copy()\n",
    "b[1] = 4\n",
    "print( b, b2 )"
   ]
  },
  {
   "cell_type": "markdown",
   "id": "9be5789f-4e10-4754-8fec-b33e6cbe5442",
   "metadata": {},
   "source": [
    "Why is it no problem for immutable objects such as strings?"
   ]
  },
  {
   "cell_type": "code",
   "execution_count": null,
   "id": "92958cab-2317-4727-87f8-368ffed8a5b9",
   "metadata": {},
   "outputs": [],
   "source": [
    "# Let's try it out\n",
    "var1 = \"some string\"\n",
    "var2 = var1\n",
    "print(var2)\n",
    "# modify var2\n",
    "var2 = var2+\"!\"\n",
    "print(var2)\n",
    "print(var1)\n",
    "# indeed, changing var2 did not cause changes in var1"
   ]
  }
 ],
 "metadata": {
  "kernelspec": {
   "display_name": "Python 3 (ipykernel)",
   "language": "python",
   "name": "python3"
  },
  "language_info": {
   "codemirror_mode": {
    "name": "ipython",
    "version": 3
   },
   "file_extension": ".py",
   "mimetype": "text/x-python",
   "name": "python",
   "nbconvert_exporter": "python",
   "pygments_lexer": "ipython3",
   "version": "3.11.11"
  }
 },
 "nbformat": 4,
 "nbformat_minor": 5
}
