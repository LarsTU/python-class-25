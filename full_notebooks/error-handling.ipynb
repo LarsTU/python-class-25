{
 "cells": [
  {
   "cell_type": "markdown",
   "id": "511ea1c2-b091-4862-a3a9-f541585019ee",
   "metadata": {},
   "source": [
    "# Assertions & Exceptions in Python\n",
    "\n",
    "Sources:\n",
    "+ [tutorial exception handling](https://realpython.com/python-exceptions/#the-try-and-except-block-handling-exceptions)\n",
    "+ [tutorial assertion statements](https://realpython.com/courses/python-assert-statement/)\n",
    "+ [tutorial 2 assertion](https://www.browserstack.com/guide/assert-in-python)\n",
    "\n",
    "Content:\n",
    "+ assert statments\n",
    "+ exception handling\n",
    "    + try, except, else, finally\n",
    "+ assert vs. except "
   ]
  },
  {
   "cell_type": "markdown",
   "id": "92fd8b01-4c6d-4160-8a7c-ed95eafa2df2",
   "metadata": {},
   "source": [
    "## `assert` statements in Python\n",
    "+ built-in construct that allows you to test assumptions about your code\n",
    "+ acts as a sanity check to ensure that certain conditions are met during the execution of a program.\n",
    "+ primary purpose of using assert statements is to detect logical errors and invalid assumptions in your code\n",
    "+ if assertion is true nothing happens\n",
    "+ if assertion is false the specified message/warning will be raised"
   ]
  },
  {
   "cell_type": "code",
   "execution_count": 36,
   "id": "00580c7f-71ee-4d3a-b028-c09a452b7d37",
   "metadata": {},
   "outputs": [
    {
     "ename": "AssertionError",
     "evalue": "blue is not in colors=['red', 'yellow', 'green']",
     "output_type": "error",
     "traceback": [
      "\u001b[1;31m---------------------------------------------------------------------------\u001b[0m",
      "\u001b[1;31mAssertionError\u001b[0m                            Traceback (most recent call last)",
      "Cell \u001b[1;32mIn[36], line 13\u001b[0m\n\u001b[0;32m     11\u001b[0m col \u001b[38;5;241m=\u001b[39m \u001b[38;5;124m\"\u001b[39m\u001b[38;5;124mblue\u001b[39m\u001b[38;5;124m\"\u001b[39m\n\u001b[0;32m     12\u001b[0m colors \u001b[38;5;241m=\u001b[39m [\u001b[38;5;124m\"\u001b[39m\u001b[38;5;124mred\u001b[39m\u001b[38;5;124m\"\u001b[39m, \u001b[38;5;124m\"\u001b[39m\u001b[38;5;124myellow\u001b[39m\u001b[38;5;124m\"\u001b[39m, \u001b[38;5;124m\"\u001b[39m\u001b[38;5;124mgreen\u001b[39m\u001b[38;5;124m\"\u001b[39m]\n\u001b[1;32m---> 13\u001b[0m \u001b[38;5;28;01massert\u001b[39;00m col \u001b[38;5;129;01min\u001b[39;00m colors, \u001b[38;5;124mf\u001b[39m\u001b[38;5;124m\"\u001b[39m\u001b[38;5;132;01m{\u001b[39;00mcol\u001b[38;5;132;01m}\u001b[39;00m\u001b[38;5;124m is not in colors=\u001b[39m\u001b[38;5;132;01m{\u001b[39;00mcolors\u001b[38;5;132;01m}\u001b[39;00m\u001b[38;5;124m\"\u001b[39m\n",
      "\u001b[1;31mAssertionError\u001b[0m: blue is not in colors=['red', 'yellow', 'green']"
     ]
    }
   ],
   "source": [
    "# examples of different kinds of assertions\n",
    "x = 5\n",
    "assert x == 5, (\"x is not 5\") \n",
    "\n",
    "y = [1,2]\n",
    "assert len(y) > 0, \"List must not be empty\"\n",
    "\n",
    "run = True\n",
    "assert run, \"run must be True\" \n",
    "\n",
    "col = \"blue\"\n",
    "colors = [\"red\", \"yellow\", \"green\"]\n",
    "assert col in colors, f\"{col} is not in colors={colors}\""
   ]
  },
  {
   "cell_type": "markdown",
   "id": "de3a42f5-4ed3-43cf-a070-6086156678d1",
   "metadata": {},
   "source": [
    "**Note**:\n",
    "+ be careful with brackets: Don't put brackets around the condition and the message simultaneously"
   ]
  },
  {
   "cell_type": "code",
   "execution_count": 41,
   "id": "94a27851-6e37-4fe5-b836-231e1978fbee",
   "metadata": {},
   "outputs": [
    {
     "name": "stderr",
     "output_type": "stream",
     "text": [
      "<>:2: SyntaxWarning: assertion is always true, perhaps remove parentheses?\n",
      "<>:2: SyntaxWarning: assertion is always true, perhaps remove parentheses?\n",
      "C:\\Users\\bockting\\AppData\\Local\\Temp\\ipykernel_29016\\160918337.py:2: SyntaxWarning: assertion is always true, perhaps remove parentheses?\n",
      "  assert (x > 5, (\"x must be greated 5\"))\n"
     ]
    },
    {
     "ename": "AssertionError",
     "evalue": "x must be greated 5",
     "output_type": "error",
     "traceback": [
      "\u001b[1;31m---------------------------------------------------------------------------\u001b[0m",
      "\u001b[1;31mAssertionError\u001b[0m                            Traceback (most recent call last)",
      "Cell \u001b[1;32mIn[41], line 5\u001b[0m\n\u001b[0;32m      2\u001b[0m \u001b[38;5;28;01massert\u001b[39;00m (x \u001b[38;5;241m>\u001b[39m \u001b[38;5;241m5\u001b[39m, (\u001b[38;5;124m\"\u001b[39m\u001b[38;5;124mx must be greated 5\u001b[39m\u001b[38;5;124m\"\u001b[39m))\n\u001b[0;32m      4\u001b[0m \u001b[38;5;66;03m# however the following is okay\u001b[39;00m\n\u001b[1;32m----> 5\u001b[0m \u001b[38;5;28;01massert\u001b[39;00m (x \u001b[38;5;241m>\u001b[39m \u001b[38;5;241m5\u001b[39m), (\u001b[38;5;124m\"\u001b[39m\u001b[38;5;124mx must be greated 5\u001b[39m\u001b[38;5;124m\"\u001b[39m)\n",
      "\u001b[1;31mAssertionError\u001b[0m: x must be greated 5"
     ]
    }
   ],
   "source": [
    "x = 4\n",
    "assert (x > 5, (\"x must be greated 5\"))\n",
    "\n",
    "# however the following is okay\n",
    "assert (x > 5), (\"x must be greated 5\")"
   ]
  },
  {
   "cell_type": "markdown",
   "id": "34f54746-9295-4544-9604-c3f1bf3b1c11",
   "metadata": {},
   "source": [
    "## `except` statements in Python\n",
    "### Types of built-in exceptions (Recap)\n",
    "+ source: [list of all exception types](https://docs.python.org/3/library/exceptions.html)\n",
    "+ `SyntaxError` raised when statement is incorrect\n",
    "+ `ZeroDivisionError` from base class `ArithmeticError`\n",
    "    + Raised when the second argument of a division or modulo operation is zero\n",
    "+ `AssertionError` raised when an assert statement fails\n",
    "+ `ModuleNotFoundError` raised by import when a module could not be located\n",
    "+ `NameError` raised when a local or global name is not found.\n",
    "+ `IndentationError` raised when indentation is incorrect"
   ]
  },
  {
   "cell_type": "code",
   "execution_count": 3,
   "id": "293ce8e1-d622-40d2-b8b7-3ab54905a831",
   "metadata": {},
   "outputs": [
    {
     "ename": "SyntaxError",
     "evalue": "unexpected character after line continuation character (2661134726.py, line 3)",
     "output_type": "error",
     "traceback": [
      "\u001b[1;36m  Cell \u001b[1;32mIn[3], line 3\u001b[1;36m\u001b[0m\n\u001b[1;33m    d = 0\\x\u001b[0m\n\u001b[1;37m          ^\u001b[0m\n\u001b[1;31mSyntaxError\u001b[0m\u001b[1;31m:\u001b[0m unexpected character after line continuation character\n"
     ]
    }
   ],
   "source": [
    "# Syntax errors: parser detects an incorrect statement\n",
    "for x in range(2):\n",
    "    d = 0\\x         # forward instead of backslash"
   ]
  },
  {
   "cell_type": "code",
   "execution_count": 4,
   "id": "fec11d8e-d8bd-4f5d-87e1-e3c6731cbf96",
   "metadata": {},
   "outputs": [
    {
     "ename": "ZeroDivisionError",
     "evalue": "division by zero",
     "output_type": "error",
     "traceback": [
      "\u001b[1;31m---------------------------------------------------------------------------\u001b[0m",
      "\u001b[1;31mZeroDivisionError\u001b[0m                         Traceback (most recent call last)",
      "Cell \u001b[1;32mIn[4], line 3\u001b[0m\n\u001b[0;32m      1\u001b[0m \u001b[38;5;66;03m# Exception error: syntactically correct code\u001b[39;00m\n\u001b[0;32m      2\u001b[0m \u001b[38;5;28;01mfor\u001b[39;00m x \u001b[38;5;129;01min\u001b[39;00m \u001b[38;5;28mrange\u001b[39m(\u001b[38;5;241m2\u001b[39m):\n\u001b[1;32m----> 3\u001b[0m     d \u001b[38;5;241m=\u001b[39m \u001b[38;5;241;43m0\u001b[39;49m\u001b[38;5;241;43m/\u001b[39;49m\u001b[43mx\u001b[49m \n",
      "\u001b[1;31mZeroDivisionError\u001b[0m: division by zero"
     ]
    }
   ],
   "source": [
    "# Exception error: syntactically correct code\n",
    "for x in range(2):\n",
    "    d = 0/x "
   ]
  },
  {
   "cell_type": "code",
   "execution_count": 7,
   "id": "5e48906c-e566-496d-81c3-bfb430accd2b",
   "metadata": {},
   "outputs": [
    {
     "ename": "AssertionError",
     "evalue": "x must be positive but x is -5",
     "output_type": "error",
     "traceback": [
      "\u001b[1;31m---------------------------------------------------------------------------\u001b[0m",
      "\u001b[1;31mAssertionError\u001b[0m                            Traceback (most recent call last)",
      "Cell \u001b[1;32mIn[7], line 3\u001b[0m\n\u001b[0;32m      1\u001b[0m \u001b[38;5;66;03m# example for an AssertionError\u001b[39;00m\n\u001b[0;32m      2\u001b[0m x \u001b[38;5;241m=\u001b[39m \u001b[38;5;241m-\u001b[39m\u001b[38;5;241m5\u001b[39m\n\u001b[1;32m----> 3\u001b[0m \u001b[38;5;28;01massert\u001b[39;00m x \u001b[38;5;241m>\u001b[39m \u001b[38;5;241m0\u001b[39m, (\u001b[38;5;124mf\u001b[39m\u001b[38;5;124m\"\u001b[39m\u001b[38;5;124mx must be positive but x is \u001b[39m\u001b[38;5;132;01m{\u001b[39;00mx\u001b[38;5;132;01m}\u001b[39;00m\u001b[38;5;124m\"\u001b[39m)\n",
      "\u001b[1;31mAssertionError\u001b[0m: x must be positive but x is -5"
     ]
    }
   ],
   "source": [
    "# example for an AssertionError\n",
    "x = -5\n",
    "assert x > 0, (f\"x must be positive but x is {x}\")"
   ]
  },
  {
   "cell_type": "code",
   "execution_count": 9,
   "id": "bec91272-f7d6-48c7-b872-5d20e7452195",
   "metadata": {},
   "outputs": [
    {
     "ename": "ModuleNotFoundError",
     "evalue": "No module named 'panda'",
     "output_type": "error",
     "traceback": [
      "\u001b[1;31m---------------------------------------------------------------------------\u001b[0m",
      "\u001b[1;31mModuleNotFoundError\u001b[0m                       Traceback (most recent call last)",
      "Cell \u001b[1;32mIn[9], line 2\u001b[0m\n\u001b[0;32m      1\u001b[0m \u001b[38;5;66;03m# example for an ImportError\u001b[39;00m\n\u001b[1;32m----> 2\u001b[0m \u001b[38;5;28;01mimport\u001b[39;00m\u001b[38;5;250m \u001b[39m\u001b[38;5;21;01mpanda\u001b[39;00m\n",
      "\u001b[1;31mModuleNotFoundError\u001b[0m: No module named 'panda'"
     ]
    }
   ],
   "source": [
    "# example for an ImportError\n",
    "import panda"
   ]
  },
  {
   "cell_type": "code",
   "execution_count": 11,
   "id": "11245119-16f0-4454-a9a2-559b0a991e74",
   "metadata": {},
   "outputs": [
    {
     "ename": "NameError",
     "evalue": "name 'c' is not defined",
     "output_type": "error",
     "traceback": [
      "\u001b[1;31m---------------------------------------------------------------------------\u001b[0m",
      "\u001b[1;31mNameError\u001b[0m                                 Traceback (most recent call last)",
      "Cell \u001b[1;32mIn[11], line 2\u001b[0m\n\u001b[0;32m      1\u001b[0m \u001b[38;5;66;03m# example for a NameError (c is not defined yet)\u001b[39;00m\n\u001b[1;32m----> 2\u001b[0m \u001b[43mc\u001b[49m\n",
      "\u001b[1;31mNameError\u001b[0m: name 'c' is not defined"
     ]
    }
   ],
   "source": [
    "# example for a NameError (c is not defined yet)\n",
    "c"
   ]
  },
  {
   "cell_type": "code",
   "execution_count": 16,
   "id": "656d5360-e808-4659-bd4c-009c4ea8dc0d",
   "metadata": {},
   "outputs": [
    {
     "ename": "IndentationError",
     "evalue": "unexpected indent (2093409015.py, line 5)",
     "output_type": "error",
     "traceback": [
      "\u001b[1;36m  Cell \u001b[1;32mIn[16], line 5\u001b[1;36m\u001b[0m\n\u001b[1;33m    else:\u001b[0m\n\u001b[1;37m    ^\u001b[0m\n\u001b[1;31mIndentationError\u001b[0m\u001b[1;31m:\u001b[0m unexpected indent\n"
     ]
    }
   ],
   "source": [
    "# example for IndentationError\n",
    "i = 3\n",
    "if i == 2:\n",
    "     print(i)\n",
    "    else:\n",
    "        print(\"i not 2\")"
   ]
  },
  {
   "cell_type": "markdown",
   "id": "ac8ada67-a37b-44b6-9f67-d201ffd8b171",
   "metadata": {},
   "source": [
    "### The `Try` and `except` block\n",
    "+ use the `try` and `except` block to catch and handle exceptions\n",
    "+ `try` block: insert your code that you want to run (e.g., importing a package, reading a file/variable etc.)\n",
    "+ `except` block: capture a specific error type and either solve the error or raise an informative error message to the user\n",
    "+ if no `exception`occurs you won't get any feedback\n",
    "\n",
    "In the following two examples:"
   ]
  },
  {
   "cell_type": "code",
   "execution_count": 4,
   "id": "965702e8-c0f7-4071-a138-a78a5cf04072",
   "metadata": {},
   "outputs": [
    {
     "data": {
      "text/html": [
       "<div>\n",
       "<style scoped>\n",
       "    .dataframe tbody tr th:only-of-type {\n",
       "        vertical-align: middle;\n",
       "    }\n",
       "\n",
       "    .dataframe tbody tr th {\n",
       "        vertical-align: top;\n",
       "    }\n",
       "\n",
       "    .dataframe thead th {\n",
       "        text-align: right;\n",
       "    }\n",
       "</style>\n",
       "<table border=\"1\" class=\"dataframe\">\n",
       "  <thead>\n",
       "    <tr style=\"text-align: right;\">\n",
       "      <th></th>\n",
       "      <th>var</th>\n",
       "    </tr>\n",
       "  </thead>\n",
       "  <tbody>\n",
       "    <tr>\n",
       "      <th>0</th>\n",
       "      <td>1</td>\n",
       "    </tr>\n",
       "    <tr>\n",
       "      <th>1</th>\n",
       "      <td>2</td>\n",
       "    </tr>\n",
       "    <tr>\n",
       "      <th>2</th>\n",
       "      <td>3</td>\n",
       "    </tr>\n",
       "  </tbody>\n",
       "</table>\n",
       "</div>"
      ],
      "text/plain": [
       "   var\n",
       "0    1\n",
       "1    2\n",
       "2    3"
      ]
     },
     "execution_count": 4,
     "metadata": {},
     "output_type": "execute_result"
    }
   ],
   "source": [
    "# try to import a package\n",
    "# if it is not installed yet, installed it\n",
    "try: \n",
    "    import pandas\n",
    "except ModuleNotFoundError:\n",
    "    !pip install pandas\n",
    "\n",
    "pandas.DataFrame({\"var\": [1,2,3]})"
   ]
  },
  {
   "cell_type": "code",
   "execution_count": 8,
   "id": "fc2efb5d-c8fc-4494-9211-22d3fc33519c",
   "metadata": {},
   "outputs": [
    {
     "name": "stdout",
     "output_type": "stream",
     "text": [
      "Can't find file: data.csv in path C:\\Users\\bockting\\Documents\\GitHub\\python-class-24\\full_notebooks\n"
     ]
    }
   ],
   "source": [
    "# try to read some data file from disk\n",
    "import os\n",
    "\n",
    "file = \"data\"\n",
    "path = os.getcwd()\n",
    "\n",
    "try:\n",
    "    pandas.read_csv(f\"{file}.csv\")\n",
    "except FileNotFoundError:\n",
    "    print(f\"Can't find file: {file}.csv in path {path}\")\n",
    "    "
   ]
  },
  {
   "cell_type": "markdown",
   "id": "2e2af57f-27e9-4de0-a7c1-0551eb57903c",
   "metadata": {},
   "source": [
    "### proceeding after successful try with `else`\n",
    "+ with the  `else` statement you can instruct a program to execute a certain block of code only in the absence of exceptions"
   ]
  },
  {
   "cell_type": "code",
   "execution_count": 10,
   "id": "ab1f743a-7dc0-4a0d-9cb2-37e4cc2737ff",
   "metadata": {},
   "outputs": [
    {
     "name": "stdout",
     "output_type": "stream",
     "text": [
      "successful pandas import\n",
      "imported pandas version: 2.2.3\n"
     ]
    }
   ],
   "source": [
    "# try to import a package\n",
    "# if it is not installed yet, installed it\n",
    "# if it is installed, inform about successful import\n",
    "try: \n",
    "    import pandas\n",
    "except ModuleNotFoundError:\n",
    "    !pip install pandas\n",
    "else:\n",
    "    print(\"successful pandas import\")\n",
    "    print(f\"imported pandas version: {pandas.__version__}\")"
   ]
  },
  {
   "cell_type": "markdown",
   "id": "eadcab9d-acb4-421e-932c-c862cb71a6af",
   "metadata": {},
   "source": [
    "### finishing with `finally`\n",
    "+ regardless of whether an exception is encountered, the statements in the `finally` block will always be executed\n",
    "\n",
    "Example:\n",
    "\n",
    "+ we divide two numbers and want that an error is raised if\n",
    "    + the input is of incorrect format\n",
    "    + division by zero occurs\n",
    "+ additionally, we want to inform the user that execution has been finished  "
   ]
  },
  {
   "cell_type": "code",
   "execution_count": 27,
   "id": "08108bef-5188-46b6-b194-c24dfd2ad49d",
   "metadata": {},
   "outputs": [],
   "source": [
    "def divide_numbers(a, b):\n",
    "    try:\n",
    "        result = a / b\n",
    "        print(f\"Result: {result}\")\n",
    "    except ZeroDivisionError:\n",
    "        print(\"Error: Division by zero is not allowed.\")\n",
    "    except TypeError:\n",
    "        print(\"Error: Invalid input type. Please provide numbers.\")\n",
    "    finally:\n",
    "        print(\"Execution completed.\")"
   ]
  },
  {
   "cell_type": "code",
   "execution_count": 32,
   "id": "cda3d49f-d455-41ff-98a5-b46628ef445a",
   "metadata": {},
   "outputs": [
    {
     "name": "stdout",
     "output_type": "stream",
     "text": [
      "Result: 5.0\n",
      "Execution completed.\n"
     ]
    }
   ],
   "source": [
    "divide_numbers(10, 2)  # Normal case"
   ]
  },
  {
   "cell_type": "code",
   "execution_count": 33,
   "id": "ad138150-6a74-4871-950d-e36621dd2f2a",
   "metadata": {},
   "outputs": [
    {
     "name": "stdout",
     "output_type": "stream",
     "text": [
      "Error: Division by zero is not allowed.\n",
      "Execution completed.\n"
     ]
    }
   ],
   "source": [
    "divide_numbers(10, 0)  # ZeroDivisionError case"
   ]
  },
  {
   "cell_type": "code",
   "execution_count": 34,
   "id": "29a4f865-ab55-4269-b67b-eaf3bb536ecc",
   "metadata": {},
   "outputs": [
    {
     "name": "stdout",
     "output_type": "stream",
     "text": [
      "Error: Invalid input type. Please provide numbers.\n",
      "Execution completed.\n"
     ]
    }
   ],
   "source": [
    "divide_numbers(10, \"a\")  # TypeError case"
   ]
  },
  {
   "cell_type": "markdown",
   "id": "a9265e67-4d00-4959-9743-c2d8e78b9385",
   "metadata": {},
   "source": [
    "## `assert` statements vs. `exception` handling\n",
    "\n",
    "+ assert statements are fast and easy to implement (ideal for development)\n",
    "+ Problem: assert statements can be disabled\n",
    "+ exception errors should be used for stable error handling (they can't be disabled)\n",
    "\n",
    "**Example:**\n",
    "+ open a Python editor (e.g., Spyder)\n",
    "+ open a new file and save it as `py-scripts\\error_handling.py`\n",
    "+ copy&paste the following code block in to the python file:\n",
    "    + we create a class object that implements two types of errors, an assertion error and an exception\n",
    "    + we have one required input argument in the `__call__` method, `error_type` that controls which error type should be run\n",
    "    + in order to run this python file in the terminal and pass arguments in the terminal, we use the `sys` package\n",
    "+ save the file "
   ]
  },
  {
   "cell_type": "raw",
   "id": "d3901069-2f59-48d2-a264-8ca33884035e",
   "metadata": {},
   "source": [
    "import sys\n",
    "from typing import Literal\n",
    "\n",
    "class Error():\n",
    "    def __call__(self, error_type: Literal[\"assertion\", \"exception\"]) -> None:\n",
    "        if error_type == \"assertion\":\n",
    "            self._example_assert()\n",
    "        else:\n",
    "            self._example_exception()\n",
    "            \n",
    "    def _example_assert(self):\n",
    "        for number in range(7):\n",
    "            # assertion\n",
    "            assert number > 5, (f\"The number should not exceed 5. ({number=})\")\n",
    "    \n",
    "    def _example_exception(self):\n",
    "        for number in range(7):\n",
    "            # execption\n",
    "            raise Exception(f\"The number should not exceed 5. ({number=})\")\n",
    "\n",
    "# create a class instance\n",
    "error = Error()\n",
    "\n",
    "if __name__ == \"__main__\":\n",
    "    error_type = sys.argv[1]\n",
    "    error(error_type)"
   ]
  },
  {
   "cell_type": "code",
   "execution_count": null,
   "id": "9cd10c79-e1ab-4f87-bb97-4b11abd8e3fc",
   "metadata": {},
   "outputs": [],
   "source": [
    "# enter in Spyder Console:\n",
    "! python py_scripts/error_handling.py \"assertion\""
   ]
  },
  {
   "cell_type": "code",
   "execution_count": 29,
   "id": "644481b5-08dd-4fcf-80e4-f2036a025474",
   "metadata": {},
   "outputs": [
    {
     "name": "stderr",
     "output_type": "stream",
     "text": [
      "Traceback (most recent call last):\n",
      "  File \"C:\\Users\\bockting\\Documents\\GitHub\\python-class-24\\py_scripts\\error_handling.py\", line 25, in <module>\n",
      "    error(error_type)\n",
      "  File \"C:\\Users\\bockting\\Documents\\GitHub\\python-class-24\\py_scripts\\error_handling.py\", line 6, in __call__\n",
      "    self._example_assert()\n",
      "  File \"C:\\Users\\bockting\\Documents\\GitHub\\python-class-24\\py_scripts\\error_handling.py\", line 13, in _example_assert\n",
      "    assert number > 5, (f\"The number should not exceed 5. ({number=})\")\n",
      "           ^^^^^^^^^^\n",
      "AssertionError: The number should not exceed 5. (number=0)\n"
     ]
    }
   ],
   "source": [
    "# enter terminal and select assertion error\n",
    "! python ..\\py_scripts\\error_handling.py \"assertion\""
   ]
  },
  {
   "cell_type": "code",
   "execution_count": null,
   "id": "ef178cf5-ee2c-4afb-9c4f-8a9ec6122d9d",
   "metadata": {},
   "outputs": [],
   "source": [
    "# enter in Spyder Console\n",
    "! python py_scripts/error_handling.py \"exception\""
   ]
  },
  {
   "cell_type": "code",
   "execution_count": 30,
   "id": "f9aae96d-6128-4e74-a0cf-8ecdeb364e18",
   "metadata": {},
   "outputs": [
    {
     "name": "stderr",
     "output_type": "stream",
     "text": [
      "Traceback (most recent call last):\n",
      "  File \"C:\\Users\\bockting\\Documents\\GitHub\\python-class-24\\py_scripts\\error_handling.py\", line 25, in <module>\n",
      "    error(error_type)\n",
      "  File \"C:\\Users\\bockting\\Documents\\GitHub\\python-class-24\\py_scripts\\error_handling.py\", line 8, in __call__\n",
      "    self._example_exception()\n",
      "  File \"C:\\Users\\bockting\\Documents\\GitHub\\python-class-24\\py_scripts\\error_handling.py\", line 18, in _example_exception\n",
      "    raise Exception(f\"The number should not exceed 5. ({number=})\")\n",
      "Exception: The number should not exceed 5. (number=0)\n"
     ]
    }
   ],
   "source": [
    "# enter terminal and select exception error\n",
    "! python ..\\py_scripts\\error_handling.py \"exception\""
   ]
  },
  {
   "cell_type": "markdown",
   "id": "c7e68f2c-e54d-43d2-b2c1-7e1f922f32d4",
   "metadata": {},
   "source": [
    "+ disable assertion errors through the `-O` command line option ([details about -O option](https://docs.python.org/3/using/cmdline.html#cmdoption-O))\n",
    "+ however, it is not possible to disable *exception* errors"
   ]
  },
  {
   "cell_type": "code",
   "execution_count": null,
   "id": "637442d9-1651-4dc9-91ac-db2e417a2554",
   "metadata": {},
   "outputs": [],
   "source": [
    "# enter in Spyder Console\n",
    "! python -O py_scripts/error_handling.py \"assertion\""
   ]
  },
  {
   "cell_type": "code",
   "execution_count": 32,
   "id": "adb69a24-a10a-4741-b798-553539412b63",
   "metadata": {},
   "outputs": [],
   "source": [
    "# enter terminal and select assertion error, use -O option\n",
    "! python -O ..\\py_scripts\\error_handling.py \"assertion\""
   ]
  },
  {
   "cell_type": "code",
   "execution_count": null,
   "id": "697e7bbc-97bb-49ea-ad76-99fd308bb0bc",
   "metadata": {},
   "outputs": [],
   "source": [
    "# enter in Spyder Console\n",
    "! python -O py_scripts/error_handling.py \"exception\""
   ]
  },
  {
   "cell_type": "code",
   "execution_count": 33,
   "id": "21a0a195-9cb2-4312-9d3d-f9ab75cb6cae",
   "metadata": {},
   "outputs": [
    {
     "name": "stderr",
     "output_type": "stream",
     "text": [
      "Traceback (most recent call last):\n",
      "  File \"C:\\Users\\bockting\\Documents\\GitHub\\python-class-24\\py_scripts\\error_handling.py\", line 25, in <module>\n",
      "    error(error_type)\n",
      "  File \"C:\\Users\\bockting\\Documents\\GitHub\\python-class-24\\py_scripts\\error_handling.py\", line 8, in __call__\n",
      "    self._example_exception()\n",
      "  File \"C:\\Users\\bockting\\Documents\\GitHub\\python-class-24\\py_scripts\\error_handling.py\", line 18, in _example_exception\n",
      "    raise Exception(f\"The number should not exceed 5. ({number=})\")\n",
      "Exception: The number should not exceed 5. (number=0)\n"
     ]
    }
   ],
   "source": [
    "# enter terminal and select exception error, use -O option\n",
    "! python -O ..\\py_scripts\\error_handling.py \"exception\""
   ]
  }
 ],
 "metadata": {
  "kernelspec": {
   "display_name": "Python 3 (ipykernel)",
   "language": "python",
   "name": "python3"
  },
  "language_info": {
   "codemirror_mode": {
    "name": "ipython",
    "version": 3
   },
   "file_extension": ".py",
   "mimetype": "text/x-python",
   "name": "python",
   "nbconvert_exporter": "python",
   "pygments_lexer": "ipython3",
   "version": "3.11.11"
  }
 },
 "nbformat": 4,
 "nbformat_minor": 5
}
