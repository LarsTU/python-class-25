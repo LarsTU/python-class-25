{
 "cells": [
  {
   "cell_type": "markdown",
   "id": "f3147d9c-da63-4886-8e8f-9193d57f69f5",
   "metadata": {},
   "source": [
    "# Data structures 1\n",
    "\n",
    "**References**:\n",
    "+ [ThinkPython (book)](https://allendowney.github.io/ThinkPython/)\n",
    "\n",
    "**Content**:\n",
    "+ Strings\n",
    "    + Indexing\n",
    "    + Slices\n",
    "    + Immutable\n",
    "    + Methods\n",
    "    + Regular expressions\n",
    "+ Lists\n",
    "    + list operations\n",
    "    + list methods\n",
    "    + list comprehensions\n",
    "+ Working with lists and strings\n",
    "+ Objects, Values, & Aliasing "
   ]
  },
  {
   "cell_type": "markdown",
   "id": "54db2084-ac6a-48c1-9099-00e511b31e08",
   "metadata": {},
   "source": [
    "## Strings\n",
    "\n",
    "+ A string is a **sequence** of characters\n",
    "+ A character can be a letter, a digit, a punctuation mark, or whitespace\n",
    "\n",
    "### Indexing\n",
    "+ select single letter via indexing (e.g., `word[2]`)\n",
    "+ the index can be an integer, a variable, or an expression\n",
    "+ Note: indexing starts in Python with `0`\n",
    "+ use negative index to count backward from the end"
   ]
  },
  {
   "cell_type": "code",
   "execution_count": 4,
   "id": "7206af14-1bd3-4030-8f58-674683b543d5",
   "metadata": {
    "scrolled": true
   },
   "outputs": [
    {
     "name": "stdout",
     "output_type": "stream",
     "text": [
      "a\n",
      "a\n",
      "n\n"
     ]
    }
   ],
   "source": [
    "# select a letter using indexing\n",
    "# index as integer\n",
    "fruit = \"banana\"\n",
    "print(fruit[1])\n",
    "\n",
    "# index as variable\n",
    "i = 1\n",
    "print(fruit[i])\n",
    "\n",
    "# index as expression\n",
    "print(fruit[i+1])\n",
    "\n",
    "# negative index: get last letter \n",
    "print(fruit[-1])"
   ]
  },
  {
   "cell_type": "markdown",
   "id": "20bcdc9d-0d64-4df6-8ddd-282929f3d0e8",
   "metadata": {},
   "source": [
    "### Slices\n",
    "+ A segment of a string is called a slice\n",
    "+ different types of slices:\n",
    "    + closed form: `[n:m]` returns the part of the string from the nth character to the mth character (excluding the last letter)\n",
    "    + open start: `[:m]` slice starts at the beginning of the string and goes to the mth character\n",
    "    + open end: `[n:]` slice starts at the nth character and goes until the end\n",
    "    + empty set: `[n:n]` yields an empty element"
   ]
  },
  {
   "cell_type": "code",
   "execution_count": 11,
   "id": "ab6ff13f-4785-42d3-b013-74648865a825",
   "metadata": {},
   "outputs": [
    {
     "name": "stdout",
     "output_type": "stream",
     "text": [
      "ana\n",
      "ban\n",
      "ana\n",
      "\n"
     ]
    }
   ],
   "source": [
    "# slices\n",
    "# select the letter 1,2,3\n",
    "print(fruit[1:4])\n",
    "\n",
    "# select first three letters\n",
    "print(fruit[:3])\n",
    "\n",
    "# select last 3 letters\n",
    "print(fruit[-3:])\n",
    "\n",
    "# empty element\n",
    "print(fruit[3:3])"
   ]
  },
  {
   "cell_type": "markdown",
   "id": "0b35cc31-a96e-4341-a098-25241d13a400",
   "metadata": {},
   "source": [
    "### Immutable\n",
    "+ Strings are immutable: you can’t change an existing string by assigning to it a new value"
   ]
  },
  {
   "cell_type": "code",
   "execution_count": 14,
   "id": "3dd1ba17-acbb-49bb-a07a-5076f8b8da97",
   "metadata": {},
   "outputs": [
    {
     "name": "stdout",
     "output_type": "stream",
     "text": [
      "Panana\n"
     ]
    }
   ],
   "source": [
    "# strings are immutable\n",
    "fruit[0] = \"P\" # yields a TypeError\n",
    "\n",
    "# working alternative\n",
    "new_fruit = \"P\" + fruit[1:]\n",
    "print(new_fruit)"
   ]
  },
  {
   "cell_type": "markdown",
   "id": "079d09ba-d157-4d96-a54e-57ad08c7257c",
   "metadata": {},
   "source": [
    "### Comparisons\n",
    "+ evaluate whether\n",
    "    + two strings are equal `==`\n",
    "    + one string comes in alphabetic order before `<` or after `>` another one\n",
    "    + uppercase comes always before lowercase"
   ]
  },
  {
   "cell_type": "code",
   "execution_count": 23,
   "id": "6d9f9f8d-510a-49cc-b0b0-b62cf1fb85d8",
   "metadata": {},
   "outputs": [
    {
     "name": "stdout",
     "output_type": "stream",
     "text": [
      "False\n",
      "True\n",
      "False\n",
      "True\n",
      "True\n",
      "True\n"
     ]
    }
   ],
   "source": [
    "# check whether two strings are equal\n",
    "print( \"Hello\" == \"hello\" )\n",
    "print( \"hello\" == \"hello\" )\n",
    "\n",
    "# check whether first string comes before \"c\" in alphabet\n",
    "print( \"a\" > \"c\" )\n",
    "print( \"a\" < \"b\" )\n",
    "print( \"ba\" < \"bb\" )\n",
    "\n",
    "# uppercase comes before lowercase\n",
    "print( \"A\" < \"a\" )"
   ]
  },
  {
   "cell_type": "markdown",
   "id": "c919436f-0034-46b6-a63c-11d827b10b4c",
   "metadata": {},
   "source": [
    "### Methods\n",
    "+ Strings provide methods that perform a variety of useful operations (overview: `dir(\"string\")`)\n",
    "+ A method call is called an **invocation** (e.g., in the case of `fruit.upper()`, we would say that we are invoking `upper` on `fruit`.\n",
    "+ Example methods:\n",
    "    + `lower`, `upper`\n",
    "    + `replace`\n",
    "    + `split`, `join`\n",
    "    + `startswith`, `endswith`"
   ]
  },
  {
   "cell_type": "code",
   "execution_count": 37,
   "id": "7c8ed843-b6af-4ffd-8f6e-47e3fa4187be",
   "metadata": {},
   "outputs": [
    {
     "name": "stdout",
     "output_type": "stream",
     "text": [
      "Help on built-in function startswith:\n",
      "\n",
      "startswith(...) method of builtins.str instance\n",
      "    S.startswith(prefix[, start[, end]]) -> bool\n",
      "    \n",
      "    Return True if S starts with the specified prefix, False otherwise.\n",
      "    With optional start, test S beginning at that position.\n",
      "    With optional end, stop comparing S at that position.\n",
      "    prefix can also be a tuple of strings to try.\n",
      "\n",
      "BANANA\n",
      "panana\n",
      "['ba', 'a', 'a']\n",
      "True\n"
     ]
    }
   ],
   "source": [
    "# have a look into all methods of strings\n",
    "dir(\"this is a string\")\n",
    "\n",
    "# checkout how a method works\n",
    "help(fruit.startswith)\n",
    "\n",
    "# example methods\n",
    "print( fruit.startswith(\"b\") )\n",
    "print( fruit.upper() )\n",
    "print( fruit.replace(\"b\",\"p\") )\n",
    "print( fruit.split(\"n\") )"
   ]
  },
  {
   "cell_type": "markdown",
   "id": "0bb3d0d1-198b-4ebc-9c4a-3951da93fa87",
   "metadata": {},
   "source": [
    "### Regular expressions\n",
    "+ A module called re provides functions related to regular expressions\n",
    "+ it allows for a lot of tools such as\n",
    "    + check whether specific patterns appear in the text  `re.search(pattern, text)`\n",
    "    + if pattern is not in the text the method will return an empty element\n",
    "    + check for two different types of one pattern (e.g., `re.search(\"col(o|ou)r\", text)`)\n",
    "    + string substitution with `re.sub(pattern, repl, string)`"
   ]
  },
  {
   "cell_type": "code",
   "execution_count": 62,
   "id": "80a514c7-db55-444e-b355-cc76be02abfc",
   "metadata": {},
   "outputs": [
    {
     "name": "stdout",
     "output_type": "stream",
     "text": [
      "<re.Match object; span=(32, 37), match='Bayes'>\n",
      "Priors are a key feature of the Bayesian paradigm.\n",
      "Bayes\n",
      "(32, 37)\n",
      "Bayes\n",
      "None\n",
      "<re.Match object; span=(19, 24), match='color'>\n",
      "The car has a blue color.\n"
     ]
    },
    {
     "name": "stderr",
     "output_type": "stream",
     "text": [
      "Der Befehl \"tail\" ist entweder falsch geschrieben oder\n",
      "konnte nicht gefunden werden.\n"
     ]
    }
   ],
   "source": [
    "import re\n",
    "abstract = \"Priors are a key feature of the Bayesian paradigm.\"\n",
    "\n",
    "# check whether \"Bayes\" appears in abstract\n",
    "result = re.search(\"Bayes\", abstract)\n",
    "print( result )\n",
    "print( result.string ) # return entire text string\n",
    "print( result.group() ) # return pattern\n",
    "print( result.span() ) # return range whether pattern appears in text string\n",
    "# using indexing to check span\n",
    "print( abstract[32:37] )\n",
    "\n",
    "# returns nothing if pattern is not in string \n",
    "null_result = re.search(\"bayes\", abstract)\n",
    "print( null_result )\n",
    "# check whether null_result is empty\n",
    "null_result == None\n",
    "\n",
    "# check for different types of patterns\n",
    "description = \"The sky has a blue color.\"\n",
    "\n",
    "print( re.search(\"col(o|ou)r\", description) )\n",
    "\n",
    "# string substitution\n",
    "print( re.sub(\"sky\", \"car\", description) )"
   ]
  },
  {
   "cell_type": "markdown",
   "id": "12cafed0-cfbf-4ed2-b34a-e432c7a29fe3",
   "metadata": {},
   "source": []
  }
 ],
 "metadata": {
  "kernelspec": {
   "display_name": "Python 3 (ipykernel)",
   "language": "python",
   "name": "python3"
  },
  "language_info": {
   "codemirror_mode": {
    "name": "ipython",
    "version": 3
   },
   "file_extension": ".py",
   "mimetype": "text/x-python",
   "name": "python",
   "nbconvert_exporter": "python",
   "pygments_lexer": "ipython3",
   "version": "3.9.19"
  }
 },
 "nbformat": 4,
 "nbformat_minor": 5
}
