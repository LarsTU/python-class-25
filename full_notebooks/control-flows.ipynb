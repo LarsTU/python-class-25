{
 "cells": [
  {
   "cell_type": "markdown",
   "id": "88f41f82-a77b-46c6-9fe0-8d9845c84a73",
   "metadata": {},
   "source": [
    "# Control flows\n",
    "\n",
    "**References**:\n",
    "+ https://realpython.com/python-traceback/\n",
    "+ Fluent Python\n",
    "\n",
    "**Content**:\n",
    "+ Conditionals\n",
    "    + if-statement\n",
    "    + if-else statement\n",
    "    + chained conditional\n",
    "    + nested conditional\n",
    "    + keyboard input\n",
    "+ Iterations\n",
    "    + for-loop\n",
    "    + looping and counting\n",
    "    + while, break, continue "
   ]
  },
  {
   "cell_type": "markdown",
   "id": "7ec2b06d-0d82-4402-a07c-ad5fcdf71b67",
   "metadata": {},
   "source": [
    "## Conditionals\n",
    "\n",
    "### if-statement\n",
    "+ provides the ability to check conditions and change the behavior of the program accordingly\n",
    "+ `if` is a Python keyword\n",
    "+ structure of an **if-statement**:\n",
    "    + start with Python keyword `if`\n",
    "    + boolean expression after `if` is called the **condition**\n",
    "    + If the condition is true, the statements in the indented block run. If not, they don’t.\n",
    "+ There is no limit to the **number of statements** that can appear in the indented block, but there has to be at least one\n",
    "+ sometimes it is useful to have a block that does nothing; we use `pass` for this (e.g., as a placeholder for code that will be implemented later, but the condition should already be considered in the workflow)"
   ]
  },
  {
   "cell_type": "code",
   "execution_count": 39,
   "id": "94054870-0f62-4702-a605-68baca61db76",
   "metadata": {},
   "outputs": [
    {
     "name": "stdout",
     "output_type": "stream",
     "text": [
      "2 is positive\n"
     ]
    }
   ],
   "source": [
    "# example of an if-statement (change x = 5 and x = -5)\n",
    "# if x is positive print 'x is positive'\n",
    "x = 2\n",
    "if x > 0:\n",
    "    print(x, \"is positive\")\n",
    "\n",
    "# example of an if-statement with a block that does nothing\n",
    "if x < 0:\n",
    "    pass  # TODO: implement how to handle negative values"
   ]
  },
  {
   "cell_type": "markdown",
   "id": "946e799d-d4cd-49a2-85de-3d20a37c1775",
   "metadata": {},
   "source": [
    "### if-else statement\n",
    "+ If the condition is true, the first indented statement runs (after `if`)\n",
    "+ otherwise, the second indented statement runs (after `else`)\n",
    "+ Since the condition must be true or false, exactly one of the alternatives will run.\n",
    "+ The alternatives are called **branches**."
   ]
  },
  {
   "cell_type": "code",
   "execution_count": 19,
   "id": "8a52c492-bae1-4352-8680-a4fba293a0ca",
   "metadata": {},
   "outputs": [
    {
     "name": "stdout",
     "output_type": "stream",
     "text": [
      "x is even\n"
     ]
    }
   ],
   "source": [
    "# example of an if-else statement (change x = 4; x = 5)\n",
    "# if the remainder of x divided by 2 is zero print 'x is even' otherwise 'x is odd'\n",
    "x = 4\n",
    "if x % 2 == 0: \n",
    "    print('x is even') \n",
    "else:\n",
    "    print('x is odd')"
   ]
  },
  {
   "cell_type": "markdown",
   "id": "0068680a-a8ce-4a1c-92e3-9e04751cb712",
   "metadata": {},
   "source": [
    "### Chained conditionals\n",
    "+ Sometimes there are **more than two possibilities** and we need more than two branches.\n",
    "+ One way to express a computation like that is a chained conditional, which includes an `elif` clause\n",
    "+ `elif` is an abbreviation of **else if**\n",
    "+ There is no limit on the number of `elif` clauses\n",
    "+ If there is an `else` clause, it has to be at the end, but there doesn’t have to be one."
   ]
  },
  {
   "cell_type": "code",
   "execution_count": 23,
   "id": "01417afb-63d2-4907-b5cb-3e0d1deb9b35",
   "metadata": {},
   "outputs": [
    {
     "name": "stdout",
     "output_type": "stream",
     "text": [
      "x and y are equal\n"
     ]
    }
   ],
   "source": [
    "# example of a chained conditional\n",
    "# if x is smaller than y print 'x is less than y', if x is greater than y print 'x is greater than y', otherwise print 'x and y are equal'\n",
    "x = 2\n",
    "y = 2\n",
    "\n",
    "if x < y: \n",
    "    print('x is less than y') \n",
    "elif x > y: \n",
    "    print('x is greater than y') \n",
    "else:\n",
    "    print('x and y are equal')"
   ]
  },
  {
   "cell_type": "markdown",
   "id": "3c7555cb-3f7a-4ad4-a24c-004ef2334e04",
   "metadata": {},
   "source": [
    "### Nested conditionals\n",
    "+ One conditional can also be nested within another\n",
    "+ But: nested conditionals can be **difficult to read** and should be avoided\n",
    "+ better: use logical operators (such as `and`, `or`, etc.) to simplify nested conditional statements"
   ]
  },
  {
   "cell_type": "code",
   "execution_count": 33,
   "id": "d559ebed-fa98-4b1e-bdb8-028c2cb9496b",
   "metadata": {},
   "outputs": [
    {
     "name": "stdout",
     "output_type": "stream",
     "text": [
      "x is greater than y\n",
      "x is a positive single-digit number.\n",
      "x is a positive single-digit number.\n"
     ]
    }
   ],
   "source": [
    "# example of a nested conditional\n",
    "# if x equals y print 'x and y are equal', otherwise: if x is smaller than y print 'x is less than y', otherwise print 'x is greater than y'\n",
    "x = 3\n",
    "y = 2\n",
    "\n",
    "if x == y: \n",
    "    print('x and y are equal') \n",
    "else:\n",
    "    if x < y: \n",
    "        print('x is less than y') \n",
    "    else:\n",
    "        print('x is greater than y')\n",
    "\n",
    "# use of logical operators to avoid nested conditionals\n",
    "## example with nested conditional\n",
    "## if x is positive; if x is smaller 10: print 'x is a positive single-digit number'\n",
    "if x > 0: \n",
    "    if x < 10: \n",
    "        print('x is a positive single-digit number.')\n",
    "        \n",
    "## same example with logical operator avoiding nested structure\n",
    "## if x is positive AND smaller 10: print 'x is a positive single-digit number'\n",
    "if x > 0 and x < 10: \n",
    "    print('x is a positive single-digit number.')"
   ]
  },
  {
   "cell_type": "markdown",
   "id": "52c5e4a6-0fd9-4021-98b9-11dbf407085d",
   "metadata": {},
   "source": [
    "### Keyboard input\n",
    "\n",
    "+ Python provides the `input` function which gets **input from the keyboard**.\n",
    "+ When this function is called, the program stops and **waits for the user** to type something.\n",
    "+ When the user presses Return or Enter, the program resumes and raw_input returns what the user typed as a string."
   ]
  },
  {
   "cell_type": "code",
   "execution_count": 35,
   "id": "36bfafa7-73cc-4d75-af9c-50759330f020",
   "metadata": {},
   "outputs": [
    {
     "name": "stdin",
     "output_type": "stream",
     "text": [
      "What is your name? Lars\n"
     ]
    },
    {
     "name": "stdout",
     "output_type": "stream",
     "text": [
      "Hello, Lars\n"
     ]
    }
   ],
   "source": [
    "# Ask the user for their name and welcome the user\n",
    "name = input(\"What is your name?\")\n",
    "print(\"Hello,\", name)"
   ]
  },
  {
   "cell_type": "code",
   "execution_count": 49,
   "id": "961d7b96-54ea-49cf-a379-ade612cbf865",
   "metadata": {},
   "outputs": [
    {
     "name": "stdin",
     "output_type": "stream",
     "text": [
      "a = 756\n",
      "b = 243\n"
     ]
    },
    {
     "name": "stdout",
     "output_type": "stream",
     "text": [
      "756 + 243 = 999\n"
     ]
    }
   ],
   "source": [
    "# ask the user for the input of two numbers, a and b, and return the sum of both numbers\n",
    "a = input(\"a =\")\n",
    "b = input(\"b =\")\n",
    "sum = int(a) + int(b)\n",
    "\n",
    "print(f\"{a} + {b} = {sum}\")"
   ]
  },
  {
   "cell_type": "markdown",
   "id": "4e3aee8a-2679-41ce-8b87-1e4f239fa8a2",
   "metadata": {},
   "source": [
    "## Iteration\n",
    "### for-loop\n",
    "+ An other aspect of control flows is **looping** over objects\n",
    "+ A statement for repetition is the `for` statement\n",
    "+ **syntax** of a `for` statement:\n",
    "    + start with Python keyword `for` followed by a condition (=**header**)\n",
    "    + header ends with a colon\n",
    "    + **body** consists of statements that are in an indented block after the header\n",
    "+ body can contain any number of statements.\n",
    "+ A `for` statement is sometimes called a **loop** because the flow of execution runs through the body and then loops back to the top. "
   ]
  },
  {
   "cell_type": "code",
   "execution_count": 55,
   "id": "d8b92c09-2a60-4bdf-a059-2a214a8a8559",
   "metadata": {},
   "outputs": [
    {
     "name": "stdout",
     "output_type": "stream",
     "text": [
      "1\n",
      "2\n",
      "3\n",
      "4\n",
      "consonant\n",
      "consonant\n",
      "consonant\n",
      "consonant\n",
      "vowel\n",
      "consonant\n"
     ]
    }
   ],
   "source": [
    "# example for a simple for-loop\n",
    "# iterate over a list from 1 to 4 and print the index\n",
    "my_list = [1,2,3,4]\n",
    "for i in my_list:\n",
    "    print(i)\n",
    "\n",
    "# for-loop with conditionals\n",
    "# iterate over each letter in the word 'Hello' and print \"vowel\" if the letter is a vowel or \"consonant\" if the letter is a consonant\n",
    "vowels = \"aeiou\"\n",
    "for letter in \"Python\":\n",
    "    if letter in vowels:\n",
    "        print(\"vowel\")\n",
    "    else:\n",
    "        print(\"consonant\")"
   ]
  },
  {
   "cell_type": "markdown",
   "id": "49ba2e43-408b-4184-b1ea-591b7ea12c40",
   "metadata": {},
   "source": [
    "**Helpful ideas when working with for-loops:**\n",
    "+ use `range` to create a list with a specified range of numbers\n",
    "+ use `zip` to combine two lists\n",
    "+ use `enumerate` to count over a list\n",
    "+ the module [**itertools**](https://docs.python.org/3/library/itertools.html) provides a lot of possibilities to iterate efficiently (e.g., `product`)\n",
    "+ you can use `_` if you want to suppress certain indices"
   ]
  },
  {
   "cell_type": "code",
   "execution_count": 3,
   "id": "9cbf6415-2de5-4afd-aa22-f7fdf70b8502",
   "metadata": {},
   "outputs": [
    {
     "name": "stdout",
     "output_type": "stream",
     "text": [
      "0\n",
      "1\n",
      "2\n",
      "3\n",
      "2\n",
      "3\n",
      "tim@t-online.de\n",
      "lara@aol.com\n",
      "zwic@proton.me\n",
      "user0:tim\n",
      "user1:lara\n",
      "user2:zwic\n",
      "1 1\n",
      "1 2\n",
      "1 3\n",
      "2 1\n",
      "2 2\n",
      "2 3\n",
      "3 1\n",
      "3 2\n",
      "3 3\n",
      "A\n",
      "C\n",
      "O\n"
     ]
    }
   ],
   "source": [
    "# example loop with range\n",
    "for i in range(4):\n",
    "    print(i)\n",
    "\n",
    "# use different starting values for range\n",
    "for i in range(2,4):\n",
    "    print(i)\n",
    "\n",
    "# example loop with zip\n",
    "usernames = [\"tim\", \"lara\", \"zwic\"]\n",
    "domains = [\"t-online.de\", \"aol.com\", \"proton.me\"]\n",
    "for i,j in zip(usernames,domains):\n",
    "    print(i+\"@\"+j)\n",
    "\n",
    "# example loop with enumerate\n",
    "for i,j in enumerate(usernames):\n",
    "    print(\"user\"+str(i)+\":\"+j)\n",
    "\n",
    "# example loop with itertools.product\n",
    "import itertools\n",
    "numbers = [1,2,3]\n",
    "for i,j in itertools.product(numbers, repeat=2):\n",
    "    print(i,j)\n",
    "\n",
    "# example loop with use of nested lists and suppres output with `_`\n",
    "nested_list = [[\"A\",3], [\"C\",5], [\"O\",6]]\n",
    "# we want to loop over letters (but we are not interested in the numbers and suppress this output\n",
    "for i, _ in nested_list:\n",
    "    print(i)"
   ]
  },
  {
   "cell_type": "markdown",
   "id": "e1fcaf94-d5fb-4366-b064-c11eb37c2e5a",
   "metadata": {},
   "source": [
    "### Looping and counting\n",
    "+ A variable used to count the number of times something happens, is called a **counter**\n",
    "+ alternative way of counting is using the incrementation `=+`, `=-`, `=*`"
   ]
  },
  {
   "cell_type": "code",
   "execution_count": 5,
   "id": "6b8c7577-de88-45f9-ad5b-271e38739618",
   "metadata": {},
   "outputs": [
    {
     "name": "stdout",
     "output_type": "stream",
     "text": [
      "number words starting with e: 1\n",
      "number words starting with d: 2\n",
      "number words starting with c: 1\n",
      "0 -2 2\n",
      "2 -4 4\n",
      "4 -6 6\n",
      "6 -8 8\n"
     ]
    }
   ],
   "source": [
    "# count words that start with \"e\" or \"d\"\n",
    "animals = [\"cat\", \"tiger\", \"elephant\", \"dog\", \"dolphin\"]\n",
    "# initialize counters\n",
    "count_e, count_d = 0, 0\n",
    "\n",
    "# loop over words\n",
    "for animal in animals:\n",
    "    if animal.startswith(\"e\"):\n",
    "        count_e = count_e + 1\n",
    "    if animal.startswith(\"d\"):\n",
    "        count_d = count_d + 1\n",
    "# print the number of words starting with e or d\n",
    "print(\"number words starting with e:\", count_e)\n",
    "print(\"number words starting with d:\", count_d)\n",
    "\n",
    "## alternative way of counting\n",
    "# loop over words\n",
    "count_c = 0\n",
    "for animal in animals:\n",
    "    if animal.startswith(\"c\"):\n",
    "        count_c += 1\n",
    "\n",
    "print(\"number words starting with c:\", count_c)\n",
    "\n",
    "# further examples with incrementation *=, -=, +=\n",
    "i, j, k = 0, 0, 0\n",
    "\n",
    "for i in range(4):\n",
    "    i *= 2\n",
    "    j -= 2\n",
    "    k += 2\n",
    "    print(i,j,k)"
   ]
  },
  {
   "cell_type": "markdown",
   "id": "8f25314f-ace4-4ebb-96da-aa648956118a",
   "metadata": {},
   "source": [
    "### While, Break, Continue\n",
    "\n",
    "+ `While` loops over a body until a condition does no longer hold\n",
    "+ `Continue` skips to the next turn of a loop\n",
    "+ `Break` stops the loop early\n",
    "+ Sometimes you don’t know it’s time to end a loop until you get half way through the body. In that case you can use the `break` statement to jump out of the loop.\n"
   ]
  },
  {
   "cell_type": "code",
   "execution_count": 7,
   "id": "e6ff660b-b1c1-4974-9acd-4d6bc59f58b9",
   "metadata": {},
   "outputs": [
    {
     "name": "stdout",
     "output_type": "stream",
     "text": [
      "0  <= 5\n",
      "1  <= 5\n",
      "2  <= 5\n",
      "3  <= 5\n",
      "4  <= 5\n",
      "5  <= 5\n",
      "6\n",
      "0  is even\n",
      "2  is even\n",
      "4  is even\n",
      "i=3; program has been stopped\n"
     ]
    }
   ],
   "source": [
    "# print 'index <= 5' as long as counter is smaller or equal to five\n",
    "i = 0\n",
    "while i <= 5:\n",
    "    print(i, \" <= 5\")\n",
    "    i += 1\n",
    "print(i)\n",
    "# loop over range of numbers and print only even numbers (otherwise skip number)\n",
    "i = 0\n",
    "while i <= 5:\n",
    "    if i %2==0:\n",
    "        print(i, \" is even\")\n",
    "    i += 1\n",
    "\n",
    "# loop over range of numbers and break loop once a particular number has been detected \n",
    "i = 0\n",
    "while i <= 5:\n",
    "    if i==3:\n",
    "        print(\"i=\"+str(i)+\"; program has been stopped\")\n",
    "        break\n",
    "    i += 1"
   ]
  },
  {
   "cell_type": "code",
   "execution_count": 11,
   "id": "56899682-ebc1-4ef0-b388-b5b138d4593b",
   "metadata": {},
   "outputs": [
    {
     "name": "stdout",
     "output_type": "stream",
     "text": [
      "1\n",
      "3\n",
      "5\n",
      "7\n"
     ]
    }
   ],
   "source": [
    "# The loop condition is `True`, which is always true, \n",
    "# so the loop runs until it hits the `break` statement.\n",
    "#while True:\n",
    "#    line = input('> ')\n",
    "#    if line == 'done':\n",
    "#        break\n",
    "#    print(line)\n",
    "# print('Done!')\n",
    "\n",
    "# another example with break and continue\n",
    "# for each number in the range from 1 to 8, do:\n",
    "# if number is eight stop\n",
    "# if number is even return directly to the top and skip the rest\n",
    "for n in range(9):\n",
    "    if n == 8:\n",
    "        break\n",
    "    if n % 2 == 0:\n",
    "        continue\n",
    "    print(n)"
   ]
  }
 ],
 "metadata": {
  "kernelspec": {
   "display_name": "Python [conda env:python-course-25]",
   "language": "python",
   "name": "conda-env-python-course-25-py"
  },
  "language_info": {
   "codemirror_mode": {
    "name": "ipython",
    "version": 3
   },
   "file_extension": ".py",
   "mimetype": "text/x-python",
   "name": "python",
   "nbconvert_exporter": "python",
   "pygments_lexer": "ipython3",
   "version": "3.9.21"
  }
 },
 "nbformat": 4,
 "nbformat_minor": 5
}
