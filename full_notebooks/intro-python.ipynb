{
 "cells": [
  {
   "cell_type": "markdown",
   "id": "72c5eba1-9cd3-4694-ad4b-b5016c88f2ba",
   "metadata": {
    "editable": true,
    "slideshow": {
     "slide_type": ""
    },
    "tags": []
   },
   "source": [
    "# Intro Python\n",
    "**References**:\n",
    "\n",
    "+ [ThinkPython (book)](https://allendowney.github.io/ThinkPython/)\n",
    "+ [RSE course from the Alan Turing Institute](https://github.com/alan-turing-institute/rse-course/tree/main)\n",
    "\n",
    "**Content:**\n",
    "\n",
    "+ Arithmetic operators\n",
    "+ Expressions\n",
    "+ Arithemtic functions\n",
    "+ Strings\n",
    "+ Values and Types\n",
    "+ Variables\n",
    "+ Installing libraries\n",
    "+ Importing libraries and modules"
   ]
  },
  {
   "cell_type": "markdown",
   "id": "e7b664b6-37dd-4e80-950f-51a326f9870b",
   "metadata": {},
   "source": [
    "## Arithemtic operators \n",
    "+ An **arithmetic operator** is a symbol that represents an arithmetic computation like addition and multiplication\n",
    "+ The values the operator is applied to are called *operands*\n",
    "+ Operators for addition, subtraction, multiplication, division and exponentiation (see below)"
   ]
  },
  {
   "cell_type": "code",
   "execution_count": 1,
   "id": "e7c0c683-c342-493a-a1b7-578405e6b480",
   "metadata": {},
   "outputs": [
    {
     "name": "stdout",
     "output_type": "stream",
     "text": [
      "54\n",
      "29\n",
      "8\n",
      "25\n",
      "0.75\n",
      "0\n"
     ]
    }
   ],
   "source": [
    "# addition (plus sign)\n",
    "print(20 + 34)   \n",
    "# subtraction (minus sign) \n",
    "print(30 - 1)\n",
    "# multiplication (asterisk)\n",
    "print(2 * 3)\n",
    "# exponentiation (two asterisks)\n",
    "print(5**2)\n",
    "# division (forward slash)\n",
    "print(3/4)\n",
    "# integer division (double forward slash)\n",
    "# or floor division as it rounds down\n",
    "print(3//4)      "
   ]
  },
  {
   "cell_type": "markdown",
   "id": "0bf8b441-f9e3-4163-836f-7192ddd40c52",
   "metadata": {},
   "source": [
    "**Note on *integer division***\n",
    "+ there are two types of numbers in Python: **integers** (whole numbers) and **floating-point numbers** (numbers with decimal point)\n",
    "+ dividing two integers using / results in a floating-point number\n",
    "+ dividing two integers using // results in an integer\n",
    "\n",
    "## Expressions\n",
    "+ A collection of operators and numbers is called an **expression**\n",
    "+ When more than one operator appears in an expression, the order of evaluation depends on the **rules of precedence**. For mathematical operators, Python follows mathematical convention.\n",
    "    + Parentheses have the highest precedence and can be used to force an expression to evaluate in the order you want.\n",
    "    + Exponentiation has the next highest precedence\n",
    "    + Multiplication and Division have the same precedence, which is higher than Addition and Subtraction, which also have the same precedence\n",
    "    + Operators with the same precedence are evaluated from left to right\n",
    "+ `() > ** > *,/ > +,-`"
   ]
  },
  {
   "cell_type": "code",
   "execution_count": 2,
   "id": "843cba73-5322-408b-b5ed-5c98fad79d56",
   "metadata": {},
   "outputs": [
    {
     "name": "stdout",
     "output_type": "stream",
     "text": [
      "42\n",
      "42\n",
      "102\n"
     ]
    }
   ],
   "source": [
    "# exponentiation before addition\n",
    "print(6 + 6 ** 2)\n",
    "# multiplication before addition\n",
    "print(12 + 5 * 6)\n",
    "# parentheses first\n",
    "print(\n",
    "    (12 + 5) * 6\n",
    ")      "
   ]
  },
  {
   "cell_type": "markdown",
   "id": "52155fa8-6472-4437-9e99-788345a3eb50",
   "metadata": {},
   "source": [
    "## Arithemetic functions\n",
    "+ Python provides a few functions that work with numbers\n",
    "+ In the following a few examples:"
   ]
  },
  {
   "cell_type": "code",
   "execution_count": 7,
   "id": "13f733f7-ecac-48cd-b2f8-555e04405b2e",
   "metadata": {},
   "outputs": [
    {
     "name": "stdout",
     "output_type": "stream",
     "text": [
      "42\n",
      "43\n",
      "4\n"
     ]
    }
   ],
   "source": [
    "# rounds off to the nearest whole number\n",
    "# rounds down\n",
    "print( round(42.2) )\n",
    "# rounds up\n",
    "print( round(42.6) )\n",
    "\n",
    "# compute the absolute value of a number\n",
    "print( abs(-4) )"
   ]
  },
  {
   "cell_type": "markdown",
   "id": "7dbf0074-946f-4089-9e5c-0bd5f46a492f",
   "metadata": {},
   "source": [
    "## Strings\n",
    "+ besides numbers Python can also represent sequences of letters, which are called **strings**\n",
    "+ a string is writen as a sequence of letters in *quotation marks*\n",
    "+ strings can contain spaces, punctuation, and digits\n",
    "+ the use of `+` and `*` operators for strings is allowed\n",
    "+ but the other operators are not allowed\n",
    "+ you can use `len()` to compute the length of a string"
   ]
  },
  {
   "cell_type": "code",
   "execution_count": 16,
   "id": "ae16d3f4-18db-4669-940f-32bdd6a919c5",
   "metadata": {},
   "outputs": [
    {
     "name": "stdout",
     "output_type": "stream",
     "text": [
      "Hello\n",
      "Hello\n",
      "Hello, it's the 1st day\n",
      "Hello, it's me.\n",
      "Hello, it's me me me me \n",
      "5\n"
     ]
    }
   ],
   "source": [
    "# straight quotation marks\n",
    "print( 'Hello' )\n",
    "# double quotation marks\n",
    "print( \"Hello\" )\n",
    "# use spaces, punctuation and digits within string\n",
    "print( \"Hello, it's the 1st day\" )\n",
    "# use `+` for concatenation\n",
    "print( \"Hello, \" + \"it's me\" + \".\" )\n",
    "# use `*` for making multiple copies\n",
    "print( \"Hello, it's \" + \"me \"*4 )\n",
    "# compute length of a string\n",
    "print( len(\"Hello\") )\n",
    "# but the following is not possible:\n",
    "#\"2\" - \"1\"\n",
    "#\"eggs\" / \"bacon\"\n",
    "#\"third\" * \"four\""
   ]
  },
  {
   "cell_type": "markdown",
   "id": "2c0874ee-7521-42b4-97eb-fb03c9e1c8df",
   "metadata": {
    "editable": true,
    "slideshow": {
     "slide_type": ""
    },
    "tags": []
   },
   "source": [
    "## Values and Types\n",
    "+ We have seen sofar different *values*.\n",
    "+ All these values belong to different *types*."
   ]
  },
  {
   "cell_type": "code",
   "execution_count": 17,
   "id": "ae632da1-55cc-41a6-be3a-589f187ef60e",
   "metadata": {
    "editable": true,
    "slideshow": {
     "slide_type": ""
    },
    "tags": []
   },
   "outputs": [
    {
     "name": "stdout",
     "output_type": "stream",
     "text": [
      "<class 'int'>\n",
      "<class 'float'>\n",
      "<class 'str'>\n",
      "<class 'list'>\n",
      "<class 'tuple'>\n",
      "<class 'dict'>\n"
     ]
    }
   ],
   "source": [
    "# integer\n",
    "print( type(1) )         \n",
    "# float (representing a \"real\" number)\n",
    "print( type(1.) )                \n",
    "# string\n",
    "print( type(\"Hello\") )          \n",
    "# list\n",
    "print( type([1,2,3]) )     \n",
    "# tuple\n",
    "print( type((1,2,3)) )            \n",
    "# dictionary\n",
    "print( type({\n",
    "        \"key\": \"value\"\n",
    "        }) )   "
   ]
  },
  {
   "cell_type": "markdown",
   "id": "bdbe7be9-bd51-4e18-a3ff-51fe562eec38",
   "metadata": {},
   "source": [
    "+ The types `int`, `float`, and `str` can be used as functions to convert a variable into the respective type\n",
    "+ working with large numbers\n",
    "    + using commas between numbers will yield a tuple (!)\n",
    "    + but you can use underscores to improve readability"
   ]
  },
  {
   "cell_type": "code",
   "execution_count": 22,
   "id": "67d852a0-5009-4b49-8325-fc8c2c9c2565",
   "metadata": {},
   "outputs": [
    {
     "name": "stdout",
     "output_type": "stream",
     "text": [
      "42\n",
      "42.0\n",
      "124\n",
      "(1, 0, 0)\n",
      "1000000\n",
      "<class 'tuple'>\n",
      "<class 'int'>\n"
     ]
    }
   ],
   "source": [
    "# convert float into integer\n",
    "print( int(42.2) )\n",
    "# convert integer into float\n",
    "print( float(42) )\n",
    "# convert integer into string\n",
    "print( str(124) )\n",
    "\n",
    "# use commas will yield tuple\n",
    "a = 1,000,000   \n",
    "b = 1_000_000\n",
    "print( a )\n",
    "print( b )\n",
    "print( type(a) )\n",
    "print( type(b) )"
   ]
  },
  {
   "cell_type": "markdown",
   "id": "67a0ce49-cb07-47d0-bf67-8ad1fffe3e00",
   "metadata": {},
   "source": [
    "## Variables\n",
    "+ One of the most powerful features of a programming language is the ability to manipulate *variables*. \n",
    "+ A **variable** is a name that refers to a value.\n",
    "+ to create a variable we write an **assignment statement** consisting of three parts: name of the variable, equals operator, expression"
   ]
  },
  {
   "cell_type": "code",
   "execution_count": 17,
   "id": "acda881c-3cb3-47f8-ba2a-e7e7b6b7ae9b",
   "metadata": {},
   "outputs": [],
   "source": [
    "message = \"good morning\"\n",
    "n = 17\n",
    "pi = 3.14\n",
    "names = [\"Lea\", \"Javier\", \"Tim\"]"
   ]
  },
  {
   "cell_type": "markdown",
   "id": "67eee4a2-0dce-4ccb-ae15-bb01b64d67da",
   "metadata": {},
   "source": [
    "**Naming your variables:** \n",
    "+ It is in general possible to use upper and lower case letters but good idea to start with lower case letters\n",
    "+ you can use `_` (underscore) e.g. when you have multiple words\n",
    "+ illegal namings create `syntaxerrors`\n",
    "  + start with numbers\n",
    "  + include illegal characters\n",
    "  + use of Python keywords (The interpreter uses keywords to recognize the structure of the program, and they cannot be used as variable names.)\n",
    "+ don't redefine names that Python already uses (e.g., `int = 6`)\n",
    "+ special case: don't use leading zeros (e.g., `zip = 01234`)"
   ]
  },
  {
   "cell_type": "code",
   "execution_count": 60,
   "id": "dd16fff1-a6bc-48e8-b8ba-73e61df2437a",
   "metadata": {},
   "outputs": [
    {
     "ename": "SyntaxError",
     "evalue": "leading zeros in decimal integer literals are not permitted; use an 0o prefix for octal integers (2369994847.py, line 15)",
     "output_type": "error",
     "traceback": [
      "\u001b[1;36m  Cell \u001b[1;32mIn[60], line 15\u001b[1;36m\u001b[0m\n\u001b[1;33m    zip = 01234\u001b[0m\n\u001b[1;37m          ^\u001b[0m\n\u001b[1;31mSyntaxError\u001b[0m\u001b[1;31m:\u001b[0m leading zeros in decimal integer literals are not permitted; use an 0o prefix for octal integers\n"
     ]
    }
   ],
   "source": [
    "# valid names\n",
    "name = \"Lena\"\n",
    "second_name = \"Marie\"\n",
    "\n",
    "# illegal variable names\n",
    "23seminar = 23 # starting with numbers\n",
    "m@xi      = 23 # illegal symbols\n",
    "nope!      = 23 # illegal symbols\n",
    "class     = 23 # Python keywordShow all Python keywords.\n",
    "zip = 01234 # problem with leading zeros\n",
    "\n",
    "# import module and show all keywords\n",
    "import keyword\n",
    "keyword.kwlist"
   ]
  },
  {
   "cell_type": "markdown",
   "id": "8299dec1-38c2-4cce-8849-d5971e2ad00f",
   "metadata": {},
   "source": [
    "### Conventions (see [PEP 8 style guide](https://peps.python.org/pep-0008/#naming-conventions))\n",
    "**Descriptive Namings**\n",
    "+ `s = \"12345\"` (not so good as uninformative)\n",
    "+  `onetwothreefourfivesixseveneight = \"12345678\"` (not so good as probably a bit too long...)\n",
    "+  `num_range = \"12345678\"` (better)\n",
    "\n",
    "**Naming styles:**\n",
    "+ The following naming styles are commonly distinguished:\n",
    "    + `b` (single lowercase letter)\n",
    "    + `B` (single uppercase letter)\n",
    "    + `lowercase`\n",
    "    + `lower_case_with_underscores`\n",
    "    + `UPPERCASE`\n",
    "    + `UPPER_CASE_WITH_UNDERSCORES`\n",
    "    + `CapitalizedWords` (or `CapWords`, or `CamelCase` – so named because of the bumpy look of its letters). \n",
    "    + `mixedCase` (differs from CapitalizedWords by initial lowercase character!)\n",
    "    + `Capitalized_Words_With_Underscores` (ugly!)\n",
    "\n",
    "**Names to avoid**\n",
    "+ Never use the characters `l`(lowercase letter el), `O` (uppercase letter oh), or `I` (uppercase letter eye) as single character variable names.\n",
    "\n",
    "**Package and Module names**\n",
    "+ Modules should have short, all-lowercase names. Underscores can be used in the module name if it improves readability.\n",
    "+ Python packages should also have short, all-lowercase names, although the use of underscores is discouraged.\n",
    "\n",
    "**Class names**\n",
    "+ Class names should normally use the CapWords convention.\n",
    "\n",
    "**Constants**\n",
    "+ Constants are usually defined on a module level and written in all capital letters with underscores separating words.\n",
    "+ Examples include MAX_OVERFLOW and TOTAL.\n",
    "\n",
    "**Code example**\n",
    "+ from the [BayesFlow](https://bayesflow.org/index.html) package\n",
    "+ https://github.com/stefanradev93/BayesFlow/blob/master/bayesflow/coupling_networks.py"
   ]
  },
  {
   "cell_type": "markdown",
   "id": "6060b43d-0494-402f-9854-0003b226e397",
   "metadata": {},
   "source": [
    "### Installing Libraries\n",
    "+ To install libraries in Python, we use **Git Bash** (through **GitHub Desktop** > **Repository** > *Open in Git Bash*)\n",
    "+ make sure that your conda environment is activated in Git Bash\n",
    "    + `conda activate python-course-2024-env` \n",
    "+ let us install the module `NumPy` (we will talk about NumPy later in an extra session)\n",
    "    + on the [website](https://numpy.org/install/) we get installation instructions that we should always follow\n",
    "    + here we use `pip`:"
   ]
  },
  {
   "cell_type": "raw",
   "id": "47c2e7fc-a1b7-4244-b1d5-c61176a3dfb7",
   "metadata": {},
   "source": [
    "%Git Bash\n",
    "pip install numpy"
   ]
  },
  {
   "cell_type": "markdown",
   "id": "0af01251-d09f-4ad1-a461-858a50d51b09",
   "metadata": {},
   "source": [
    "+ now import the numpy library and output the version of the installed package"
   ]
  },
  {
   "cell_type": "code",
   "execution_count": null,
   "id": "1d593189-af93-48c3-bdf2-76186669b468",
   "metadata": {},
   "outputs": [],
   "source": [
    "import numpy\n",
    "\n",
    "print(f'Numpy version: {numpy.__version__}')"
   ]
  },
  {
   "cell_type": "markdown",
   "id": "e2211661-e4ce-40f5-96e4-687d9d0698ed",
   "metadata": {},
   "source": [
    "### Importing Libraries and Modules\n",
    "+ Let's explore different ways to import libraries and modules:"
   ]
  },
  {
   "cell_type": "code",
   "execution_count": null,
   "id": "ba456f5c-cb24-43f2-a402-1b9fa0a3f2b6",
   "metadata": {},
   "outputs": [],
   "source": [
    "# import whole libraries\n",
    "import numpy\n",
    "import math\n",
    "\n",
    "# With alias\n",
    "import numpy as np\n",
    "\n",
    "# Specific modules\n",
    "from numpy import linalg\n",
    "from numpy import random\n",
    "\n",
    "# Specific functions\n",
    "from math import log\n",
    "from numpy.random import rand"
   ]
  },
  {
   "cell_type": "markdown",
   "id": "3f6faf31-a1fa-4cff-8d19-594d00c4dcf5",
   "metadata": {},
   "source": [
    "### Accessing Modules After Importing\n",
    "+ Let's practice accessing modules and functions after importing:"
   ]
  },
  {
   "cell_type": "code",
   "execution_count": null,
   "id": "598a98eb-7ba7-4b1d-81c5-73f75dcf3f12",
   "metadata": {},
   "outputs": [],
   "source": [
    "import numpy as np\n",
    "\n",
    "# Create a random vector\n",
    "X = np.random.rand(1000)\n",
    "\n",
    "# Compute standard deviation\n",
    "std_dev = np.std(X)\n",
    "print(f\"Standard deviation: {std_dev:.2f}\")"
   ]
  }
 ],
 "metadata": {
  "kernelspec": {
   "display_name": "Python 3 (ipykernel)",
   "language": "python",
   "name": "python3"
  },
  "language_info": {
   "codemirror_mode": {
    "name": "ipython",
    "version": 3
   },
   "file_extension": ".py",
   "mimetype": "text/x-python",
   "name": "python",
   "nbconvert_exporter": "python",
   "pygments_lexer": "ipython3",
   "version": "3.9.19"
  }
 },
 "nbformat": 4,
 "nbformat_minor": 5
}
