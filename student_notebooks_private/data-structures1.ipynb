{
 "cells": [
  {
   "cell_type": "markdown",
   "id": "f3147d9c-da63-4886-8e8f-9193d57f69f5",
   "metadata": {},
   "source": [
    "# Data Structures 1\n",
    "\n",
    "**References**:\n",
    "+ [ThinkPython (book)](https://allendowney.github.io/ThinkPython/)\n",
    "\n",
    "**Content**:\n",
    "+ Strings\n",
    "    + Indexing\n",
    "    + Slices\n",
    "    + Immutable\n",
    "    + Methods\n",
    "    + Regular expressions\n",
    "+ Lists\n",
    "    + list operations\n",
    "    + list methods\n",
    "    + list comprehensions\n",
    "+ Working with lists and strings\n",
    "+ Objects, Values, & Aliasing "
   ]
  },
  {
   "cell_type": "markdown",
   "id": "54db2084-ac6a-48c1-9099-00e511b31e08",
   "metadata": {},
   "source": [
    "## Strings\n",
    "\n",
    "+ A string is a **sequence** of characters\n",
    "+ A character can be a letter, a digit, a punctuation mark, or whitespace\n",
    "\n",
    "### Indexing\n",
    "+ select single letter via indexing (e.g., `word[2]`)\n",
    "+ the index can be an integer, a variable, or an expression\n",
    "+ Note: indexing starts in Python with `0`\n",
    "+ use negative index to count backward from the end"
   ]
  },
  {
   "cell_type": "code",
   "execution_count": 1,
   "id": "7206af14-1bd3-4030-8f58-674683b543d5",
   "metadata": {
    "scrolled": true
   },
   "outputs": [],
   "source": [
    "# select a letter using indexing\n",
    "# index as integer\n",
    "\n",
    "# index as variable\n",
    "\n",
    "# index as expression\n",
    "\n",
    "# negative index: get last letter \n"
   ]
  },
  {
   "cell_type": "markdown",
   "id": "20bcdc9d-0d64-4df6-8ddd-282929f3d0e8",
   "metadata": {},
   "source": [
    "### Slices\n",
    "+ A segment of a string is called a slice\n",
    "+ different types of slices:\n",
    "    + closed form: `[n:m]` returns the part of the string from the nth character to the mth character (excluding the last letter)\n",
    "    + open start: `[:m]` slice starts at the beginning of the string and goes to the mth character\n",
    "    + open end: `[n:]` slice starts at the nth character and goes until the end\n",
    "    + empty set: `[n:n]` yields an empty element"
   ]
  },
  {
   "cell_type": "code",
   "execution_count": 2,
   "id": "ab6ff13f-4785-42d3-b013-74648865a825",
   "metadata": {},
   "outputs": [],
   "source": [
    "# slices\n",
    "# select the letter 1,2,3\n",
    "\n",
    "# select first three letters\n",
    "\n",
    "# select last 3 letters\n",
    "\n",
    "# empty element\n"
   ]
  },
  {
   "cell_type": "markdown",
   "id": "0b35cc31-a96e-4341-a098-25241d13a400",
   "metadata": {},
   "source": [
    "### Immutable\n",
    "+ Strings are immutable: you can’t change an existing string by assigning to it a new value"
   ]
  },
  {
   "cell_type": "code",
   "execution_count": 3,
   "id": "3dd1ba17-acbb-49bb-a07a-5076f8b8da97",
   "metadata": {},
   "outputs": [],
   "source": [
    "# strings are immutable\n",
    "\n",
    "# working alternative\n"
   ]
  },
  {
   "cell_type": "markdown",
   "id": "079d09ba-d157-4d96-a54e-57ad08c7257c",
   "metadata": {},
   "source": [
    "### Comparisons\n",
    "+ evaluate whether\n",
    "    + two strings are equal `==`\n",
    "    + one string comes in alphabetic order before `<` or after `>` another one\n",
    "    + uppercase comes always before lowercase"
   ]
  },
  {
   "cell_type": "code",
   "execution_count": 4,
   "id": "6d9f9f8d-510a-49cc-b0b0-b62cf1fb85d8",
   "metadata": {},
   "outputs": [],
   "source": [
    "# check whether two strings are equal\n",
    "\n",
    "# check whether first string comes before \"c\" in alphabet\n",
    "\n",
    "# uppercase comes before lowercase\n"
   ]
  },
  {
   "cell_type": "markdown",
   "id": "c919436f-0034-46b6-a63c-11d827b10b4c",
   "metadata": {},
   "source": [
    "### Methods\n",
    "+ Strings provide methods that perform a variety of useful operations (overview: `dir(\"string\")`)\n",
    "+ A method call is called an **invocation** (e.g., in the case of `fruit.upper()`, we would say that we are invoking `upper` on `fruit`.\n",
    "+ Example methods:\n",
    "    + `lower`, `upper`\n",
    "    + `replace`\n",
    "    + `split`, `join`\n",
    "    + `startswith`, `endswith`"
   ]
  },
  {
   "cell_type": "code",
   "execution_count": 5,
   "id": "7c8ed843-b6af-4ffd-8f6e-47e3fa4187be",
   "metadata": {},
   "outputs": [],
   "source": [
    "# have a look into all methods of strings\n",
    "\n",
    "# checkout how a method works\n",
    "\n",
    "# example methods\n"
   ]
  },
  {
   "cell_type": "markdown",
   "id": "0bb3d0d1-198b-4ebc-9c4a-3951da93fa87",
   "metadata": {},
   "source": [
    "### Regular expressions\n",
    "+ A module called re provides functions related to regular expressions\n",
    "+ it allows for a lot of tools such as\n",
    "    + check whether specific patterns appear in the text  `re.search(pattern, text)`\n",
    "    + if pattern is not in the text the method will return an empty element\n",
    "    + check for two different types of one pattern (e.g., `re.search(\"col(o|ou)r\", text)`)\n",
    "    + string substitution with `re.sub(pattern, repl, string)`"
   ]
  },
  {
   "cell_type": "code",
   "execution_count": 6,
   "id": "80a514c7-db55-444e-b355-cc76be02abfc",
   "metadata": {},
   "outputs": [],
   "source": [
    "# import the re module\n",
    "\n",
    "# create a variable called abstract \n",
    "\n",
    "# check whether \"Bayes\" appears in abstract\n",
    "\n",
    "# using indexing to check span\n",
    "\n",
    "# returns nothing if pattern is not in string \n",
    "\n",
    "# check whether null_result is empty\n",
    "\n",
    "# check for different types of patterns\n",
    "\n",
    "# string substitution\n"
   ]
  },
  {
   "cell_type": "markdown",
   "id": "a8b1d8e1-b0cf-49df-90c4-b1e7b5de77b0",
   "metadata": {},
   "source": [
    "### 🤩 Hands-on: Try the *String exercises* in the file `exercises-ds`\n",
    "\n",
    "## Lists\n",
    "Python’s basic container type is the list. A list is a **sequence**. \n",
    "\n",
    "+ We can define our own list with square brackets `[ ]`\n",
    "+ Lists do not have to contain just one type; the elements in a list can be of any type\n",
    "    + a list within another list is **nested**\n",
    "+ a list without any elements is called any **empty list**\n",
    "+ we can get the length of a list by using `len(list)` \n",
    "+ to access an element in a list we can use the same indexing methods as we learned it from strings\n",
    "    + but list indexing can be come a bit more complex when we have nested strcutures \n",
    "+ But: A list is **mutable** (i.e., can be modified by assigning a new element)\n",
    "+ we can use the `in` operator to check whether an element appears in the list\n",
    "    + but it does not check elements within the nested structure "
   ]
  },
  {
   "cell_type": "code",
   "execution_count": 10,
   "id": "c394ead4-7bf0-4267-a11e-a67fdb223458",
   "metadata": {},
   "outputs": [
    {
     "data": {
      "text/plain": [
       "True"
      ]
     },
     "execution_count": 10,
     "metadata": {},
     "output_type": "execute_result"
    }
   ],
   "source": [
    "# list elements can be of any type\n",
    "random_list = [1, \"a\", \"list\", [1,2,3]]\n",
    "empty_list = []\n",
    "\n",
    "# length of a list\n",
    "len(random_list)\n",
    "len(empty_list)\n",
    "\n",
    "# indexing nested structures\n",
    "random_list[-1][0]\n",
    "\n",
    "# lists are mutable\n",
    "## replace the first element with a string\n",
    "random_list[0] = \"This is\"\n",
    "random_list\n",
    "\n",
    "# check whether an element appears in the list\n",
    "\"a\" in random_list\n",
    "\"son\" not in random_list\n",
    "\n",
    "# elements in nested lists are not detected\n",
    "2 in random_list"
   ]
  },
  {
   "cell_type": "markdown",
   "id": "a4788116-286b-40d2-84bd-d6de008fef7a",
   "metadata": {},
   "source": [
    "### List operations\n",
    "+ you can perform several operations on lists\n",
    "    + concatenate lists with `+`\n",
    "    + repeat lists with `*`"
   ]
  },
  {
   "cell_type": "code",
   "execution_count": 13,
   "id": "23ed9535-aad0-431a-bbb9-29ffb3fe8763",
   "metadata": {},
   "outputs": [
    {
     "data": {
      "text/plain": [
       "[0, 0, 0, 0, 0, 0, 0, 0, 0, 0]"
      ]
     },
     "execution_count": 13,
     "metadata": {},
     "output_type": "execute_result"
    }
   ],
   "source": [
    "# create two lists\n",
    "list1 = [\"Hello\", \"I\", \"am\"]\n",
    "list2 = [\"Flo\"]\n",
    "\n",
    "# concatenate two lists\n",
    "list1+list2\n",
    "\n",
    "# repeat list 3 times\n",
    "list1*3\n",
    "[0]*10"
   ]
  },
  {
   "cell_type": "markdown",
   "id": "2f753aec-97df-4e38-a365-958d5ee6c3a6",
   "metadata": {},
   "source": [
    "### List methods\n",
    "+ lists come with several built-in methods (see `dir([1,2])`)\n",
    "+ Example methods are:\n",
    "    + `append`, `extent`\n",
    "    + `remove`, `pop`\n",
    "    + `reverse`, `sort`"
   ]
  },
  {
   "cell_type": "code",
   "execution_count": 26,
   "id": "b44c287e-a6cd-4eac-8c44-432ae8838495",
   "metadata": {},
   "outputs": [
    {
     "data": {
      "text/plain": [
       "[4, 3, 2, 1]"
      ]
     },
     "execution_count": 26,
     "metadata": {},
     "output_type": "execute_result"
    }
   ],
   "source": [
    "# see methods of lists\n",
    "dir(list)\n",
    "\n",
    "# example methods\n",
    "#list1.append(\"Flo\")\n",
    "#list1.remove(\"Flo\")\n",
    "#list1.pop(0)\n",
    "num_list = [1,2,3,4]\n",
    "num_list.reverse()\n",
    "num_list"
   ]
  },
  {
   "cell_type": "markdown",
   "id": "804acba9-3cb4-4bf9-a446-5096a77c4b25",
   "metadata": {},
   "source": [
    "### List comprehensions\n",
    "+ A quick way to build a sequence is using a **list comprehension**\n",
    "+ list comprehensions can be very convenient as they are short and concise, but they can be difficult to read by others\n",
    "+ use list comprehensions carefully and consider always readability\n",
    "+ they can be very helpful for initializing multiple lists before running a for-loop"
   ]
  },
  {
   "cell_type": "code",
   "execution_count": 32,
   "id": "10e11cbb-00dd-44c4-b68a-5214e3cd19c5",
   "metadata": {},
   "outputs": [
    {
     "name": "stdout",
     "output_type": "stream",
     "text": [
      "[0, 1, 4, 9, 8, 25, 12, 49]\n",
      "[0, 1, 4, 9, 8, 25, 12, 49]\n"
     ]
    }
   ],
   "source": [
    "# Build a list of Unicode code points from a string\n",
    "# technique 1) using a for-loop\n",
    "symbols = '$%&§&/('\n",
    "codes = []\n",
    "for i in symbols:\n",
    "    codes.append(i)\n",
    "\n",
    "# technique 2) using list comprehensions\n",
    "codes2 = [i for i in symbols]\n",
    "codes2\n",
    "\n",
    "# use list comprehension with if-else conditional\n",
    "## multiply a number by itself if it is odd and add a number by itself if it is even\n",
    "res = 0 \n",
    "res2 = [x+x if x%2 == 0 else x*x for x in range(8)]\n",
    "res2\n",
    "\n",
    "res3 = []\n",
    "for x in range(8):\n",
    "    if x%2 == 0:\n",
    "        res3.append(x+x)\n",
    "    else:\n",
    "        res3.append(x*x)\n",
    "\n",
    "print(res2)\n",
    "print(res3)\n",
    "\n",
    "# use list comprehension with for-loop\n",
    "# Difference between all combinations of two number y and x\n",
    "\n",
    "# example: for-loop with list initialization\n",
    "\n",
    "# alternative: using list comprehension to initalize multiple lists\n"
   ]
  },
  {
   "cell_type": "markdown",
   "id": "f3721d99-d3af-43b1-ac57-5289f48c82ca",
   "metadata": {},
   "source": [
    "## Working with lists and strings\n",
    "+ convert a string into a list `list(string)`\n",
    "+ break down a string into single list elements using `string.split()`\n",
    "+ join single strings into a text string"
   ]
  },
  {
   "cell_type": "code",
   "execution_count": 36,
   "id": "0c577d58-e02d-4a12-a7fc-bbed74ffb11e",
   "metadata": {},
   "outputs": [
    {
     "data": {
      "text/plain": [
       "'Priors are a wonderful key feature of the Bayesian paradigm.'"
      ]
     },
     "execution_count": 36,
     "metadata": {},
     "output_type": "execute_result"
    }
   ],
   "source": [
    "# print variable 'abstract'\n",
    "abstract = \"Priors are a key feature of the Bayesian paradigm.\"\n",
    "\n",
    "# convert string into list\n",
    "list(abstract)\n",
    "\n",
    "# break down text string into words in list\n",
    "in_words = abstract.split()\n",
    "in_words\n",
    "# add a word into the list\n",
    "in_words.insert(3, \"wonderful\")\n",
    "in_words\n",
    "\n",
    "# joint single strings again using whitespace\n",
    "\" \".join(in_words)"
   ]
  },
  {
   "cell_type": "markdown",
   "id": "ed70d091-836a-4ce2-a6a8-f3456508e31b",
   "metadata": {},
   "source": [
    "## Objects, Values, & Aliasing\n",
    "\n",
    "+ two situations:\n",
    "    + (1) variables refer to the same object that has a value (both variables have the same `id()`)\n",
    "    + (2) variables refer to different objects that have each one value; but the values are the same (variables have different `id()`)\n",
    "+ the `id()` function returns a unique id for the specified object\n",
    "+ to check whether two variables refer to the same object, you can use `is`"
   ]
  },
  {
   "cell_type": "code",
   "execution_count": 42,
   "id": "3066124f-b223-4506-9e83-4190128ca45c",
   "metadata": {},
   "outputs": [
    {
     "name": "stdout",
     "output_type": "stream",
     "text": [
      "True\n",
      "True\n",
      "2648068400240 2648068400240\n",
      "False\n",
      "True\n",
      "2648069185600 2648068250688\n"
     ]
    }
   ],
   "source": [
    "# situation (1)\n",
    "# a and b are identical\n",
    "a = \"banana\"\n",
    "b = \"banana\"\n",
    "\n",
    "# two variables refer to the same object \n",
    "print( a is b )\n",
    "print(a == b)\n",
    "print( id(a), id(b) )\n",
    "\n",
    "# situation (2)\n",
    "# c and d are equivalent\n",
    "c = [1,2,3]\n",
    "d = [1,2,3]\n",
    "\n",
    "print( c is d )\n",
    "print( c == d )\n",
    "print( id(c), id(d) )"
   ]
  },
  {
   "cell_type": "markdown",
   "id": "5e5bdb9d-c94b-47ba-a36c-9c466ff0e057",
   "metadata": {},
   "source": [
    "+ create a new object by assigning another object to it (e.g., `b = [1,2,3]; a = b`)\n",
    "    + `a` and `b` refer to an identical object\n",
    "    + for mutable objects (e.g., lists) any changes to `b` will also transfer to `a`\n",
    "    + for immutable objects (e.g., strings) this is less a problem\n",
    "+ An object with more than one reference has more than one name, so we say the object is **aliased**.\n",
    "+ if you want to create a new object as a copy of another object, you can use `a = b.copy()`\n",
    "    + this will create two different objects with the same value "
   ]
  },
  {
   "cell_type": "code",
   "execution_count": 47,
   "id": "2fe76e51-6124-4ded-8ace-0a633bca42b7",
   "metadata": {},
   "outputs": [
    {
     "name": "stdout",
     "output_type": "stream",
     "text": [
      "[1, 2, 3]\n",
      "[1, 4, 3] [1, 4, 3]\n",
      "[1, 4, 3] [1, 2, 3]\n",
      "2648068400448 2648069180160\n"
     ]
    }
   ],
   "source": [
    "# create variable with list of three elements\n",
    "a = [1,2,3]\n",
    "# assign variable to new variable\n",
    "a2 = a\n",
    "# print new variable\n",
    "print( a2 )\n",
    "# both objects are identical\n",
    "a is a2\n",
    "# if you change a you will automatically change a2\n",
    "a[1] = 4\n",
    "print(a, a2)\n",
    "# but what if you just wanted a copy of a? Then use copy\n",
    "b = [1,2,3]\n",
    "b2 = b.copy()\n",
    "b[1] = 4\n",
    "print(b, b2)\n",
    "print( id(b), id(b2) )"
   ]
  },
  {
   "cell_type": "markdown",
   "id": "bd397bdf-7cf2-499c-b6a7-bbd6dd2e8b20",
   "metadata": {},
   "source": [
    "### 🤩 Hands-on: Try the *List exercises* in the file `exercises-ds`"
   ]
  }
 ],
 "metadata": {
  "kernelspec": {
   "display_name": "Python 3 (ipykernel)",
   "language": "python",
   "name": "python3"
  },
  "language_info": {
   "codemirror_mode": {
    "name": "ipython",
    "version": 3
   },
   "file_extension": ".py",
   "mimetype": "text/x-python",
   "name": "python",
   "nbconvert_exporter": "python",
   "pygments_lexer": "ipython3",
   "version": "3.9.19"
  }
 },
 "nbformat": 4,
 "nbformat_minor": 5
}
