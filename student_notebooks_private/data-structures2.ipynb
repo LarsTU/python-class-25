{
 "cells": [
  {
   "cell_type": "markdown",
   "id": "130c599a-d64a-4d6f-9c4e-bcfa4f22c6a9",
   "metadata": {},
   "source": [
    "# Data structures 2\n",
    "\n",
    "**Content**:\n",
    "+ Tuples\n",
    "    + Tuple assignment\n",
    "    + Argument packing\n",
    "    + Zip\n",
    "+ Dictionaries\n",
    "    + some general notes\n",
    "    + usage of `in` for dictionaries\n",
    "    + looping and dictionaries\n",
    "+ Dictionaries and lists\n",
    "    + Accumulating a list "
   ]
  },
  {
   "cell_type": "markdown",
   "id": "8153d01b-42e3-4b50-864a-9be9234b0081",
   "metadata": {},
   "source": [
    "## Tuples\n",
    "\n",
    "+ a tuple is an immutable sequence of values \n",
    "+ like lists the values can be of any type and are indexed by integers\n",
    "+ indexing, slicing as we learned it for lists\n",
    "+ concatenation of tuples with `+`\n",
    "+ replication of tuples with `*`\n",
    "+ tuples can be used as keys and values in a dictionnary (we will come to this later)"
   ]
  },
  {
   "cell_type": "code",
   "execution_count": 6,
   "id": "b3cd6545-982b-476e-a732-516d7487b767",
   "metadata": {},
   "outputs": [
    {
     "data": {
      "text/plain": [
       "tuple"
      ]
     },
     "execution_count": 6,
     "metadata": {},
     "output_type": "execute_result"
    }
   ],
   "source": [
    "# a tuple \n",
    "t = (1, 2, \"a\", [1,2,3],\"!\")\n",
    "type(t)\n",
    "\n",
    "# it is good practice to write tuples in round brackets; but it is not required\n",
    "t2 = 1, 2, \"a\", [1,2,3],\"!\"\n",
    "type(t2)\n",
    "\n",
    "# caution when writing a tuple with a single element\n",
    "type( (\"a\") )\n",
    "type( (\"a\",) )\n",
    "\n",
    "# when you want to write an empty tuple you can use the built-in function \n",
    "empty_t = tuple()\n",
    "empty_t\n",
    "type( empty_t )"
   ]
  },
  {
   "cell_type": "markdown",
   "id": "4d2cb864-d559-448e-9150-d8daceab4ed1",
   "metadata": {},
   "source": [
    "### Tuple assignment\n",
    "+ if the left side of an assignment is a tuple, the right side can be any kind of sequence\n",
    "+ you get a `ValueError` if the left and right side don't match"
   ]
  },
  {
   "cell_type": "code",
   "execution_count": 11,
   "id": "fb56055a-8418-45ab-820c-3a6d0f8fcf3e",
   "metadata": {},
   "outputs": [
    {
     "name": "stdout",
     "output_type": "stream",
     "text": [
      "1\n",
      "2\n",
      "test\n",
      "tu-dortmund.de\n"
     ]
    },
    {
     "ename": "ValueError",
     "evalue": "not enough values to unpack (expected 3, got 2)",
     "output_type": "error",
     "traceback": [
      "\u001b[1;31m---------------------------------------------------------------------------\u001b[0m",
      "\u001b[1;31mValueError\u001b[0m                                Traceback (most recent call last)",
      "Cell \u001b[1;32mIn[11], line 14\u001b[0m\n\u001b[0;32m     10\u001b[0m \u001b[38;5;28mprint\u001b[39m(domain)\n\u001b[0;32m     12\u001b[0m \u001b[38;5;66;03m# left and right assignment do not match\u001b[39;00m\n\u001b[0;32m     13\u001b[0m \u001b[38;5;66;03m# a, b = (1,2,3)\u001b[39;00m\n\u001b[1;32m---> 14\u001b[0m a, b, c \u001b[38;5;241m=\u001b[39m (\u001b[38;5;241m1\u001b[39m, \u001b[38;5;241m2\u001b[39m)\n",
      "\u001b[1;31mValueError\u001b[0m: not enough values to unpack (expected 3, got 2)"
     ]
    }
   ],
   "source": [
    "# right is assigned to the left\n",
    "a, b = (1,2)\n",
    "print(a)\n",
    "print(b)\n",
    "\n",
    "# more general assignments\n",
    "email = \"test@tu-dortmund.de\"\n",
    "user, domain = email.split(\"@\")\n",
    "print(user)\n",
    "print(domain)\n",
    "\n",
    "# left and right assignment do not match\n",
    "# a, b = (1,2,3)\n",
    "# a, b, c = (1, 2)"
   ]
  },
  {
   "cell_type": "markdown",
   "id": "fd166ce3-ace2-4cdc-a32a-97017a01d2e2",
   "metadata": {},
   "source": [
    "### Argument packing\n",
    "+ A parameter name that begins with the `*` operator packs arguments into a tuple.\n",
    "+ If you have a sequence of values and you want to pass them to a function as multiple arguments, you can use the `*` operator to unpack the tuple."
   ]
  },
  {
   "cell_type": "code",
   "execution_count": 15,
   "id": "9625819c-0d33-411c-a573-ebe63c47702c",
   "metadata": {},
   "outputs": [
    {
     "name": "stdout",
     "output_type": "stream",
     "text": [
      "1\n",
      "[2, 3]\n",
      "[1, 2]\n",
      "3\n",
      "1\n",
      "3\n",
      "1\n",
      "7\n"
     ]
    }
   ],
   "source": [
    "# pack remaining values into a list\n",
    "a, *b = (1,2,3)\n",
    "print(a)\n",
    "print(b)\n",
    "# pack everything into a variable except the last value\n",
    "*a, b = (1,2,3)\n",
    "print(a)\n",
    "print(b)\n",
    "# what if you are only interested in the first and last value?\n",
    "# you can use `_` to suppress variable assignment\n",
    "a, _, b = (1,2,3)\n",
    "print(a)\n",
    "print(b)\n",
    "# you can combine `_` with `*` to pack all values together that you don't want to assign \n",
    "a, *_, b = (1,2,3,4,5,6,7)\n",
    "print(a)\n",
    "print(b)"
   ]
  },
  {
   "cell_type": "markdown",
   "id": "bc0f87b9-e064-4b1e-a3fc-8db448a23d80",
   "metadata": {},
   "source": [
    "### Zip\n",
    "+ tuples are useful for looping through the elements of two sequences\n",
    "+ use list and zip to get a list of pairs\n",
    "+ If you need to loop through the elements of a sequence and their indices, use `enumerate`"
   ]
  },
  {
   "cell_type": "code",
   "execution_count": 21,
   "id": "8f90c21c-5778-480e-8e43-f3f5f76759c2",
   "metadata": {},
   "outputs": [
    {
     "name": "stdout",
     "output_type": "stream",
     "text": [
      "<zip object at 0x000002A003222780>\n",
      "[(1, 'a'), (2, 'b'), (3, 'c'), (4, 'd')]\n",
      "(1, 'a')\n",
      "(2, 'b')\n",
      "(3, 'c')\n",
      "(4, 'd')\n",
      "1 a\n",
      "2 b\n",
      "3 c\n",
      "4 d\n",
      "[(1, 'a'), (2, 'b'), (3, 'c'), (4, 'd')]\n",
      "0 a\n",
      "1 b\n",
      "2 c\n",
      "3 d\n"
     ]
    }
   ],
   "source": [
    "# create two lists\n",
    "id = [1,2,3,4]\n",
    "label = [\"a\", \"b\", \"c\", \"d\"] \n",
    "\n",
    "# loop over two lists \n",
    "print(zip(id, label))\n",
    "print(list(zip(id,label)))\n",
    "\n",
    "for pairs in zip(id, label):\n",
    "    print(pairs)\n",
    "\n",
    "for i,j in zip(id,label):\n",
    "    print(i,j)\n",
    "    \n",
    "# get a list of pairs\n",
    "pair_list = list(zip(id,label))\n",
    "print(pair_list)\n",
    "\n",
    "# loop over a list and create simultaneously indices\n",
    "for i,n in enumerate(label):\n",
    "    print(i,n)"
   ]
  },
  {
   "cell_type": "markdown",
   "id": "a3965d76-5070-4072-9244-89c6c815cbbe",
   "metadata": {},
   "source": [
    "### 🤩 Hands-on: Try the *Tuple exercises* in the file `exercises-ds`\n",
    "\n",
    "## Dictionaries\n",
    "### Some general notes\n",
    "+ a **dictionary** is a mapping from **keys** to **values**\n",
    "+ different ways of creating a dictionary:\n",
    "    + use curly brackets: `dic = {\"key\": value}`\n",
    "    + use built-in function `dic = dict(key = value)` \n",
    "    + start with an empty dictionary `dic = dict()` and add new items: `dict[\"key\"] = value`\n",
    "+ adding items to your dictionary by `dic[\"new_key\"] = new_value`\n",
    "+ get all keys and values of a dictionary by using `keys()`and `values()`\n",
    "+ access the value of a particular key by `dict[key]`\n",
    "+ get the number of items with `len(dict)`"
   ]
  },
  {
   "cell_type": "code",
   "execution_count": 8,
   "id": "b61a98e4-5500-4195-94e6-146d419ffe2c",
   "metadata": {},
   "outputs": [
    {
     "name": "stdout",
     "output_type": "stream",
     "text": [
      "{'key': 12} {'key': 12}\n",
      "{'key': 12}\n",
      "{'key': 12, 'key2': 13, 'key3': 14}\n"
     ]
    },
    {
     "data": {
      "text/plain": [
       "3"
      ]
     },
     "execution_count": 8,
     "metadata": {},
     "output_type": "execute_result"
    }
   ],
   "source": [
    "# different ways of creating dictionaries\n",
    "dict1 = {\"key\": 12}\n",
    "dict2 = dict(key = 12)\n",
    "\n",
    "print(dict1, dict2)\n",
    "\n",
    "# start with an empty dictionary\n",
    "dict3 = dict()\n",
    "dict3[\"key\"] = 12\n",
    "\n",
    "print(dict3)\n",
    "\n",
    "# add further items to dictionary\n",
    "dict3[\"key2\"] = 13\n",
    "dict3[\"key3\"] = 14\n",
    "\n",
    "print(dict3)\n",
    "\n",
    "# you can also directly create a dictionary with multiple items \n",
    "dict4 = {\"key1\": 12, \n",
    "         \"key2\": 13,\n",
    "         \"key3\": 14}\n",
    "dict4\n",
    "\n",
    "# get all keys and values of a dictionary\n",
    "dict4.keys()\n",
    "dict4.values()\n",
    "\n",
    "# access a specific item\n",
    "dict4[\"key2\"]\n",
    "\n",
    "# with len you can get the number of items \n",
    "len(dict4)"
   ]
  },
  {
   "cell_type": "markdown",
   "id": "07e09227-7842-4143-8073-2cfc2da8dd23",
   "metadata": {},
   "source": [
    "+ when you try to access a key that does not exist you get a **KeyError**\n",
    "+ when you create an item with a key that already exists, then the value will be overwritten\n",
    "+ however, its no problem to create a unique key with a value that already exists \n",
    "+ you can create a copy of your dictionary by `dict(original_dict)`"
   ]
  },
  {
   "cell_type": "code",
   "execution_count": 14,
   "id": "cfdec70d-fdd3-49a3-8346-a9035fb108e0",
   "metadata": {},
   "outputs": [
    {
     "name": "stdout",
     "output_type": "stream",
     "text": [
      "1568599391232 1568585400256\n"
     ]
    }
   ],
   "source": [
    "# access a key that does not exist\n",
    "#dict4[\"key4\"]\n",
    "\n",
    "# duplicate keys\n",
    "dict3[\"key3\"] = 3\n",
    "dict3[\"key4\"] = 3\n",
    "dict3\n",
    "\n",
    "# copy a dictionary \n",
    "dict4_copy = dict(dict4)\n",
    "dict4_copy\n",
    "print(id(dict4_copy), id(dict4))"
   ]
  },
  {
   "cell_type": "markdown",
   "id": "46c757b4-542f-4a25-9d8b-5e0506c1af7f",
   "metadata": {},
   "source": [
    "### The **in** operator\n",
    "+ use `in` if you want to know whether something appears as a **key** in the dictionary\n",
    "+ you can combine `in` with the method `.values()` to check whether something appears as a value\n",
    "+ The items in a Python dictionary are stored in a hash table, which is a way of organizing data that has a remarkable property: the in operator takes about the same amount of time no matter how many items are in the dictionary.\n",
    "\n",
    "### Looping and dictionaries\n",
    "+ you can loop over keys and values of a dictionary "
   ]
  },
  {
   "cell_type": "code",
   "execution_count": 27,
   "id": "c4f0ab93-f7f4-413f-abdf-99b8898274ff",
   "metadata": {},
   "outputs": [
    {
     "name": "stdout",
     "output_type": "stream",
     "text": [
      "key1\n",
      "key2\n",
      "key3\n",
      "12\n",
      "13\n",
      "14\n",
      "key1 12\n",
      "key2 13\n",
      "key3 14\n"
     ]
    }
   ],
   "source": [
    "# check whether the key \"key4\" is already in a dictionary\n",
    "\"key5\" in dict3\n",
    "\"key3\" in dict3\n",
    "\n",
    "# check whether 3 appears as a value\n",
    "3 in dict3.values()\n",
    "\n",
    "# loop over keys of a dictionary\n",
    "for key in dict4:\n",
    "    print(key)\n",
    "\n",
    "# loop over values of a dictionary (note that also duplicated values are presented)\n",
    "for value in dict4.values():\n",
    "    print(value)\n",
    "\n",
    "for key, value in zip(dict4, dict4.values()):\n",
    "    print(key, value)"
   ]
  },
  {
   "cell_type": "markdown",
   "id": "7b67c840-80a8-43e5-bffd-0be5680cbe81",
   "metadata": {},
   "source": [
    "## Dictionaries and Lists\n",
    "\n",
    "+ a list can be used as value in a dictionary (but not as a key)\n",
    "    + if you would use a list, you would get an error saying sth. along the line: `unhashable type: 'list'`\n",
    "    + a hash is a function that takes a value (of any kind) and returns an integer. \n",
    "    + therefore the key must be an immutable data structure e.g., tuple, string"
   ]
  },
  {
   "cell_type": "code",
   "execution_count": 31,
   "id": "8c46a180-2c06-4b7e-a574-a85f5ac07b7e",
   "metadata": {},
   "outputs": [
    {
     "data": {
      "text/plain": [
       "{(1, 2, 3): 1}"
      ]
     },
     "execution_count": 31,
     "metadata": {},
     "output_type": "execute_result"
    }
   ],
   "source": [
    "# dictionaries with diverse value types\n",
    "misc_dict = {\n",
    "    \"list\": [1,2,3,4],\n",
    "    \"string\": \"hello\",\n",
    "    \"dict\": {\"key1\": 11, \n",
    "            \"key2\":12}\n",
    "}\n",
    "\n",
    "misc_dict\n",
    "\n",
    "# lists can't be used as key as they are mutable\n",
    "li = [1,2,3]\n",
    "dict_test = dict()\n",
    "#dict_test[li] = 1\n",
    "\n",
    "# using tuples as key works\n",
    "tu = (1,2,3)\n",
    "dict_test[tu] = 1\n",
    "dict_test"
   ]
  },
  {
   "cell_type": "markdown",
   "id": "75ae8720-9062-4a78-a16a-19820b7a5302",
   "metadata": {},
   "source": [
    "### Accumulating a list\n",
    "+ when assign an item with the same key as before, we overwrite the value\n",
    "+ but: What if we want to add the value to the key instead of overwriting it?\n",
    "+ for this we can use the `.append()` method"
   ]
  },
  {
   "cell_type": "code",
   "execution_count": 33,
   "id": "fe4a3021-ce0a-46fb-89c1-d789cfeef44c",
   "metadata": {},
   "outputs": [
    {
     "data": {
      "text/plain": [
       "{'key1': 12, 'key2': 13, 'key3': 14, 'key4': [0, 1, 2, 3, 4, 5, 6]}"
      ]
     },
     "execution_count": 33,
     "metadata": {},
     "output_type": "execute_result"
    }
   ],
   "source": [
    "# appending a list\n",
    "## overwriting elements\n",
    "for new_key in range(7):\n",
    "    dict4[\"key4\"] = new_key\n",
    "\n",
    "dict4\n",
    "\n",
    "## initialize value as a list\n",
    "dict4[\"key4\"] = []\n",
    "for new_key in range(7):\n",
    "    dict4[\"key4\"].append(new_key)\n",
    "\n",
    "dict4"
   ]
  }
 ],
 "metadata": {
  "kernelspec": {
   "display_name": "Python 3 (ipykernel)",
   "language": "python",
   "name": "python3"
  },
  "language_info": {
   "codemirror_mode": {
    "name": "ipython",
    "version": 3
   },
   "file_extension": ".py",
   "mimetype": "text/x-python",
   "name": "python",
   "nbconvert_exporter": "python",
   "pygments_lexer": "ipython3",
   "version": "3.11.9"
  }
 },
 "nbformat": 4,
 "nbformat_minor": 5
}
