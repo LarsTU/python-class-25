{
 "cells": [
  {
   "cell_type": "markdown",
   "id": "c7f7a16e-0877-4de6-9a12-57bdc9c36b07",
   "metadata": {},
   "source": [
    "# Intro into version control with Git and GitHub\n",
    "**References**:\n",
    "\n",
    "+ https://www.git-tower.com/learn/git/faq/restoring-deleted-files\n",
    "\n",
    "**Content:**\n",
    "\n",
    "+ Motivation: Version control with git\n",
    "+ Initialize a repository\n",
    "+ A first basic workflow in git\n",
    "+ Commit history\n",
    "+ Readme file\n",
    "+ Restore a deleted file\n",
    "----------------------\n"
   ]
  },
  {
   "cell_type": "markdown",
   "id": "60c24359-2cb1-41ae-9191-b5963186d89a",
   "metadata": {},
   "source": [
    "## Motivation: version control with git\n",
    "\n",
    "+ Version control is a tool for managing changes to a set of files.\n",
    "+ Why should we care about version control?\n",
    "    + Better kind of backup.\n",
    "    + Review history (“When did I introduce this bug?”).\n",
    "    + Restore older code versions.\n",
    "    + Ability to undo mistakes.\n",
    "    + Maintain several versions of the code at a time.\n",
    "    + Allow for collaboration\n",
    " \n",
    "+ We will use **git** as version control system tool to manage source code history and **GitHub** for hosting service for Git repositories\n",
    "\n",
    "## Initialize a repository\n",
    "+ open **GitHub Desktop** and go to your repository \"python-course-2024\"\n",
    "+ go to the tap **Repository** and click on **Open in GitBash** (a commmand window should open)"
   ]
  },
  {
   "cell_type": "code",
   "execution_count": 1,
   "id": "36aa536c-4f6f-4568-95fc-70d5a052caf2",
   "metadata": {},
   "outputs": [],
   "source": [
    "# list all files in your repo\n",
    "\n",
    "# get current status of your repo\n"
   ]
  },
  {
   "cell_type": "markdown",
   "id": "5929a51a-6b4c-4ad7-8dce-82b241bd038d",
   "metadata": {},
   "source": [
    "+ go back to GitHub Desktop; now we want to publish our local repo on our online GitHub site\n",
    "+ Therefore press the button **Publish repository**\n",
    "    + Keep this code private: True\n",
    "+ go to your online GitHub account, you should see the repo in your online repo list"
   ]
  },
  {
   "cell_type": "markdown",
   "id": "04da72eb-0048-488e-acc5-afa0f02a010f",
   "metadata": {},
   "source": [
    "## A first basic workflow in git\n",
    "\n",
    "### Create a new file"
   ]
  },
  {
   "cell_type": "raw",
   "id": "9835439a-887c-4759-b21e-471c163847f8",
   "metadata": {},
   "source": [
    "# create a new python test-file: \n",
    "\n",
    "# check whether file has been added: \n",
    "\n",
    "# check repo status: \n",
    "\n",
    "\n",
    "On branch main\n",
    "Your branch is up to date with 'origin/main'.\n",
    "\n",
    "Untracked files:\n",
    "  (use \"git add <file>...\" to include in what will be committed)\n",
    "\n",
    "        test.py\n",
    "\n",
    "nothing added to commit but untracked files present (use \"git add\" to track)"
   ]
  },
  {
   "cell_type": "markdown",
   "id": "40a3fff6-6e5a-471e-beba-3264d30e4a40",
   "metadata": {},
   "source": [
    "### Track file and push changes to online repo\n",
    "We would like to keep track of the file's history therefore we have to `add` it to our version control system\n",
    "\n",
    "There are two possibilities: \n",
    "\n",
    "1. Use the command line\n",
    "2. Ust GitHub Desktop\n",
    "\n",
    "**Command line**"
   ]
  },
  {
   "cell_type": "code",
   "execution_count": 2,
   "id": "f2c39f7f-b821-4962-a297-a4b58e107f39",
   "metadata": {
    "scrolled": true
   },
   "outputs": [],
   "source": [
    "# add file to git\n",
    "\n",
    "# Let's have once more a look into our status\n",
    "\n",
    "# Now, we need to tell Git to record the first version of this file in the history of changes\n",
    "\n",
    "# Push file to update online repo\n"
   ]
  },
  {
   "cell_type": "markdown",
   "id": "6238575d-18b1-43af-8df2-79eb050c759f",
   "metadata": {},
   "source": [
    "**GitHub Deskop**\n",
    "+ press **commit changes** (add description if you want)\n",
    "+ update online repo by pressing **Push origin**\n",
    "+ check your online repo whether changes are visible"
   ]
  },
  {
   "cell_type": "markdown",
   "id": "e4a163a5-a8d2-4339-8ea7-3197d1621d42",
   "metadata": {},
   "source": [
    "## Commit history\n",
    "You can see the commit history:\n",
    "+ in GitHub Desktop through the tab *History*\n",
    "+ using the command line by typing: `$ git log`\n",
    "\n",
    "A commit consists of information about \n",
    "+ the author,\n",
    "+ message,\n",
    "+ date, and\n",
    "+ the hash code (e.g., commit d4c3c2014877d35f3181246893beac7fe85fb9d6)\n",
    "    + the hash-code is a unique identifier of that particular revision\n",
    "    + the hash-code is already identifiable via the first elements in the string, therefore you will often see an abbreviation such as *d4c3c20*.\n",
    "+ If you want to see only the last commits, you can use:\n",
    "    + `git log | head`\n",
    "+ If you want to have rather a summary output leaving out all the details, you can use:\n",
    "    + `git log --oneline`\n",
    "+ Let us delete the test.py file from the repo as we don't need it anymore: `$ rm test.py`\n",
    "+ commit and push change\n",
    "\n",
    "## Update the README.md \n",
    "+ Let's do a change in our ReadMe.md\n",
    "    + `$ start README.md` (for Mac: `$ open README.md`)\n",
    "+ A typical README file for a Python package includes the following information:\n",
    "    + Your package's name\n",
    "    + What the package does. Your README file should clearly state the problem(s) that your software is designed to solve and its target audience.\n",
    "    + The current development \"state\" of the package (through badges)\n",
    "    + How to get started with using your package.\n",
    "    + How to contribute to your package\n",
    "    + How to cite your package\n",
    "\n",
    "**Examples:**\n",
    "+ https://github.com/pola-rs/polars/\n",
    "+ https://github.com/scikit-learn/scikit-learn\n",
    "+ https://github.com/pandas-dev/pandas/\n",
    "\n",
    "**Badges:**\n",
    "+ Badge generator: https://michaelcurrin.github.io/badge-generator/#/repo (I think your repo must be public for the algo. to find your repo)\n",
    "+ Badges for different licence types:\n",
    "    +  https://gist.github.com/lukas-h/2a5d00690736b4c3a7ba\n",
    " \n",
    "Update your README.md as follows:"
   ]
  },
  {
   "cell_type": "raw",
   "id": "fe1907e1-369c-40e4-a7e1-76475e7e7ee0",
   "metadata": {},
   "source": [
    "[![License: MIT](https://img.shields.io/badge/License-MIT-yellow.svg)](https://opensource.org/licenses/MIT)\n",
    "\n",
    "# Informative Title\n",
    "\n",
    "About what is your Python package about\n",
    "\n",
    "## Installation\n",
    "will follow\n",
    "\n",
    "## Usage \n",
    "will follow\n",
    "\n",
    "## Contributing\n",
    "will follow\n",
    "\n",
    "## License\n",
    "will follow\n",
    "\n",
    "## Citation\n",
    "will follow"
   ]
  },
  {
   "cell_type": "markdown",
   "id": "c2a7d9c6-91fe-4a4e-8a11-140bd7e817f5",
   "metadata": {},
   "source": [
    "+ Save and close your README.md \n",
    "+ GitHub Desktop: Commit to main and push origin\n",
    "+ have a look at your README.md online\n",
    "\n",
    "## Restore a deleted file\n",
    "\n",
    "+ Consider we now realize deleting test.py was a mistake as there is information that we want to use\n",
    "+ restore a deleted file through your commit history: "
   ]
  },
  {
   "cell_type": "code",
   "execution_count": null,
   "id": "f41d699a-9adf-442f-807c-1eda8cf323b9",
   "metadata": {},
   "outputs": [],
   "source": [
    "# To find the right commit, first check the history for the deleted file:\n",
    "\n",
    "commit 1dac084919454efe06960adaa8023c432102e861\n",
    "Author: Florence Bockting <48919471+florence-bockting@users.noreply.github.com>\n",
    "Date:   Sat Jul 27 12:01:49 2024 +0200\n",
    "\n",
    "    Delete test.py\n",
    "\n",
    "# checkout the file from one commit before deleting the file\n"
   ]
  },
  {
   "cell_type": "markdown",
   "id": "7446986f-ce04-481a-90f9-5380003efb6d",
   "metadata": {},
   "source": [
    "+ GitHub Desktop: Commit to main\n",
    "+ checkout your git *History*\n",
    "+ GitHub Desktop: Push to origin\n",
    "+ check your online repo (you should see again the file test.py and the changes in your README.md should not be affected by restoring the file)"
   ]
  }
 ],
 "metadata": {
  "kernelspec": {
   "display_name": "Python 3 (ipykernel)",
   "language": "python",
   "name": "python3"
  },
  "language_info": {
   "codemirror_mode": {
    "name": "ipython",
    "version": 3
   },
   "file_extension": ".py",
   "mimetype": "text/x-python",
   "name": "python",
   "nbconvert_exporter": "python",
   "pygments_lexer": "ipython3",
   "version": "3.9.19"
  }
 },
 "nbformat": 4,
 "nbformat_minor": 5
}
